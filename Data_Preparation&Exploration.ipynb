{
  "nbformat": 4,
  "nbformat_minor": 0,
  "metadata": {
    "colab": {
      "provenance": [],
      "collapsed_sections": [
        "QySMOPACtzeI",
        "T6O1VuC809mU"
      ],
      "authorship_tag": "ABX9TyPi89sNiG9vU0lSjmyUP/Yi",
      "include_colab_link": true
    },
    "kernelspec": {
      "name": "python3",
      "display_name": "Python 3"
    },
    "language_info": {
      "name": "python"
    }
  },
  "cells": [
    {
      "cell_type": "markdown",
      "metadata": {
        "id": "view-in-github",
        "colab_type": "text"
      },
      "source": [
        "<a href=\"https://colab.research.google.com/github/eunewww/Transcribing_Kaggle/blob/main/Data_Preparation%26Exploration.ipynb\" target=\"_parent\"><img src=\"https://colab.research.google.com/assets/colab-badge.svg\" alt=\"Open In Colab\"/></a>"
      ]
    },
    {
      "cell_type": "markdown",
      "source": [
        "# Use Kaggle datasets in Colab\n",
        "데이터셋 다운받을 때 참고하기"
      ],
      "metadata": {
        "id": "QySMOPACtzeI"
      }
    },
    {
      "cell_type": "code",
      "source": [
        "# colab은 colab 파일당 content 경로가 새로 생성됨\n",
        "# 그 content 경로 내에 자신의 구글드라이브를 마운트하여 연동할 수 있음.\n",
        "# Kaggle_Colab 노트에서 Porto 데이터 셋을 다운받으니 그 노트파일 내에서만 확인 가능한 것으로 보임\n",
        "\n",
        "# 드라이브에 api토큰 업로드하니 바로 데이터셋 다운로드 가능했음.\n",
        "# 그러나 이 방식으로는 토큰이 노출되는 것 같으니, content폴더에 업로드후 드라이브내 숨김폴더에 복사해보겠음"
      ],
      "metadata": {
        "id": "bF_7WN8TL5nn"
      },
      "execution_count": null,
      "outputs": []
    },
    {
      "cell_type": "code",
      "source": [
        "pwd"
      ],
      "metadata": {
        "colab": {
          "base_uri": "https://localhost:8080/",
          "height": 35
        },
        "id": "k-Anjbh4XR_h",
        "outputId": "23bbf3ef-5ee1-4eac-a71b-6644c0151d16"
      },
      "execution_count": 5,
      "outputs": [
        {
          "output_type": "execute_result",
          "data": {
            "text/plain": [
              "'/content'"
            ],
            "application/vnd.google.colaboratory.intrinsic+json": {
              "type": "string"
            }
          },
          "metadata": {},
          "execution_count": 5
        }
      ]
    },
    {
      "cell_type": "code",
      "source": [
        "# /content/에 토큰 업로드\n",
        "from google.colab import files\n",
        "files.upload()"
      ],
      "metadata": {
        "colab": {
          "base_uri": "https://localhost:8080/",
          "height": 385
        },
        "id": "XWvtW5axQ2Is",
        "outputId": "82af574b-d9af-4c7e-a053-31ddc1177a99"
      },
      "execution_count": 6,
      "outputs": [
        {
          "output_type": "display_data",
          "data": {
            "text/plain": [
              "<IPython.core.display.HTML object>"
            ],
            "text/html": [
              "\n",
              "     <input type=\"file\" id=\"files-1e45bf7e-03fb-487b-bf83-110cb6d4bcbb\" name=\"files[]\" multiple disabled\n",
              "        style=\"border:none\" />\n",
              "     <output id=\"result-1e45bf7e-03fb-487b-bf83-110cb6d4bcbb\">\n",
              "      Upload widget is only available when the cell has been executed in the\n",
              "      current browser session. Please rerun this cell to enable.\n",
              "      </output>\n",
              "      <script>// Copyright 2017 Google LLC\n",
              "//\n",
              "// Licensed under the Apache License, Version 2.0 (the \"License\");\n",
              "// you may not use this file except in compliance with the License.\n",
              "// You may obtain a copy of the License at\n",
              "//\n",
              "//      http://www.apache.org/licenses/LICENSE-2.0\n",
              "//\n",
              "// Unless required by applicable law or agreed to in writing, software\n",
              "// distributed under the License is distributed on an \"AS IS\" BASIS,\n",
              "// WITHOUT WARRANTIES OR CONDITIONS OF ANY KIND, either express or implied.\n",
              "// See the License for the specific language governing permissions and\n",
              "// limitations under the License.\n",
              "\n",
              "/**\n",
              " * @fileoverview Helpers for google.colab Python module.\n",
              " */\n",
              "(function(scope) {\n",
              "function span(text, styleAttributes = {}) {\n",
              "  const element = document.createElement('span');\n",
              "  element.textContent = text;\n",
              "  for (const key of Object.keys(styleAttributes)) {\n",
              "    element.style[key] = styleAttributes[key];\n",
              "  }\n",
              "  return element;\n",
              "}\n",
              "\n",
              "// Max number of bytes which will be uploaded at a time.\n",
              "const MAX_PAYLOAD_SIZE = 100 * 1024;\n",
              "\n",
              "function _uploadFiles(inputId, outputId) {\n",
              "  const steps = uploadFilesStep(inputId, outputId);\n",
              "  const outputElement = document.getElementById(outputId);\n",
              "  // Cache steps on the outputElement to make it available for the next call\n",
              "  // to uploadFilesContinue from Python.\n",
              "  outputElement.steps = steps;\n",
              "\n",
              "  return _uploadFilesContinue(outputId);\n",
              "}\n",
              "\n",
              "// This is roughly an async generator (not supported in the browser yet),\n",
              "// where there are multiple asynchronous steps and the Python side is going\n",
              "// to poll for completion of each step.\n",
              "// This uses a Promise to block the python side on completion of each step,\n",
              "// then passes the result of the previous step as the input to the next step.\n",
              "function _uploadFilesContinue(outputId) {\n",
              "  const outputElement = document.getElementById(outputId);\n",
              "  const steps = outputElement.steps;\n",
              "\n",
              "  const next = steps.next(outputElement.lastPromiseValue);\n",
              "  return Promise.resolve(next.value.promise).then((value) => {\n",
              "    // Cache the last promise value to make it available to the next\n",
              "    // step of the generator.\n",
              "    outputElement.lastPromiseValue = value;\n",
              "    return next.value.response;\n",
              "  });\n",
              "}\n",
              "\n",
              "/**\n",
              " * Generator function which is called between each async step of the upload\n",
              " * process.\n",
              " * @param {string} inputId Element ID of the input file picker element.\n",
              " * @param {string} outputId Element ID of the output display.\n",
              " * @return {!Iterable<!Object>} Iterable of next steps.\n",
              " */\n",
              "function* uploadFilesStep(inputId, outputId) {\n",
              "  const inputElement = document.getElementById(inputId);\n",
              "  inputElement.disabled = false;\n",
              "\n",
              "  const outputElement = document.getElementById(outputId);\n",
              "  outputElement.innerHTML = '';\n",
              "\n",
              "  const pickedPromise = new Promise((resolve) => {\n",
              "    inputElement.addEventListener('change', (e) => {\n",
              "      resolve(e.target.files);\n",
              "    });\n",
              "  });\n",
              "\n",
              "  const cancel = document.createElement('button');\n",
              "  inputElement.parentElement.appendChild(cancel);\n",
              "  cancel.textContent = 'Cancel upload';\n",
              "  const cancelPromise = new Promise((resolve) => {\n",
              "    cancel.onclick = () => {\n",
              "      resolve(null);\n",
              "    };\n",
              "  });\n",
              "\n",
              "  // Wait for the user to pick the files.\n",
              "  const files = yield {\n",
              "    promise: Promise.race([pickedPromise, cancelPromise]),\n",
              "    response: {\n",
              "      action: 'starting',\n",
              "    }\n",
              "  };\n",
              "\n",
              "  cancel.remove();\n",
              "\n",
              "  // Disable the input element since further picks are not allowed.\n",
              "  inputElement.disabled = true;\n",
              "\n",
              "  if (!files) {\n",
              "    return {\n",
              "      response: {\n",
              "        action: 'complete',\n",
              "      }\n",
              "    };\n",
              "  }\n",
              "\n",
              "  for (const file of files) {\n",
              "    const li = document.createElement('li');\n",
              "    li.append(span(file.name, {fontWeight: 'bold'}));\n",
              "    li.append(span(\n",
              "        `(${file.type || 'n/a'}) - ${file.size} bytes, ` +\n",
              "        `last modified: ${\n",
              "            file.lastModifiedDate ? file.lastModifiedDate.toLocaleDateString() :\n",
              "                                    'n/a'} - `));\n",
              "    const percent = span('0% done');\n",
              "    li.appendChild(percent);\n",
              "\n",
              "    outputElement.appendChild(li);\n",
              "\n",
              "    const fileDataPromise = new Promise((resolve) => {\n",
              "      const reader = new FileReader();\n",
              "      reader.onload = (e) => {\n",
              "        resolve(e.target.result);\n",
              "      };\n",
              "      reader.readAsArrayBuffer(file);\n",
              "    });\n",
              "    // Wait for the data to be ready.\n",
              "    let fileData = yield {\n",
              "      promise: fileDataPromise,\n",
              "      response: {\n",
              "        action: 'continue',\n",
              "      }\n",
              "    };\n",
              "\n",
              "    // Use a chunked sending to avoid message size limits. See b/62115660.\n",
              "    let position = 0;\n",
              "    do {\n",
              "      const length = Math.min(fileData.byteLength - position, MAX_PAYLOAD_SIZE);\n",
              "      const chunk = new Uint8Array(fileData, position, length);\n",
              "      position += length;\n",
              "\n",
              "      const base64 = btoa(String.fromCharCode.apply(null, chunk));\n",
              "      yield {\n",
              "        response: {\n",
              "          action: 'append',\n",
              "          file: file.name,\n",
              "          data: base64,\n",
              "        },\n",
              "      };\n",
              "\n",
              "      let percentDone = fileData.byteLength === 0 ?\n",
              "          100 :\n",
              "          Math.round((position / fileData.byteLength) * 100);\n",
              "      percent.textContent = `${percentDone}% done`;\n",
              "\n",
              "    } while (position < fileData.byteLength);\n",
              "  }\n",
              "\n",
              "  // All done.\n",
              "  yield {\n",
              "    response: {\n",
              "      action: 'complete',\n",
              "    }\n",
              "  };\n",
              "}\n",
              "\n",
              "scope.google = scope.google || {};\n",
              "scope.google.colab = scope.google.colab || {};\n",
              "scope.google.colab._files = {\n",
              "  _uploadFiles,\n",
              "  _uploadFilesContinue,\n",
              "};\n",
              "})(self);\n",
              "</script> "
            ]
          },
          "metadata": {}
        },
        {
          "output_type": "error",
          "ename": "KeyboardInterrupt",
          "evalue": "ignored",
          "traceback": [
            "\u001b[0;31m---------------------------------------------------------------------------\u001b[0m",
            "\u001b[0;31mKeyboardInterrupt\u001b[0m                         Traceback (most recent call last)",
            "\u001b[0;32m<ipython-input-6-39011d9c5d30>\u001b[0m in \u001b[0;36m<module>\u001b[0;34m\u001b[0m\n\u001b[1;32m      1\u001b[0m \u001b[0;31m# /content/에 토큰 업로드\u001b[0m\u001b[0;34m\u001b[0m\u001b[0;34m\u001b[0m\u001b[0;34m\u001b[0m\u001b[0m\n\u001b[1;32m      2\u001b[0m \u001b[0;32mfrom\u001b[0m \u001b[0mgoogle\u001b[0m\u001b[0;34m.\u001b[0m\u001b[0mcolab\u001b[0m \u001b[0;32mimport\u001b[0m \u001b[0mfiles\u001b[0m\u001b[0;34m\u001b[0m\u001b[0;34m\u001b[0m\u001b[0m\n\u001b[0;32m----> 3\u001b[0;31m \u001b[0mfiles\u001b[0m\u001b[0;34m.\u001b[0m\u001b[0mupload\u001b[0m\u001b[0;34m(\u001b[0m\u001b[0;34m)\u001b[0m\u001b[0;34m\u001b[0m\u001b[0;34m\u001b[0m\u001b[0m\n\u001b[0m",
            "\u001b[0;32m/usr/local/lib/python3.8/dist-packages/google/colab/files.py\u001b[0m in \u001b[0;36mupload\u001b[0;34m()\u001b[0m\n\u001b[1;32m     65\u001b[0m   \"\"\"\n\u001b[1;32m     66\u001b[0m \u001b[0;34m\u001b[0m\u001b[0m\n\u001b[0;32m---> 67\u001b[0;31m   \u001b[0muploaded_files\u001b[0m \u001b[0;34m=\u001b[0m \u001b[0m_upload_files\u001b[0m\u001b[0;34m(\u001b[0m\u001b[0mmultiple\u001b[0m\u001b[0;34m=\u001b[0m\u001b[0;32mTrue\u001b[0m\u001b[0;34m)\u001b[0m\u001b[0;34m\u001b[0m\u001b[0;34m\u001b[0m\u001b[0m\n\u001b[0m\u001b[1;32m     68\u001b[0m   \u001b[0;31m# Mapping from original filename to filename as saved locally.\u001b[0m\u001b[0;34m\u001b[0m\u001b[0;34m\u001b[0m\u001b[0;34m\u001b[0m\u001b[0m\n\u001b[1;32m     69\u001b[0m   \u001b[0mlocal_filenames\u001b[0m \u001b[0;34m=\u001b[0m \u001b[0mdict\u001b[0m\u001b[0;34m(\u001b[0m\u001b[0;34m)\u001b[0m\u001b[0;34m\u001b[0m\u001b[0;34m\u001b[0m\u001b[0m\n",
            "\u001b[0;32m/usr/local/lib/python3.8/dist-packages/google/colab/files.py\u001b[0m in \u001b[0;36m_upload_files\u001b[0;34m(multiple)\u001b[0m\n\u001b[1;32m    142\u001b[0m \u001b[0;34m\u001b[0m\u001b[0m\n\u001b[1;32m    143\u001b[0m   \u001b[0;31m# First result is always an indication that the file picker has completed.\u001b[0m\u001b[0;34m\u001b[0m\u001b[0;34m\u001b[0m\u001b[0;34m\u001b[0m\u001b[0m\n\u001b[0;32m--> 144\u001b[0;31m   result = _output.eval_js(\n\u001b[0m\u001b[1;32m    145\u001b[0m       'google.colab._files._uploadFiles(\"{input_id}\", \"{output_id}\")'.format(\n\u001b[1;32m    146\u001b[0m           input_id=input_id, output_id=output_id))\n",
            "\u001b[0;32m/usr/local/lib/python3.8/dist-packages/google/colab/output/_js.py\u001b[0m in \u001b[0;36meval_js\u001b[0;34m(script, ignore_result, timeout_sec)\u001b[0m\n\u001b[1;32m     38\u001b[0m   \u001b[0;32mif\u001b[0m \u001b[0mignore_result\u001b[0m\u001b[0;34m:\u001b[0m\u001b[0;34m\u001b[0m\u001b[0;34m\u001b[0m\u001b[0m\n\u001b[1;32m     39\u001b[0m     \u001b[0;32mreturn\u001b[0m\u001b[0;34m\u001b[0m\u001b[0;34m\u001b[0m\u001b[0m\n\u001b[0;32m---> 40\u001b[0;31m   \u001b[0;32mreturn\u001b[0m \u001b[0m_message\u001b[0m\u001b[0;34m.\u001b[0m\u001b[0mread_reply_from_input\u001b[0m\u001b[0;34m(\u001b[0m\u001b[0mrequest_id\u001b[0m\u001b[0;34m,\u001b[0m \u001b[0mtimeout_sec\u001b[0m\u001b[0;34m)\u001b[0m\u001b[0;34m\u001b[0m\u001b[0;34m\u001b[0m\u001b[0m\n\u001b[0m\u001b[1;32m     41\u001b[0m \u001b[0;34m\u001b[0m\u001b[0m\n\u001b[1;32m     42\u001b[0m \u001b[0;34m\u001b[0m\u001b[0m\n",
            "\u001b[0;32m/usr/local/lib/python3.8/dist-packages/google/colab/_message.py\u001b[0m in \u001b[0;36mread_reply_from_input\u001b[0;34m(message_id, timeout_sec)\u001b[0m\n\u001b[1;32m     95\u001b[0m     \u001b[0mreply\u001b[0m \u001b[0;34m=\u001b[0m \u001b[0m_read_next_input_message\u001b[0m\u001b[0;34m(\u001b[0m\u001b[0;34m)\u001b[0m\u001b[0;34m\u001b[0m\u001b[0;34m\u001b[0m\u001b[0m\n\u001b[1;32m     96\u001b[0m     \u001b[0;32mif\u001b[0m \u001b[0mreply\u001b[0m \u001b[0;34m==\u001b[0m \u001b[0m_NOT_READY\u001b[0m \u001b[0;32mor\u001b[0m \u001b[0;32mnot\u001b[0m \u001b[0misinstance\u001b[0m\u001b[0;34m(\u001b[0m\u001b[0mreply\u001b[0m\u001b[0;34m,\u001b[0m \u001b[0mdict\u001b[0m\u001b[0;34m)\u001b[0m\u001b[0;34m:\u001b[0m\u001b[0;34m\u001b[0m\u001b[0;34m\u001b[0m\u001b[0m\n\u001b[0;32m---> 97\u001b[0;31m       \u001b[0mtime\u001b[0m\u001b[0;34m.\u001b[0m\u001b[0msleep\u001b[0m\u001b[0;34m(\u001b[0m\u001b[0;36m0.025\u001b[0m\u001b[0;34m)\u001b[0m\u001b[0;34m\u001b[0m\u001b[0;34m\u001b[0m\u001b[0m\n\u001b[0m\u001b[1;32m     98\u001b[0m       \u001b[0;32mcontinue\u001b[0m\u001b[0;34m\u001b[0m\u001b[0;34m\u001b[0m\u001b[0m\n\u001b[1;32m     99\u001b[0m     if (reply.get('type') == 'colab_reply' and\n",
            "\u001b[0;31mKeyboardInterrupt\u001b[0m: "
          ]
        }
      ]
    },
    {
      "cell_type": "code",
      "source": [
        "# 내드라이브 마운트하기\n",
        "from google.colab import drive\n",
        "drive.mount('/content/drive')"
      ],
      "metadata": {
        "colab": {
          "base_uri": "https://localhost:8080/"
        },
        "id": "37U9a8gCM_J4",
        "outputId": "6eb3eb81-69ba-4c1a-910b-51802a239d26"
      },
      "execution_count": 7,
      "outputs": [
        {
          "output_type": "stream",
          "name": "stdout",
          "text": [
            "Drive already mounted at /content/drive; to attempt to forcibly remount, call drive.mount(\"/content/drive\", force_remount=True).\n"
          ]
        }
      ]
    },
    {
      "cell_type": "markdown",
      "source": [
        "숨김폴더'.kaggle' 만들 경로로 이동"
      ],
      "metadata": {
        "id": "8htK83QjohDn"
      }
    },
    {
      "cell_type": "markdown",
      "source": [
        "* 리눅스 명령어 참고  \n",
        " 기본적으로 ls 명령에는 숨겨진 파일이 표시되지 않습니다. Linux에서 숨겨진 파일은 점(.)으로 시작하는 모든 파일입니다.  \n",
        "숨김 파일을 포함한 모든 파일을 표시하려면 -a 옵션을 사용합니다."
      ],
      "metadata": {
        "id": "ucwGVbchdhON"
      }
    },
    {
      "cell_type": "code",
      "source": [
        "cd /content/drive/MyDrive/Colab Notebooks/Transcribing_Kaggle(20221218~)"
      ],
      "metadata": {
        "id": "4YlmMjDFgo6t"
      },
      "execution_count": null,
      "outputs": []
    },
    {
      "cell_type": "code",
      "source": [
        "# 하위 경로에 숨김폴더를 만들어보겠음 안되서 코드 수정함\n",
        "# !mkdir -p ~/.kaggle\n",
        "!mkdir .kaggle"
      ],
      "metadata": {
        "id": "EmUsIHuulmy_"
      },
      "execution_count": null,
      "outputs": []
    },
    {
      "cell_type": "code",
      "source": [
        "!ls"
      ],
      "metadata": {
        "id": "Cfq3r-suoBEL"
      },
      "execution_count": null,
      "outputs": []
    },
    {
      "cell_type": "code",
      "source": [
        "# 드디어만들어졌다ㅜㅜㅜㅜㅜ!\n",
        "!ls -al"
      ],
      "metadata": {
        "id": "ia6Slty_oEbd"
      },
      "execution_count": null,
      "outputs": []
    },
    {
      "cell_type": "markdown",
      "source": [
        "다시 content 경로로 돌아와 토큰을 숨김폴더에 카피"
      ],
      "metadata": {
        "id": "1CH4QogWonVC"
      }
    },
    {
      "cell_type": "code",
      "source": [
        "cd /content/"
      ],
      "metadata": {
        "id": "H38wuMH2oU4K"
      },
      "execution_count": null,
      "outputs": []
    },
    {
      "cell_type": "code",
      "source": [
        "# \"kaggle.json\"인증키를 복사 특수문자는 \"\"로 묶어줌\n",
        "!cp kaggle.json /content/drive/MyDrive/Colab\" \"Notebooks/Transcribing_Kaggle\"(20221218~)\"/.kaggle"
      ],
      "metadata": {
        "id": "9wqpD2WsgNXd"
      },
      "execution_count": null,
      "outputs": []
    },
    {
      "cell_type": "code",
      "source": [
        "# .kaggle로 이동하여 확인\n",
        "cd /content/drive/MyDrive/Colab Notebooks/Transcribing_Kaggle(20221218~)/.kaggle"
      ],
      "metadata": {
        "id": "8lF_d8vVj-nd"
      },
      "execution_count": null,
      "outputs": []
    },
    {
      "cell_type": "code",
      "source": [
        "!ls -al"
      ],
      "metadata": {
        "id": "ZRVRR8T_f7L7"
      },
      "execution_count": null,
      "outputs": []
    },
    {
      "cell_type": "code",
      "source": [
        "# 꼭해야하는건지는 모르겠음. 소유자에만 읽기쓰기 권한을 주는 명령. Permission Warning 방지 \n",
        "# giving rw access (if 401-nathorized)\n",
        "!chmod 600 kaggle.json"
      ],
      "metadata": {
        "id": "bl_Ympi5eh6K"
      },
      "execution_count": null,
      "outputs": []
    },
    {
      "cell_type": "markdown",
      "source": [
        "Transcribing_Kaggle(20221218~)에 데이터셋 다운로드 시도하였으나 json 없다고 안됨.  \n",
        "os.environ['KAGGLE_CONFIG_DIR']를 json있는 숨김폴더로 설정하고 다시 다운로드 진행하니 됨."
      ],
      "metadata": {
        "id": "Cmp-QQvWsUx5"
      }
    },
    {
      "cell_type": "code",
      "source": [
        "import os\n",
        "os.environ['KAGGLE_CONFIG_DIR'] = \"/content/drive/MyDrive/Colab Notebooks/Transcribing_Kaggle(20221218~)/.kaggle\" "
      ],
      "metadata": {
        "id": "jfhr_-JBqLI0"
      },
      "execution_count": null,
      "outputs": []
    },
    {
      "cell_type": "code",
      "source": [
        "cd /content/drive/MyDrive/Colab Notebooks/Transcribing_Kaggle(20221218~)/Safe_driver"
      ],
      "metadata": {
        "id": "8X5lat-mNHsd"
      },
      "execution_count": null,
      "outputs": []
    },
    {
      "cell_type": "code",
      "source": [
        "!kaggle competitions download -c porto-seguro-safe-driver-prediction"
      ],
      "metadata": {
        "id": "Qo-3_pDhGZyf"
      },
      "execution_count": null,
      "outputs": []
    },
    {
      "cell_type": "code",
      "source": [
        "!unzip porto-seguro-safe-driver-prediction.zip"
      ],
      "metadata": {
        "id": "VlyDukqTtV_S"
      },
      "execution_count": null,
      "outputs": []
    },
    {
      "cell_type": "markdown",
      "source": [
        "댓글 참고  \n",
        "As it turns out, there's a way to do that, which is set the environment variable KAGGLE_CONFIG_DIR  \n",
        "\n",
        "If you don't have the json file yet, check the docs for how to get that: link\n",
        "Then upload it to your drive. Mine happens to be at /content/drive/My Drive/fastai-v3/.kaggle/kaggle.json. (ayyy shoutout to the FastAI courses 👌 )\n",
        "Now in colab you can just run:  \n",
        "\n",
        "https://www.kaggle.com/general/51898 "
      ],
      "metadata": {
        "id": "_jG9KE_4ZXpt"
      }
    },
    {
      "cell_type": "markdown",
      "source": [
        "# Data Preparation & Exploration"
      ],
      "metadata": {
        "id": "qIH3mESOuWD9"
      }
    },
    {
      "cell_type": "markdown",
      "source": [
        "### 0. Laoding pachages"
      ],
      "metadata": {
        "id": "ecYgVyy-0w6F"
      }
    },
    {
      "cell_type": "code",
      "source": [
        "\n",
        "import pandas as pd\n",
        "import numpy as np\n",
        "import matplotlib.pyplot as plt\n",
        "import seaborn as sns\n",
        "# from sklearn.preprocessing import Imputer\n",
        "from sklearn.impute import SimpleImputer \n",
        "# imputer = SimpleImputer(missing_values=np.nan, strategy='mean')\n",
        "from sklearn.preprocessing import PolynomialFeatures\n",
        "from sklearn.preprocessing import StandardScaler\n",
        "from sklearn.feature_selection import VarianceThreshold\n",
        "from sklearn.feature_selection import SelectFromModel\n",
        "from sklearn.utils import shuffle\n",
        "from sklearn.ensemble import RandomForestClassifier\n",
        "\n",
        "pd.set_option('display.max_columns', 100)"
      ],
      "metadata": {
        "id": "3nFH2NUIvIdv"
      },
      "execution_count": 112,
      "outputs": []
    },
    {
      "cell_type": "code",
      "source": [
        "pwd"
      ],
      "metadata": {
        "colab": {
          "base_uri": "https://localhost:8080/",
          "height": 35
        },
        "id": "j2FVWIbsuZFz",
        "outputId": "0d766e34-bd0d-4771-dc4d-a59bf6458a0c"
      },
      "execution_count": 113,
      "outputs": [
        {
          "output_type": "execute_result",
          "data": {
            "text/plain": [
              "'/content'"
            ],
            "application/vnd.google.colaboratory.intrinsic+json": {
              "type": "string"
            }
          },
          "metadata": {},
          "execution_count": 113
        }
      ]
    },
    {
      "cell_type": "code",
      "source": [
        "train = pd.read_csv('/content/drive/MyDrive/Colab Notebooks/Transcribing_Kaggle(20221218~)/Safe_driver/train.csv')\n",
        "test = pd.read_csv('/content/drive/MyDrive/Colab Notebooks/Transcribing_Kaggle(20221218~)/Safe_driver/test.csv')"
      ],
      "metadata": {
        "id": "SgAkGucHwqx1"
      },
      "execution_count": 114,
      "outputs": []
    },
    {
      "cell_type": "markdown",
      "source": [
        "### 1. Visual inspection of your data"
      ],
      "metadata": {
        "id": "T6O1VuC809mU"
      }
    },
    {
      "cell_type": "markdown",
      "source": [
        "Excerpt of the the data description for the competition:\n",
        "* Features that belong to similar groupings are tagged as such in the feature names (e.g., ind, reg, car, calc).\n",
        "* Feature names include the postfix bin to indicate binary features and cat to indicate categorical features.\n",
        "* Features without these designations are either continuous or ordinal.\n",
        "* Values of -1 indicate that the feature was missing from the observation.\n",
        "* The target columns signifies whether or not a claim was filed for that policy holder."
      ],
      "metadata": {
        "id": "nHeYauAn1HqN"
      }
    },
    {
      "cell_type": "code",
      "source": [
        "train.head(3)"
      ],
      "metadata": {
        "colab": {
          "base_uri": "https://localhost:8080/",
          "height": 0
        },
        "id": "LSn3yRRWw6cL",
        "outputId": "f524f34f-4159-4b1b-c249-424ddfdc5a9a"
      },
      "execution_count": 115,
      "outputs": [
        {
          "output_type": "execute_result",
          "data": {
            "text/plain": [
              "   id  target  ps_ind_01  ps_ind_02_cat  ps_ind_03  ps_ind_04_cat  \\\n",
              "0   7       0          2              2          5              1   \n",
              "1   9       0          1              1          7              0   \n",
              "2  13       0          5              4          9              1   \n",
              "\n",
              "   ps_ind_05_cat  ps_ind_06_bin  ps_ind_07_bin  ps_ind_08_bin  ps_ind_09_bin  \\\n",
              "0              0              0              1              0              0   \n",
              "1              0              0              0              1              0   \n",
              "2              0              0              0              1              0   \n",
              "\n",
              "   ps_ind_10_bin  ps_ind_11_bin  ps_ind_12_bin  ps_ind_13_bin  ps_ind_14  \\\n",
              "0              0              0              0              0          0   \n",
              "1              0              0              0              0          0   \n",
              "2              0              0              0              0          0   \n",
              "\n",
              "   ps_ind_15  ps_ind_16_bin  ps_ind_17_bin  ps_ind_18_bin  ps_reg_01  \\\n",
              "0         11              0              1              0        0.7   \n",
              "1          3              0              0              1        0.8   \n",
              "2         12              1              0              0        0.0   \n",
              "\n",
              "   ps_reg_02  ps_reg_03  ps_car_01_cat  ps_car_02_cat  ps_car_03_cat  \\\n",
              "0        0.2   0.718070             10              1             -1   \n",
              "1        0.4   0.766078             11              1             -1   \n",
              "2        0.0  -1.000000              7              1             -1   \n",
              "\n",
              "   ps_car_04_cat  ps_car_05_cat  ps_car_06_cat  ps_car_07_cat  ps_car_08_cat  \\\n",
              "0              0              1              4              1              0   \n",
              "1              0             -1             11              1              1   \n",
              "2              0             -1             14              1              1   \n",
              "\n",
              "   ps_car_09_cat  ps_car_10_cat  ps_car_11_cat  ps_car_11  ps_car_12  \\\n",
              "0              0              1             12          2   0.400000   \n",
              "1              2              1             19          3   0.316228   \n",
              "2              2              1             60          1   0.316228   \n",
              "\n",
              "   ps_car_13  ps_car_14  ps_car_15  ps_calc_01  ps_calc_02  ps_calc_03  \\\n",
              "0   0.883679   0.370810   3.605551         0.6         0.5         0.2   \n",
              "1   0.618817   0.388716   2.449490         0.3         0.1         0.3   \n",
              "2   0.641586   0.347275   3.316625         0.5         0.7         0.1   \n",
              "\n",
              "   ps_calc_04  ps_calc_05  ps_calc_06  ps_calc_07  ps_calc_08  ps_calc_09  \\\n",
              "0           3           1          10           1          10           1   \n",
              "1           2           1           9           5           8           1   \n",
              "2           2           2           9           1           8           2   \n",
              "\n",
              "   ps_calc_10  ps_calc_11  ps_calc_12  ps_calc_13  ps_calc_14  ps_calc_15_bin  \\\n",
              "0           5           9           1           5           8               0   \n",
              "1           7           3           1           1           9               0   \n",
              "2           7           4           2           7           7               0   \n",
              "\n",
              "   ps_calc_16_bin  ps_calc_17_bin  ps_calc_18_bin  ps_calc_19_bin  \\\n",
              "0               1               1               0               0   \n",
              "1               1               1               0               1   \n",
              "2               1               1               0               1   \n",
              "\n",
              "   ps_calc_20_bin  \n",
              "0               1  \n",
              "1               0  \n",
              "2               0  "
            ],
            "text/html": [
              "\n",
              "  <div id=\"df-9d3b69b5-1a1a-4000-94af-03a9973c7908\">\n",
              "    <div class=\"colab-df-container\">\n",
              "      <div>\n",
              "<style scoped>\n",
              "    .dataframe tbody tr th:only-of-type {\n",
              "        vertical-align: middle;\n",
              "    }\n",
              "\n",
              "    .dataframe tbody tr th {\n",
              "        vertical-align: top;\n",
              "    }\n",
              "\n",
              "    .dataframe thead th {\n",
              "        text-align: right;\n",
              "    }\n",
              "</style>\n",
              "<table border=\"1\" class=\"dataframe\">\n",
              "  <thead>\n",
              "    <tr style=\"text-align: right;\">\n",
              "      <th></th>\n",
              "      <th>id</th>\n",
              "      <th>target</th>\n",
              "      <th>ps_ind_01</th>\n",
              "      <th>ps_ind_02_cat</th>\n",
              "      <th>ps_ind_03</th>\n",
              "      <th>ps_ind_04_cat</th>\n",
              "      <th>ps_ind_05_cat</th>\n",
              "      <th>ps_ind_06_bin</th>\n",
              "      <th>ps_ind_07_bin</th>\n",
              "      <th>ps_ind_08_bin</th>\n",
              "      <th>ps_ind_09_bin</th>\n",
              "      <th>ps_ind_10_bin</th>\n",
              "      <th>ps_ind_11_bin</th>\n",
              "      <th>ps_ind_12_bin</th>\n",
              "      <th>ps_ind_13_bin</th>\n",
              "      <th>ps_ind_14</th>\n",
              "      <th>ps_ind_15</th>\n",
              "      <th>ps_ind_16_bin</th>\n",
              "      <th>ps_ind_17_bin</th>\n",
              "      <th>ps_ind_18_bin</th>\n",
              "      <th>ps_reg_01</th>\n",
              "      <th>ps_reg_02</th>\n",
              "      <th>ps_reg_03</th>\n",
              "      <th>ps_car_01_cat</th>\n",
              "      <th>ps_car_02_cat</th>\n",
              "      <th>ps_car_03_cat</th>\n",
              "      <th>ps_car_04_cat</th>\n",
              "      <th>ps_car_05_cat</th>\n",
              "      <th>ps_car_06_cat</th>\n",
              "      <th>ps_car_07_cat</th>\n",
              "      <th>ps_car_08_cat</th>\n",
              "      <th>ps_car_09_cat</th>\n",
              "      <th>ps_car_10_cat</th>\n",
              "      <th>ps_car_11_cat</th>\n",
              "      <th>ps_car_11</th>\n",
              "      <th>ps_car_12</th>\n",
              "      <th>ps_car_13</th>\n",
              "      <th>ps_car_14</th>\n",
              "      <th>ps_car_15</th>\n",
              "      <th>ps_calc_01</th>\n",
              "      <th>ps_calc_02</th>\n",
              "      <th>ps_calc_03</th>\n",
              "      <th>ps_calc_04</th>\n",
              "      <th>ps_calc_05</th>\n",
              "      <th>ps_calc_06</th>\n",
              "      <th>ps_calc_07</th>\n",
              "      <th>ps_calc_08</th>\n",
              "      <th>ps_calc_09</th>\n",
              "      <th>ps_calc_10</th>\n",
              "      <th>ps_calc_11</th>\n",
              "      <th>ps_calc_12</th>\n",
              "      <th>ps_calc_13</th>\n",
              "      <th>ps_calc_14</th>\n",
              "      <th>ps_calc_15_bin</th>\n",
              "      <th>ps_calc_16_bin</th>\n",
              "      <th>ps_calc_17_bin</th>\n",
              "      <th>ps_calc_18_bin</th>\n",
              "      <th>ps_calc_19_bin</th>\n",
              "      <th>ps_calc_20_bin</th>\n",
              "    </tr>\n",
              "  </thead>\n",
              "  <tbody>\n",
              "    <tr>\n",
              "      <th>0</th>\n",
              "      <td>7</td>\n",
              "      <td>0</td>\n",
              "      <td>2</td>\n",
              "      <td>2</td>\n",
              "      <td>5</td>\n",
              "      <td>1</td>\n",
              "      <td>0</td>\n",
              "      <td>0</td>\n",
              "      <td>1</td>\n",
              "      <td>0</td>\n",
              "      <td>0</td>\n",
              "      <td>0</td>\n",
              "      <td>0</td>\n",
              "      <td>0</td>\n",
              "      <td>0</td>\n",
              "      <td>0</td>\n",
              "      <td>11</td>\n",
              "      <td>0</td>\n",
              "      <td>1</td>\n",
              "      <td>0</td>\n",
              "      <td>0.7</td>\n",
              "      <td>0.2</td>\n",
              "      <td>0.718070</td>\n",
              "      <td>10</td>\n",
              "      <td>1</td>\n",
              "      <td>-1</td>\n",
              "      <td>0</td>\n",
              "      <td>1</td>\n",
              "      <td>4</td>\n",
              "      <td>1</td>\n",
              "      <td>0</td>\n",
              "      <td>0</td>\n",
              "      <td>1</td>\n",
              "      <td>12</td>\n",
              "      <td>2</td>\n",
              "      <td>0.400000</td>\n",
              "      <td>0.883679</td>\n",
              "      <td>0.370810</td>\n",
              "      <td>3.605551</td>\n",
              "      <td>0.6</td>\n",
              "      <td>0.5</td>\n",
              "      <td>0.2</td>\n",
              "      <td>3</td>\n",
              "      <td>1</td>\n",
              "      <td>10</td>\n",
              "      <td>1</td>\n",
              "      <td>10</td>\n",
              "      <td>1</td>\n",
              "      <td>5</td>\n",
              "      <td>9</td>\n",
              "      <td>1</td>\n",
              "      <td>5</td>\n",
              "      <td>8</td>\n",
              "      <td>0</td>\n",
              "      <td>1</td>\n",
              "      <td>1</td>\n",
              "      <td>0</td>\n",
              "      <td>0</td>\n",
              "      <td>1</td>\n",
              "    </tr>\n",
              "    <tr>\n",
              "      <th>1</th>\n",
              "      <td>9</td>\n",
              "      <td>0</td>\n",
              "      <td>1</td>\n",
              "      <td>1</td>\n",
              "      <td>7</td>\n",
              "      <td>0</td>\n",
              "      <td>0</td>\n",
              "      <td>0</td>\n",
              "      <td>0</td>\n",
              "      <td>1</td>\n",
              "      <td>0</td>\n",
              "      <td>0</td>\n",
              "      <td>0</td>\n",
              "      <td>0</td>\n",
              "      <td>0</td>\n",
              "      <td>0</td>\n",
              "      <td>3</td>\n",
              "      <td>0</td>\n",
              "      <td>0</td>\n",
              "      <td>1</td>\n",
              "      <td>0.8</td>\n",
              "      <td>0.4</td>\n",
              "      <td>0.766078</td>\n",
              "      <td>11</td>\n",
              "      <td>1</td>\n",
              "      <td>-1</td>\n",
              "      <td>0</td>\n",
              "      <td>-1</td>\n",
              "      <td>11</td>\n",
              "      <td>1</td>\n",
              "      <td>1</td>\n",
              "      <td>2</td>\n",
              "      <td>1</td>\n",
              "      <td>19</td>\n",
              "      <td>3</td>\n",
              "      <td>0.316228</td>\n",
              "      <td>0.618817</td>\n",
              "      <td>0.388716</td>\n",
              "      <td>2.449490</td>\n",
              "      <td>0.3</td>\n",
              "      <td>0.1</td>\n",
              "      <td>0.3</td>\n",
              "      <td>2</td>\n",
              "      <td>1</td>\n",
              "      <td>9</td>\n",
              "      <td>5</td>\n",
              "      <td>8</td>\n",
              "      <td>1</td>\n",
              "      <td>7</td>\n",
              "      <td>3</td>\n",
              "      <td>1</td>\n",
              "      <td>1</td>\n",
              "      <td>9</td>\n",
              "      <td>0</td>\n",
              "      <td>1</td>\n",
              "      <td>1</td>\n",
              "      <td>0</td>\n",
              "      <td>1</td>\n",
              "      <td>0</td>\n",
              "    </tr>\n",
              "    <tr>\n",
              "      <th>2</th>\n",
              "      <td>13</td>\n",
              "      <td>0</td>\n",
              "      <td>5</td>\n",
              "      <td>4</td>\n",
              "      <td>9</td>\n",
              "      <td>1</td>\n",
              "      <td>0</td>\n",
              "      <td>0</td>\n",
              "      <td>0</td>\n",
              "      <td>1</td>\n",
              "      <td>0</td>\n",
              "      <td>0</td>\n",
              "      <td>0</td>\n",
              "      <td>0</td>\n",
              "      <td>0</td>\n",
              "      <td>0</td>\n",
              "      <td>12</td>\n",
              "      <td>1</td>\n",
              "      <td>0</td>\n",
              "      <td>0</td>\n",
              "      <td>0.0</td>\n",
              "      <td>0.0</td>\n",
              "      <td>-1.000000</td>\n",
              "      <td>7</td>\n",
              "      <td>1</td>\n",
              "      <td>-1</td>\n",
              "      <td>0</td>\n",
              "      <td>-1</td>\n",
              "      <td>14</td>\n",
              "      <td>1</td>\n",
              "      <td>1</td>\n",
              "      <td>2</td>\n",
              "      <td>1</td>\n",
              "      <td>60</td>\n",
              "      <td>1</td>\n",
              "      <td>0.316228</td>\n",
              "      <td>0.641586</td>\n",
              "      <td>0.347275</td>\n",
              "      <td>3.316625</td>\n",
              "      <td>0.5</td>\n",
              "      <td>0.7</td>\n",
              "      <td>0.1</td>\n",
              "      <td>2</td>\n",
              "      <td>2</td>\n",
              "      <td>9</td>\n",
              "      <td>1</td>\n",
              "      <td>8</td>\n",
              "      <td>2</td>\n",
              "      <td>7</td>\n",
              "      <td>4</td>\n",
              "      <td>2</td>\n",
              "      <td>7</td>\n",
              "      <td>7</td>\n",
              "      <td>0</td>\n",
              "      <td>1</td>\n",
              "      <td>1</td>\n",
              "      <td>0</td>\n",
              "      <td>1</td>\n",
              "      <td>0</td>\n",
              "    </tr>\n",
              "  </tbody>\n",
              "</table>\n",
              "</div>\n",
              "      <button class=\"colab-df-convert\" onclick=\"convertToInteractive('df-9d3b69b5-1a1a-4000-94af-03a9973c7908')\"\n",
              "              title=\"Convert this dataframe to an interactive table.\"\n",
              "              style=\"display:none;\">\n",
              "        \n",
              "  <svg xmlns=\"http://www.w3.org/2000/svg\" height=\"24px\"viewBox=\"0 0 24 24\"\n",
              "       width=\"24px\">\n",
              "    <path d=\"M0 0h24v24H0V0z\" fill=\"none\"/>\n",
              "    <path d=\"M18.56 5.44l.94 2.06.94-2.06 2.06-.94-2.06-.94-.94-2.06-.94 2.06-2.06.94zm-11 1L8.5 8.5l.94-2.06 2.06-.94-2.06-.94L8.5 2.5l-.94 2.06-2.06.94zm10 10l.94 2.06.94-2.06 2.06-.94-2.06-.94-.94-2.06-.94 2.06-2.06.94z\"/><path d=\"M17.41 7.96l-1.37-1.37c-.4-.4-.92-.59-1.43-.59-.52 0-1.04.2-1.43.59L10.3 9.45l-7.72 7.72c-.78.78-.78 2.05 0 2.83L4 21.41c.39.39.9.59 1.41.59.51 0 1.02-.2 1.41-.59l7.78-7.78 2.81-2.81c.8-.78.8-2.07 0-2.86zM5.41 20L4 18.59l7.72-7.72 1.47 1.35L5.41 20z\"/>\n",
              "  </svg>\n",
              "      </button>\n",
              "      \n",
              "  <style>\n",
              "    .colab-df-container {\n",
              "      display:flex;\n",
              "      flex-wrap:wrap;\n",
              "      gap: 12px;\n",
              "    }\n",
              "\n",
              "    .colab-df-convert {\n",
              "      background-color: #E8F0FE;\n",
              "      border: none;\n",
              "      border-radius: 50%;\n",
              "      cursor: pointer;\n",
              "      display: none;\n",
              "      fill: #1967D2;\n",
              "      height: 32px;\n",
              "      padding: 0 0 0 0;\n",
              "      width: 32px;\n",
              "    }\n",
              "\n",
              "    .colab-df-convert:hover {\n",
              "      background-color: #E2EBFA;\n",
              "      box-shadow: 0px 1px 2px rgba(60, 64, 67, 0.3), 0px 1px 3px 1px rgba(60, 64, 67, 0.15);\n",
              "      fill: #174EA6;\n",
              "    }\n",
              "\n",
              "    [theme=dark] .colab-df-convert {\n",
              "      background-color: #3B4455;\n",
              "      fill: #D2E3FC;\n",
              "    }\n",
              "\n",
              "    [theme=dark] .colab-df-convert:hover {\n",
              "      background-color: #434B5C;\n",
              "      box-shadow: 0px 1px 3px 1px rgba(0, 0, 0, 0.15);\n",
              "      filter: drop-shadow(0px 1px 2px rgba(0, 0, 0, 0.3));\n",
              "      fill: #FFFFFF;\n",
              "    }\n",
              "  </style>\n",
              "\n",
              "      <script>\n",
              "        const buttonEl =\n",
              "          document.querySelector('#df-9d3b69b5-1a1a-4000-94af-03a9973c7908 button.colab-df-convert');\n",
              "        buttonEl.style.display =\n",
              "          google.colab.kernel.accessAllowed ? 'block' : 'none';\n",
              "\n",
              "        async function convertToInteractive(key) {\n",
              "          const element = document.querySelector('#df-9d3b69b5-1a1a-4000-94af-03a9973c7908');\n",
              "          const dataTable =\n",
              "            await google.colab.kernel.invokeFunction('convertToInteractive',\n",
              "                                                     [key], {});\n",
              "          if (!dataTable) return;\n",
              "\n",
              "          const docLinkHtml = 'Like what you see? Visit the ' +\n",
              "            '<a target=\"_blank\" href=https://colab.research.google.com/notebooks/data_table.ipynb>data table notebook</a>'\n",
              "            + ' to learn more about interactive tables.';\n",
              "          element.innerHTML = '';\n",
              "          dataTable['output_type'] = 'display_data';\n",
              "          await google.colab.output.renderOutput(dataTable, element);\n",
              "          const docLink = document.createElement('div');\n",
              "          docLink.innerHTML = docLinkHtml;\n",
              "          element.appendChild(docLink);\n",
              "        }\n",
              "      </script>\n",
              "    </div>\n",
              "  </div>\n",
              "  "
            ]
          },
          "metadata": {},
          "execution_count": 115
        }
      ]
    },
    {
      "cell_type": "code",
      "source": [
        "train.shape"
      ],
      "metadata": {
        "colab": {
          "base_uri": "https://localhost:8080/"
        },
        "id": "ZKfl0jQt2mp8",
        "outputId": "7e5a7f26-ec78-4603-e11a-64b085e4057e"
      },
      "execution_count": 116,
      "outputs": [
        {
          "output_type": "execute_result",
          "data": {
            "text/plain": [
              "(595212, 59)"
            ]
          },
          "metadata": {},
          "execution_count": 116
        }
      ]
    },
    {
      "cell_type": "code",
      "source": [
        "train.drop_duplicates()\n",
        "train.shape"
      ],
      "metadata": {
        "colab": {
          "base_uri": "https://localhost:8080/"
        },
        "id": "ESndgzUk3a49",
        "outputId": "bde2f08a-2309-45f5-fbf9-e6bd73480fe3"
      },
      "execution_count": 117,
      "outputs": [
        {
          "output_type": "execute_result",
          "data": {
            "text/plain": [
              "(595212, 59)"
            ]
          },
          "metadata": {},
          "execution_count": 117
        }
      ]
    },
    {
      "cell_type": "code",
      "source": [
        "# We are missing one variable in the test set, but this is the target variable.\n",
        "test.shape"
      ],
      "metadata": {
        "colab": {
          "base_uri": "https://localhost:8080/"
        },
        "id": "B73kRLAt3d9o",
        "outputId": "4f9d4ea8-98f0-4d7a-b221-be30342f2846"
      },
      "execution_count": 118,
      "outputs": [
        {
          "output_type": "execute_result",
          "data": {
            "text/plain": [
              "(892816, 58)"
            ]
          },
          "metadata": {},
          "execution_count": 118
        }
      ]
    },
    {
      "cell_type": "code",
      "source": [
        "test.info()"
      ],
      "metadata": {
        "colab": {
          "base_uri": "https://localhost:8080/"
        },
        "id": "b9skv46C3sv7",
        "outputId": "00e9a665-b9d8-46b0-f883-06a5b59fc9eb"
      },
      "execution_count": 119,
      "outputs": [
        {
          "output_type": "stream",
          "name": "stdout",
          "text": [
            "<class 'pandas.core.frame.DataFrame'>\n",
            "RangeIndex: 892816 entries, 0 to 892815\n",
            "Data columns (total 58 columns):\n",
            " #   Column          Non-Null Count   Dtype  \n",
            "---  ------          --------------   -----  \n",
            " 0   id              892816 non-null  int64  \n",
            " 1   ps_ind_01       892816 non-null  int64  \n",
            " 2   ps_ind_02_cat   892816 non-null  int64  \n",
            " 3   ps_ind_03       892816 non-null  int64  \n",
            " 4   ps_ind_04_cat   892816 non-null  int64  \n",
            " 5   ps_ind_05_cat   892816 non-null  int64  \n",
            " 6   ps_ind_06_bin   892816 non-null  int64  \n",
            " 7   ps_ind_07_bin   892816 non-null  int64  \n",
            " 8   ps_ind_08_bin   892816 non-null  int64  \n",
            " 9   ps_ind_09_bin   892816 non-null  int64  \n",
            " 10  ps_ind_10_bin   892816 non-null  int64  \n",
            " 11  ps_ind_11_bin   892816 non-null  int64  \n",
            " 12  ps_ind_12_bin   892816 non-null  int64  \n",
            " 13  ps_ind_13_bin   892816 non-null  int64  \n",
            " 14  ps_ind_14       892816 non-null  int64  \n",
            " 15  ps_ind_15       892816 non-null  int64  \n",
            " 16  ps_ind_16_bin   892816 non-null  int64  \n",
            " 17  ps_ind_17_bin   892816 non-null  int64  \n",
            " 18  ps_ind_18_bin   892816 non-null  int64  \n",
            " 19  ps_reg_01       892816 non-null  float64\n",
            " 20  ps_reg_02       892816 non-null  float64\n",
            " 21  ps_reg_03       892816 non-null  float64\n",
            " 22  ps_car_01_cat   892816 non-null  int64  \n",
            " 23  ps_car_02_cat   892816 non-null  int64  \n",
            " 24  ps_car_03_cat   892816 non-null  int64  \n",
            " 25  ps_car_04_cat   892816 non-null  int64  \n",
            " 26  ps_car_05_cat   892816 non-null  int64  \n",
            " 27  ps_car_06_cat   892816 non-null  int64  \n",
            " 28  ps_car_07_cat   892816 non-null  int64  \n",
            " 29  ps_car_08_cat   892816 non-null  int64  \n",
            " 30  ps_car_09_cat   892816 non-null  int64  \n",
            " 31  ps_car_10_cat   892816 non-null  int64  \n",
            " 32  ps_car_11_cat   892816 non-null  int64  \n",
            " 33  ps_car_11       892816 non-null  int64  \n",
            " 34  ps_car_12       892816 non-null  float64\n",
            " 35  ps_car_13       892816 non-null  float64\n",
            " 36  ps_car_14       892816 non-null  float64\n",
            " 37  ps_car_15       892816 non-null  float64\n",
            " 38  ps_calc_01      892816 non-null  float64\n",
            " 39  ps_calc_02      892816 non-null  float64\n",
            " 40  ps_calc_03      892816 non-null  float64\n",
            " 41  ps_calc_04      892816 non-null  int64  \n",
            " 42  ps_calc_05      892816 non-null  int64  \n",
            " 43  ps_calc_06      892816 non-null  int64  \n",
            " 44  ps_calc_07      892816 non-null  int64  \n",
            " 45  ps_calc_08      892816 non-null  int64  \n",
            " 46  ps_calc_09      892816 non-null  int64  \n",
            " 47  ps_calc_10      892816 non-null  int64  \n",
            " 48  ps_calc_11      892816 non-null  int64  \n",
            " 49  ps_calc_12      892816 non-null  int64  \n",
            " 50  ps_calc_13      892816 non-null  int64  \n",
            " 51  ps_calc_14      892816 non-null  int64  \n",
            " 52  ps_calc_15_bin  892816 non-null  int64  \n",
            " 53  ps_calc_16_bin  892816 non-null  int64  \n",
            " 54  ps_calc_17_bin  892816 non-null  int64  \n",
            " 55  ps_calc_18_bin  892816 non-null  int64  \n",
            " 56  ps_calc_19_bin  892816 non-null  int64  \n",
            " 57  ps_calc_20_bin  892816 non-null  int64  \n",
            "dtypes: float64(10), int64(48)\n",
            "memory usage: 395.1 MB\n"
          ]
        }
      ]
    },
    {
      "cell_type": "markdown",
      "source": [
        "Again, with the info() method we see that the data type is integer or float. No null values are present in the data set. That's normal because missing values are replaced by -1. We'll look into that later.\n",
        "\n",
        "\n",
        "\n"
      ],
      "metadata": {
        "id": "CrcHr4or3ywn"
      }
    },
    {
      "cell_type": "markdown",
      "source": [
        "### 2. Defining the metadata\n",
        "To facilitate the data management, we'll store meta-information about the variables in a DataFrame.  "
      ],
      "metadata": {
        "id": "f93B63Lx38SB"
      }
    },
    {
      "cell_type": "markdown",
      "source": [
        "* 메타 데이터란?  \n",
        "https://namu.wiki/w/%EB%A9%94%ED%83%80%EB%8D%B0%EC%9D%B4%ED%84%B0"
      ],
      "metadata": {
        "id": "ciYcJnhQ43Nn"
      }
    },
    {
      "cell_type": "markdown",
      "source": [
        "* role: input, ID, target  \n",
        "level: nominal, interval, ordinal, binary  \n",
        "keep: True or False  \n",
        "dtype: int, float, str\n",
        "\n",
        " "
      ],
      "metadata": {
        "id": "gIF1CD8k5Kao"
      }
    },
    {
      "cell_type": "code",
      "source": [
        "data = []\n",
        "for f in train.columns:\n",
        "  # Defining the role\n",
        "  if f == 'target': role = 'target'\n",
        "  elif f == 'id': role ='id'\n",
        "  else : role = 'input'\n",
        "  \n",
        "  # Deifining the level\n",
        "  if 'bin' in f or f == 'target': level = 'binary'\n",
        "  elif 'cat' in f or f =='id': level = 'nominal'\n",
        "  elif train[f].dtype == float: level = 'interval'\n",
        "  elif train[f].dtype == int: level = 'ordinal'\n",
        "\n",
        "  # Initialixe keep to True for all variables except for id\n",
        "  keep = True\n",
        "  if f == 'id': keep = False\n",
        "\n",
        "  # Defining data type\n",
        "  dtype = train[f].dtype\n",
        "\n",
        "  # Creating a Dict that contains all the metadata for the variable\n",
        "  f_dict = {\n",
        "      'varname' : f,\n",
        "      'role' : role,\n",
        "      'level' : level,\n",
        "      'keep' : keep,\n",
        "      'dtype' : dtype\n",
        "  }\n",
        "  data.append(f_dict)"
      ],
      "metadata": {
        "id": "Z_GLrRNu4b61"
      },
      "execution_count": 120,
      "outputs": []
    },
    {
      "cell_type": "code",
      "source": [
        "data[0:2]"
      ],
      "metadata": {
        "colab": {
          "base_uri": "https://localhost:8080/"
        },
        "id": "Z59ViK3_90WG",
        "outputId": "5b632a33-7b40-4c32-8c97-0104b98a58a9"
      },
      "execution_count": 121,
      "outputs": [
        {
          "output_type": "execute_result",
          "data": {
            "text/plain": [
              "[{'varname': 'id',\n",
              "  'role': 'id',\n",
              "  'level': 'nominal',\n",
              "  'keep': False,\n",
              "  'dtype': dtype('int64')},\n",
              " {'varname': 'target',\n",
              "  'role': 'target',\n",
              "  'level': 'binary',\n",
              "  'keep': True,\n",
              "  'dtype': dtype('int64')}]"
            ]
          },
          "metadata": {},
          "execution_count": 121
        }
      ]
    },
    {
      "cell_type": "code",
      "source": [
        "meta = pd.DataFrame(data, columns=['varname', 'role', 'level', 'keep', 'dtype'])"
      ],
      "metadata": {
        "id": "zUyq1dC-9Wnj"
      },
      "execution_count": 122,
      "outputs": []
    },
    {
      "cell_type": "code",
      "source": [
        "meta.head(3)"
      ],
      "metadata": {
        "colab": {
          "base_uri": "https://localhost:8080/",
          "height": 143
        },
        "id": "xgyeMZ6u-Hwc",
        "outputId": "927a536d-4868-4053-fad6-59e11303a8b8"
      },
      "execution_count": 123,
      "outputs": [
        {
          "output_type": "execute_result",
          "data": {
            "text/plain": [
              "     varname    role    level   keep  dtype\n",
              "0         id      id  nominal  False  int64\n",
              "1     target  target   binary   True  int64\n",
              "2  ps_ind_01   input  ordinal   True  int64"
            ],
            "text/html": [
              "\n",
              "  <div id=\"df-5b76ea2a-08bd-46f3-9a8c-262597200cbb\">\n",
              "    <div class=\"colab-df-container\">\n",
              "      <div>\n",
              "<style scoped>\n",
              "    .dataframe tbody tr th:only-of-type {\n",
              "        vertical-align: middle;\n",
              "    }\n",
              "\n",
              "    .dataframe tbody tr th {\n",
              "        vertical-align: top;\n",
              "    }\n",
              "\n",
              "    .dataframe thead th {\n",
              "        text-align: right;\n",
              "    }\n",
              "</style>\n",
              "<table border=\"1\" class=\"dataframe\">\n",
              "  <thead>\n",
              "    <tr style=\"text-align: right;\">\n",
              "      <th></th>\n",
              "      <th>varname</th>\n",
              "      <th>role</th>\n",
              "      <th>level</th>\n",
              "      <th>keep</th>\n",
              "      <th>dtype</th>\n",
              "    </tr>\n",
              "  </thead>\n",
              "  <tbody>\n",
              "    <tr>\n",
              "      <th>0</th>\n",
              "      <td>id</td>\n",
              "      <td>id</td>\n",
              "      <td>nominal</td>\n",
              "      <td>False</td>\n",
              "      <td>int64</td>\n",
              "    </tr>\n",
              "    <tr>\n",
              "      <th>1</th>\n",
              "      <td>target</td>\n",
              "      <td>target</td>\n",
              "      <td>binary</td>\n",
              "      <td>True</td>\n",
              "      <td>int64</td>\n",
              "    </tr>\n",
              "    <tr>\n",
              "      <th>2</th>\n",
              "      <td>ps_ind_01</td>\n",
              "      <td>input</td>\n",
              "      <td>ordinal</td>\n",
              "      <td>True</td>\n",
              "      <td>int64</td>\n",
              "    </tr>\n",
              "  </tbody>\n",
              "</table>\n",
              "</div>\n",
              "      <button class=\"colab-df-convert\" onclick=\"convertToInteractive('df-5b76ea2a-08bd-46f3-9a8c-262597200cbb')\"\n",
              "              title=\"Convert this dataframe to an interactive table.\"\n",
              "              style=\"display:none;\">\n",
              "        \n",
              "  <svg xmlns=\"http://www.w3.org/2000/svg\" height=\"24px\"viewBox=\"0 0 24 24\"\n",
              "       width=\"24px\">\n",
              "    <path d=\"M0 0h24v24H0V0z\" fill=\"none\"/>\n",
              "    <path d=\"M18.56 5.44l.94 2.06.94-2.06 2.06-.94-2.06-.94-.94-2.06-.94 2.06-2.06.94zm-11 1L8.5 8.5l.94-2.06 2.06-.94-2.06-.94L8.5 2.5l-.94 2.06-2.06.94zm10 10l.94 2.06.94-2.06 2.06-.94-2.06-.94-.94-2.06-.94 2.06-2.06.94z\"/><path d=\"M17.41 7.96l-1.37-1.37c-.4-.4-.92-.59-1.43-.59-.52 0-1.04.2-1.43.59L10.3 9.45l-7.72 7.72c-.78.78-.78 2.05 0 2.83L4 21.41c.39.39.9.59 1.41.59.51 0 1.02-.2 1.41-.59l7.78-7.78 2.81-2.81c.8-.78.8-2.07 0-2.86zM5.41 20L4 18.59l7.72-7.72 1.47 1.35L5.41 20z\"/>\n",
              "  </svg>\n",
              "      </button>\n",
              "      \n",
              "  <style>\n",
              "    .colab-df-container {\n",
              "      display:flex;\n",
              "      flex-wrap:wrap;\n",
              "      gap: 12px;\n",
              "    }\n",
              "\n",
              "    .colab-df-convert {\n",
              "      background-color: #E8F0FE;\n",
              "      border: none;\n",
              "      border-radius: 50%;\n",
              "      cursor: pointer;\n",
              "      display: none;\n",
              "      fill: #1967D2;\n",
              "      height: 32px;\n",
              "      padding: 0 0 0 0;\n",
              "      width: 32px;\n",
              "    }\n",
              "\n",
              "    .colab-df-convert:hover {\n",
              "      background-color: #E2EBFA;\n",
              "      box-shadow: 0px 1px 2px rgba(60, 64, 67, 0.3), 0px 1px 3px 1px rgba(60, 64, 67, 0.15);\n",
              "      fill: #174EA6;\n",
              "    }\n",
              "\n",
              "    [theme=dark] .colab-df-convert {\n",
              "      background-color: #3B4455;\n",
              "      fill: #D2E3FC;\n",
              "    }\n",
              "\n",
              "    [theme=dark] .colab-df-convert:hover {\n",
              "      background-color: #434B5C;\n",
              "      box-shadow: 0px 1px 3px 1px rgba(0, 0, 0, 0.15);\n",
              "      filter: drop-shadow(0px 1px 2px rgba(0, 0, 0, 0.3));\n",
              "      fill: #FFFFFF;\n",
              "    }\n",
              "  </style>\n",
              "\n",
              "      <script>\n",
              "        const buttonEl =\n",
              "          document.querySelector('#df-5b76ea2a-08bd-46f3-9a8c-262597200cbb button.colab-df-convert');\n",
              "        buttonEl.style.display =\n",
              "          google.colab.kernel.accessAllowed ? 'block' : 'none';\n",
              "\n",
              "        async function convertToInteractive(key) {\n",
              "          const element = document.querySelector('#df-5b76ea2a-08bd-46f3-9a8c-262597200cbb');\n",
              "          const dataTable =\n",
              "            await google.colab.kernel.invokeFunction('convertToInteractive',\n",
              "                                                     [key], {});\n",
              "          if (!dataTable) return;\n",
              "\n",
              "          const docLinkHtml = 'Like what you see? Visit the ' +\n",
              "            '<a target=\"_blank\" href=https://colab.research.google.com/notebooks/data_table.ipynb>data table notebook</a>'\n",
              "            + ' to learn more about interactive tables.';\n",
              "          element.innerHTML = '';\n",
              "          dataTable['output_type'] = 'display_data';\n",
              "          await google.colab.output.renderOutput(dataTable, element);\n",
              "          const docLink = document.createElement('div');\n",
              "          docLink.innerHTML = docLinkHtml;\n",
              "          element.appendChild(docLink);\n",
              "        }\n",
              "      </script>\n",
              "    </div>\n",
              "  </div>\n",
              "  "
            ]
          },
          "metadata": {},
          "execution_count": 123
        }
      ]
    },
    {
      "cell_type": "code",
      "source": [
        "meta.set_index('varname', inplace=True)"
      ],
      "metadata": {
        "id": "iut30N9--Mpw"
      },
      "execution_count": 124,
      "outputs": []
    },
    {
      "cell_type": "code",
      "source": [
        "meta.head(3)"
      ],
      "metadata": {
        "colab": {
          "base_uri": "https://localhost:8080/",
          "height": 175
        },
        "id": "WxQIRC8e-RyT",
        "outputId": "61828900-fab6-4778-b12e-0f10711fa99f"
      },
      "execution_count": 125,
      "outputs": [
        {
          "output_type": "execute_result",
          "data": {
            "text/plain": [
              "             role    level   keep  dtype\n",
              "varname                                 \n",
              "id             id  nominal  False  int64\n",
              "target     target   binary   True  int64\n",
              "ps_ind_01   input  ordinal   True  int64"
            ],
            "text/html": [
              "\n",
              "  <div id=\"df-feb0b1c8-103d-4e6c-8499-7ab8c731c7d8\">\n",
              "    <div class=\"colab-df-container\">\n",
              "      <div>\n",
              "<style scoped>\n",
              "    .dataframe tbody tr th:only-of-type {\n",
              "        vertical-align: middle;\n",
              "    }\n",
              "\n",
              "    .dataframe tbody tr th {\n",
              "        vertical-align: top;\n",
              "    }\n",
              "\n",
              "    .dataframe thead th {\n",
              "        text-align: right;\n",
              "    }\n",
              "</style>\n",
              "<table border=\"1\" class=\"dataframe\">\n",
              "  <thead>\n",
              "    <tr style=\"text-align: right;\">\n",
              "      <th></th>\n",
              "      <th>role</th>\n",
              "      <th>level</th>\n",
              "      <th>keep</th>\n",
              "      <th>dtype</th>\n",
              "    </tr>\n",
              "    <tr>\n",
              "      <th>varname</th>\n",
              "      <th></th>\n",
              "      <th></th>\n",
              "      <th></th>\n",
              "      <th></th>\n",
              "    </tr>\n",
              "  </thead>\n",
              "  <tbody>\n",
              "    <tr>\n",
              "      <th>id</th>\n",
              "      <td>id</td>\n",
              "      <td>nominal</td>\n",
              "      <td>False</td>\n",
              "      <td>int64</td>\n",
              "    </tr>\n",
              "    <tr>\n",
              "      <th>target</th>\n",
              "      <td>target</td>\n",
              "      <td>binary</td>\n",
              "      <td>True</td>\n",
              "      <td>int64</td>\n",
              "    </tr>\n",
              "    <tr>\n",
              "      <th>ps_ind_01</th>\n",
              "      <td>input</td>\n",
              "      <td>ordinal</td>\n",
              "      <td>True</td>\n",
              "      <td>int64</td>\n",
              "    </tr>\n",
              "  </tbody>\n",
              "</table>\n",
              "</div>\n",
              "      <button class=\"colab-df-convert\" onclick=\"convertToInteractive('df-feb0b1c8-103d-4e6c-8499-7ab8c731c7d8')\"\n",
              "              title=\"Convert this dataframe to an interactive table.\"\n",
              "              style=\"display:none;\">\n",
              "        \n",
              "  <svg xmlns=\"http://www.w3.org/2000/svg\" height=\"24px\"viewBox=\"0 0 24 24\"\n",
              "       width=\"24px\">\n",
              "    <path d=\"M0 0h24v24H0V0z\" fill=\"none\"/>\n",
              "    <path d=\"M18.56 5.44l.94 2.06.94-2.06 2.06-.94-2.06-.94-.94-2.06-.94 2.06-2.06.94zm-11 1L8.5 8.5l.94-2.06 2.06-.94-2.06-.94L8.5 2.5l-.94 2.06-2.06.94zm10 10l.94 2.06.94-2.06 2.06-.94-2.06-.94-.94-2.06-.94 2.06-2.06.94z\"/><path d=\"M17.41 7.96l-1.37-1.37c-.4-.4-.92-.59-1.43-.59-.52 0-1.04.2-1.43.59L10.3 9.45l-7.72 7.72c-.78.78-.78 2.05 0 2.83L4 21.41c.39.39.9.59 1.41.59.51 0 1.02-.2 1.41-.59l7.78-7.78 2.81-2.81c.8-.78.8-2.07 0-2.86zM5.41 20L4 18.59l7.72-7.72 1.47 1.35L5.41 20z\"/>\n",
              "  </svg>\n",
              "      </button>\n",
              "      \n",
              "  <style>\n",
              "    .colab-df-container {\n",
              "      display:flex;\n",
              "      flex-wrap:wrap;\n",
              "      gap: 12px;\n",
              "    }\n",
              "\n",
              "    .colab-df-convert {\n",
              "      background-color: #E8F0FE;\n",
              "      border: none;\n",
              "      border-radius: 50%;\n",
              "      cursor: pointer;\n",
              "      display: none;\n",
              "      fill: #1967D2;\n",
              "      height: 32px;\n",
              "      padding: 0 0 0 0;\n",
              "      width: 32px;\n",
              "    }\n",
              "\n",
              "    .colab-df-convert:hover {\n",
              "      background-color: #E2EBFA;\n",
              "      box-shadow: 0px 1px 2px rgba(60, 64, 67, 0.3), 0px 1px 3px 1px rgba(60, 64, 67, 0.15);\n",
              "      fill: #174EA6;\n",
              "    }\n",
              "\n",
              "    [theme=dark] .colab-df-convert {\n",
              "      background-color: #3B4455;\n",
              "      fill: #D2E3FC;\n",
              "    }\n",
              "\n",
              "    [theme=dark] .colab-df-convert:hover {\n",
              "      background-color: #434B5C;\n",
              "      box-shadow: 0px 1px 3px 1px rgba(0, 0, 0, 0.15);\n",
              "      filter: drop-shadow(0px 1px 2px rgba(0, 0, 0, 0.3));\n",
              "      fill: #FFFFFF;\n",
              "    }\n",
              "  </style>\n",
              "\n",
              "      <script>\n",
              "        const buttonEl =\n",
              "          document.querySelector('#df-feb0b1c8-103d-4e6c-8499-7ab8c731c7d8 button.colab-df-convert');\n",
              "        buttonEl.style.display =\n",
              "          google.colab.kernel.accessAllowed ? 'block' : 'none';\n",
              "\n",
              "        async function convertToInteractive(key) {\n",
              "          const element = document.querySelector('#df-feb0b1c8-103d-4e6c-8499-7ab8c731c7d8');\n",
              "          const dataTable =\n",
              "            await google.colab.kernel.invokeFunction('convertToInteractive',\n",
              "                                                     [key], {});\n",
              "          if (!dataTable) return;\n",
              "\n",
              "          const docLinkHtml = 'Like what you see? Visit the ' +\n",
              "            '<a target=\"_blank\" href=https://colab.research.google.com/notebooks/data_table.ipynb>data table notebook</a>'\n",
              "            + ' to learn more about interactive tables.';\n",
              "          element.innerHTML = '';\n",
              "          dataTable['output_type'] = 'display_data';\n",
              "          await google.colab.output.renderOutput(dataTable, element);\n",
              "          const docLink = document.createElement('div');\n",
              "          docLink.innerHTML = docLinkHtml;\n",
              "          element.appendChild(docLink);\n",
              "        }\n",
              "      </script>\n",
              "    </div>\n",
              "  </div>\n",
              "  "
            ]
          },
          "metadata": {},
          "execution_count": 125
        }
      ]
    },
    {
      "cell_type": "code",
      "source": [
        "# Example \n",
        "meta[(meta.level == 'nominal') & (meta.keep)].index"
      ],
      "metadata": {
        "colab": {
          "base_uri": "https://localhost:8080/"
        },
        "id": "mzVoEG0Q-hi5",
        "outputId": "a2f7342f-a699-4808-de23-95c4a2005090"
      },
      "execution_count": 126,
      "outputs": [
        {
          "output_type": "execute_result",
          "data": {
            "text/plain": [
              "Index(['ps_ind_02_cat', 'ps_ind_04_cat', 'ps_ind_05_cat', 'ps_car_01_cat',\n",
              "       'ps_car_02_cat', 'ps_car_03_cat', 'ps_car_04_cat', 'ps_car_05_cat',\n",
              "       'ps_car_06_cat', 'ps_car_07_cat', 'ps_car_08_cat', 'ps_car_09_cat',\n",
              "       'ps_car_10_cat', 'ps_car_11_cat'],\n",
              "      dtype='object', name='varname')"
            ]
          },
          "metadata": {},
          "execution_count": 126
        }
      ]
    },
    {
      "cell_type": "code",
      "source": [
        "# meta.groupby(['role', 'level'])['role'].size()\n",
        "# pd.DataFrame({'count' : meta.groupby(['role', 'level'])['role'].size()})\n",
        "pd.DataFrame({'count' : meta.groupby(['role', 'level'])['role'].size()}).reset_index()"
      ],
      "metadata": {
        "colab": {
          "base_uri": "https://localhost:8080/",
          "height": 237
        },
        "id": "bf45M6QJ-23f",
        "outputId": "3c71836c-48b0-45cf-f9bf-3a58a68eade7"
      },
      "execution_count": 127,
      "outputs": [
        {
          "output_type": "execute_result",
          "data": {
            "text/plain": [
              "     role     level  count\n",
              "0      id   nominal      1\n",
              "1   input    binary     17\n",
              "2   input  interval     10\n",
              "3   input   nominal     14\n",
              "4   input   ordinal     16\n",
              "5  target    binary      1"
            ],
            "text/html": [
              "\n",
              "  <div id=\"df-44419574-7479-407f-8f96-398dc213e432\">\n",
              "    <div class=\"colab-df-container\">\n",
              "      <div>\n",
              "<style scoped>\n",
              "    .dataframe tbody tr th:only-of-type {\n",
              "        vertical-align: middle;\n",
              "    }\n",
              "\n",
              "    .dataframe tbody tr th {\n",
              "        vertical-align: top;\n",
              "    }\n",
              "\n",
              "    .dataframe thead th {\n",
              "        text-align: right;\n",
              "    }\n",
              "</style>\n",
              "<table border=\"1\" class=\"dataframe\">\n",
              "  <thead>\n",
              "    <tr style=\"text-align: right;\">\n",
              "      <th></th>\n",
              "      <th>role</th>\n",
              "      <th>level</th>\n",
              "      <th>count</th>\n",
              "    </tr>\n",
              "  </thead>\n",
              "  <tbody>\n",
              "    <tr>\n",
              "      <th>0</th>\n",
              "      <td>id</td>\n",
              "      <td>nominal</td>\n",
              "      <td>1</td>\n",
              "    </tr>\n",
              "    <tr>\n",
              "      <th>1</th>\n",
              "      <td>input</td>\n",
              "      <td>binary</td>\n",
              "      <td>17</td>\n",
              "    </tr>\n",
              "    <tr>\n",
              "      <th>2</th>\n",
              "      <td>input</td>\n",
              "      <td>interval</td>\n",
              "      <td>10</td>\n",
              "    </tr>\n",
              "    <tr>\n",
              "      <th>3</th>\n",
              "      <td>input</td>\n",
              "      <td>nominal</td>\n",
              "      <td>14</td>\n",
              "    </tr>\n",
              "    <tr>\n",
              "      <th>4</th>\n",
              "      <td>input</td>\n",
              "      <td>ordinal</td>\n",
              "      <td>16</td>\n",
              "    </tr>\n",
              "    <tr>\n",
              "      <th>5</th>\n",
              "      <td>target</td>\n",
              "      <td>binary</td>\n",
              "      <td>1</td>\n",
              "    </tr>\n",
              "  </tbody>\n",
              "</table>\n",
              "</div>\n",
              "      <button class=\"colab-df-convert\" onclick=\"convertToInteractive('df-44419574-7479-407f-8f96-398dc213e432')\"\n",
              "              title=\"Convert this dataframe to an interactive table.\"\n",
              "              style=\"display:none;\">\n",
              "        \n",
              "  <svg xmlns=\"http://www.w3.org/2000/svg\" height=\"24px\"viewBox=\"0 0 24 24\"\n",
              "       width=\"24px\">\n",
              "    <path d=\"M0 0h24v24H0V0z\" fill=\"none\"/>\n",
              "    <path d=\"M18.56 5.44l.94 2.06.94-2.06 2.06-.94-2.06-.94-.94-2.06-.94 2.06-2.06.94zm-11 1L8.5 8.5l.94-2.06 2.06-.94-2.06-.94L8.5 2.5l-.94 2.06-2.06.94zm10 10l.94 2.06.94-2.06 2.06-.94-2.06-.94-.94-2.06-.94 2.06-2.06.94z\"/><path d=\"M17.41 7.96l-1.37-1.37c-.4-.4-.92-.59-1.43-.59-.52 0-1.04.2-1.43.59L10.3 9.45l-7.72 7.72c-.78.78-.78 2.05 0 2.83L4 21.41c.39.39.9.59 1.41.59.51 0 1.02-.2 1.41-.59l7.78-7.78 2.81-2.81c.8-.78.8-2.07 0-2.86zM5.41 20L4 18.59l7.72-7.72 1.47 1.35L5.41 20z\"/>\n",
              "  </svg>\n",
              "      </button>\n",
              "      \n",
              "  <style>\n",
              "    .colab-df-container {\n",
              "      display:flex;\n",
              "      flex-wrap:wrap;\n",
              "      gap: 12px;\n",
              "    }\n",
              "\n",
              "    .colab-df-convert {\n",
              "      background-color: #E8F0FE;\n",
              "      border: none;\n",
              "      border-radius: 50%;\n",
              "      cursor: pointer;\n",
              "      display: none;\n",
              "      fill: #1967D2;\n",
              "      height: 32px;\n",
              "      padding: 0 0 0 0;\n",
              "      width: 32px;\n",
              "    }\n",
              "\n",
              "    .colab-df-convert:hover {\n",
              "      background-color: #E2EBFA;\n",
              "      box-shadow: 0px 1px 2px rgba(60, 64, 67, 0.3), 0px 1px 3px 1px rgba(60, 64, 67, 0.15);\n",
              "      fill: #174EA6;\n",
              "    }\n",
              "\n",
              "    [theme=dark] .colab-df-convert {\n",
              "      background-color: #3B4455;\n",
              "      fill: #D2E3FC;\n",
              "    }\n",
              "\n",
              "    [theme=dark] .colab-df-convert:hover {\n",
              "      background-color: #434B5C;\n",
              "      box-shadow: 0px 1px 3px 1px rgba(0, 0, 0, 0.15);\n",
              "      filter: drop-shadow(0px 1px 2px rgba(0, 0, 0, 0.3));\n",
              "      fill: #FFFFFF;\n",
              "    }\n",
              "  </style>\n",
              "\n",
              "      <script>\n",
              "        const buttonEl =\n",
              "          document.querySelector('#df-44419574-7479-407f-8f96-398dc213e432 button.colab-df-convert');\n",
              "        buttonEl.style.display =\n",
              "          google.colab.kernel.accessAllowed ? 'block' : 'none';\n",
              "\n",
              "        async function convertToInteractive(key) {\n",
              "          const element = document.querySelector('#df-44419574-7479-407f-8f96-398dc213e432');\n",
              "          const dataTable =\n",
              "            await google.colab.kernel.invokeFunction('convertToInteractive',\n",
              "                                                     [key], {});\n",
              "          if (!dataTable) return;\n",
              "\n",
              "          const docLinkHtml = 'Like what you see? Visit the ' +\n",
              "            '<a target=\"_blank\" href=https://colab.research.google.com/notebooks/data_table.ipynb>data table notebook</a>'\n",
              "            + ' to learn more about interactive tables.';\n",
              "          element.innerHTML = '';\n",
              "          dataTable['output_type'] = 'display_data';\n",
              "          await google.colab.output.renderOutput(dataTable, element);\n",
              "          const docLink = document.createElement('div');\n",
              "          docLink.innerHTML = docLinkHtml;\n",
              "          element.appendChild(docLink);\n",
              "        }\n",
              "      </script>\n",
              "    </div>\n",
              "  </div>\n",
              "  "
            ]
          },
          "metadata": {},
          "execution_count": 127
        }
      ]
    },
    {
      "cell_type": "markdown",
      "source": [
        "### 3. Descriptive statistics\n",
        "Thanks to our meta file we can easily select the variables on which we want to compute the descriptive statistics. To keep things clear, we'll do this per data level."
      ],
      "metadata": {
        "id": "p_D1ltcQ5lNn"
      }
    },
    {
      "cell_type": "code",
      "source": [
        "meta.head(3)"
      ],
      "metadata": {
        "colab": {
          "base_uri": "https://localhost:8080/",
          "height": 175
        },
        "id": "yIpKcxAaDEq6",
        "outputId": "a03cfc6c-c3ee-4df2-c319-834c4e2f42ac"
      },
      "execution_count": 128,
      "outputs": [
        {
          "output_type": "execute_result",
          "data": {
            "text/plain": [
              "             role    level   keep  dtype\n",
              "varname                                 \n",
              "id             id  nominal  False  int64\n",
              "target     target   binary   True  int64\n",
              "ps_ind_01   input  ordinal   True  int64"
            ],
            "text/html": [
              "\n",
              "  <div id=\"df-cf8aadd5-660c-401b-b067-f3bcc71389a9\">\n",
              "    <div class=\"colab-df-container\">\n",
              "      <div>\n",
              "<style scoped>\n",
              "    .dataframe tbody tr th:only-of-type {\n",
              "        vertical-align: middle;\n",
              "    }\n",
              "\n",
              "    .dataframe tbody tr th {\n",
              "        vertical-align: top;\n",
              "    }\n",
              "\n",
              "    .dataframe thead th {\n",
              "        text-align: right;\n",
              "    }\n",
              "</style>\n",
              "<table border=\"1\" class=\"dataframe\">\n",
              "  <thead>\n",
              "    <tr style=\"text-align: right;\">\n",
              "      <th></th>\n",
              "      <th>role</th>\n",
              "      <th>level</th>\n",
              "      <th>keep</th>\n",
              "      <th>dtype</th>\n",
              "    </tr>\n",
              "    <tr>\n",
              "      <th>varname</th>\n",
              "      <th></th>\n",
              "      <th></th>\n",
              "      <th></th>\n",
              "      <th></th>\n",
              "    </tr>\n",
              "  </thead>\n",
              "  <tbody>\n",
              "    <tr>\n",
              "      <th>id</th>\n",
              "      <td>id</td>\n",
              "      <td>nominal</td>\n",
              "      <td>False</td>\n",
              "      <td>int64</td>\n",
              "    </tr>\n",
              "    <tr>\n",
              "      <th>target</th>\n",
              "      <td>target</td>\n",
              "      <td>binary</td>\n",
              "      <td>True</td>\n",
              "      <td>int64</td>\n",
              "    </tr>\n",
              "    <tr>\n",
              "      <th>ps_ind_01</th>\n",
              "      <td>input</td>\n",
              "      <td>ordinal</td>\n",
              "      <td>True</td>\n",
              "      <td>int64</td>\n",
              "    </tr>\n",
              "  </tbody>\n",
              "</table>\n",
              "</div>\n",
              "      <button class=\"colab-df-convert\" onclick=\"convertToInteractive('df-cf8aadd5-660c-401b-b067-f3bcc71389a9')\"\n",
              "              title=\"Convert this dataframe to an interactive table.\"\n",
              "              style=\"display:none;\">\n",
              "        \n",
              "  <svg xmlns=\"http://www.w3.org/2000/svg\" height=\"24px\"viewBox=\"0 0 24 24\"\n",
              "       width=\"24px\">\n",
              "    <path d=\"M0 0h24v24H0V0z\" fill=\"none\"/>\n",
              "    <path d=\"M18.56 5.44l.94 2.06.94-2.06 2.06-.94-2.06-.94-.94-2.06-.94 2.06-2.06.94zm-11 1L8.5 8.5l.94-2.06 2.06-.94-2.06-.94L8.5 2.5l-.94 2.06-2.06.94zm10 10l.94 2.06.94-2.06 2.06-.94-2.06-.94-.94-2.06-.94 2.06-2.06.94z\"/><path d=\"M17.41 7.96l-1.37-1.37c-.4-.4-.92-.59-1.43-.59-.52 0-1.04.2-1.43.59L10.3 9.45l-7.72 7.72c-.78.78-.78 2.05 0 2.83L4 21.41c.39.39.9.59 1.41.59.51 0 1.02-.2 1.41-.59l7.78-7.78 2.81-2.81c.8-.78.8-2.07 0-2.86zM5.41 20L4 18.59l7.72-7.72 1.47 1.35L5.41 20z\"/>\n",
              "  </svg>\n",
              "      </button>\n",
              "      \n",
              "  <style>\n",
              "    .colab-df-container {\n",
              "      display:flex;\n",
              "      flex-wrap:wrap;\n",
              "      gap: 12px;\n",
              "    }\n",
              "\n",
              "    .colab-df-convert {\n",
              "      background-color: #E8F0FE;\n",
              "      border: none;\n",
              "      border-radius: 50%;\n",
              "      cursor: pointer;\n",
              "      display: none;\n",
              "      fill: #1967D2;\n",
              "      height: 32px;\n",
              "      padding: 0 0 0 0;\n",
              "      width: 32px;\n",
              "    }\n",
              "\n",
              "    .colab-df-convert:hover {\n",
              "      background-color: #E2EBFA;\n",
              "      box-shadow: 0px 1px 2px rgba(60, 64, 67, 0.3), 0px 1px 3px 1px rgba(60, 64, 67, 0.15);\n",
              "      fill: #174EA6;\n",
              "    }\n",
              "\n",
              "    [theme=dark] .colab-df-convert {\n",
              "      background-color: #3B4455;\n",
              "      fill: #D2E3FC;\n",
              "    }\n",
              "\n",
              "    [theme=dark] .colab-df-convert:hover {\n",
              "      background-color: #434B5C;\n",
              "      box-shadow: 0px 1px 3px 1px rgba(0, 0, 0, 0.15);\n",
              "      filter: drop-shadow(0px 1px 2px rgba(0, 0, 0, 0.3));\n",
              "      fill: #FFFFFF;\n",
              "    }\n",
              "  </style>\n",
              "\n",
              "      <script>\n",
              "        const buttonEl =\n",
              "          document.querySelector('#df-cf8aadd5-660c-401b-b067-f3bcc71389a9 button.colab-df-convert');\n",
              "        buttonEl.style.display =\n",
              "          google.colab.kernel.accessAllowed ? 'block' : 'none';\n",
              "\n",
              "        async function convertToInteractive(key) {\n",
              "          const element = document.querySelector('#df-cf8aadd5-660c-401b-b067-f3bcc71389a9');\n",
              "          const dataTable =\n",
              "            await google.colab.kernel.invokeFunction('convertToInteractive',\n",
              "                                                     [key], {});\n",
              "          if (!dataTable) return;\n",
              "\n",
              "          const docLinkHtml = 'Like what you see? Visit the ' +\n",
              "            '<a target=\"_blank\" href=https://colab.research.google.com/notebooks/data_table.ipynb>data table notebook</a>'\n",
              "            + ' to learn more about interactive tables.';\n",
              "          element.innerHTML = '';\n",
              "          dataTable['output_type'] = 'display_data';\n",
              "          await google.colab.output.renderOutput(dataTable, element);\n",
              "          const docLink = document.createElement('div');\n",
              "          docLink.innerHTML = docLinkHtml;\n",
              "          element.appendChild(docLink);\n",
              "        }\n",
              "      </script>\n",
              "    </div>\n",
              "  </div>\n",
              "  "
            ]
          },
          "metadata": {},
          "execution_count": 128
        }
      ]
    },
    {
      "cell_type": "markdown",
      "source": [
        "Interval variables "
      ],
      "metadata": {
        "id": "BLWiEU3zFKHz"
      }
    },
    {
      "cell_type": "code",
      "source": [
        "# \"\"\" train[f].dtype == float: level = 'interval' \"\"\"\n",
        "v = meta[(meta.level == 'interval') & (meta.keep)].index\n",
        "train[v].describe()\n",
        "\n",
        "#Missing values >> min -1"
      ],
      "metadata": {
        "colab": {
          "base_uri": "https://localhost:8080/",
          "height": 300
        },
        "id": "4oavOYdp_-CW",
        "outputId": "1380bf90-3a5c-4514-bf3a-f755ec5a9378"
      },
      "execution_count": 129,
      "outputs": [
        {
          "output_type": "execute_result",
          "data": {
            "text/plain": [
              "           ps_reg_01      ps_reg_02      ps_reg_03      ps_car_12  \\\n",
              "count  595212.000000  595212.000000  595212.000000  595212.000000   \n",
              "mean        0.610991       0.439184       0.551102       0.379945   \n",
              "std         0.287643       0.404264       0.793506       0.058327   \n",
              "min         0.000000       0.000000      -1.000000      -1.000000   \n",
              "25%         0.400000       0.200000       0.525000       0.316228   \n",
              "50%         0.700000       0.300000       0.720677       0.374166   \n",
              "75%         0.900000       0.600000       1.000000       0.400000   \n",
              "max         0.900000       1.800000       4.037945       1.264911   \n",
              "\n",
              "           ps_car_13      ps_car_14      ps_car_15     ps_calc_01  \\\n",
              "count  595212.000000  595212.000000  595212.000000  595212.000000   \n",
              "mean        0.813265       0.276256       3.065899       0.449756   \n",
              "std         0.224588       0.357154       0.731366       0.287198   \n",
              "min         0.250619      -1.000000       0.000000       0.000000   \n",
              "25%         0.670867       0.333167       2.828427       0.200000   \n",
              "50%         0.765811       0.368782       3.316625       0.500000   \n",
              "75%         0.906190       0.396485       3.605551       0.700000   \n",
              "max         3.720626       0.636396       3.741657       0.900000   \n",
              "\n",
              "          ps_calc_02     ps_calc_03  \n",
              "count  595212.000000  595212.000000  \n",
              "mean        0.449589       0.449849  \n",
              "std         0.286893       0.287153  \n",
              "min         0.000000       0.000000  \n",
              "25%         0.200000       0.200000  \n",
              "50%         0.400000       0.500000  \n",
              "75%         0.700000       0.700000  \n",
              "max         0.900000       0.900000  "
            ],
            "text/html": [
              "\n",
              "  <div id=\"df-1fa09067-1fc3-45f8-bbd3-36bf8c7e6184\">\n",
              "    <div class=\"colab-df-container\">\n",
              "      <div>\n",
              "<style scoped>\n",
              "    .dataframe tbody tr th:only-of-type {\n",
              "        vertical-align: middle;\n",
              "    }\n",
              "\n",
              "    .dataframe tbody tr th {\n",
              "        vertical-align: top;\n",
              "    }\n",
              "\n",
              "    .dataframe thead th {\n",
              "        text-align: right;\n",
              "    }\n",
              "</style>\n",
              "<table border=\"1\" class=\"dataframe\">\n",
              "  <thead>\n",
              "    <tr style=\"text-align: right;\">\n",
              "      <th></th>\n",
              "      <th>ps_reg_01</th>\n",
              "      <th>ps_reg_02</th>\n",
              "      <th>ps_reg_03</th>\n",
              "      <th>ps_car_12</th>\n",
              "      <th>ps_car_13</th>\n",
              "      <th>ps_car_14</th>\n",
              "      <th>ps_car_15</th>\n",
              "      <th>ps_calc_01</th>\n",
              "      <th>ps_calc_02</th>\n",
              "      <th>ps_calc_03</th>\n",
              "    </tr>\n",
              "  </thead>\n",
              "  <tbody>\n",
              "    <tr>\n",
              "      <th>count</th>\n",
              "      <td>595212.000000</td>\n",
              "      <td>595212.000000</td>\n",
              "      <td>595212.000000</td>\n",
              "      <td>595212.000000</td>\n",
              "      <td>595212.000000</td>\n",
              "      <td>595212.000000</td>\n",
              "      <td>595212.000000</td>\n",
              "      <td>595212.000000</td>\n",
              "      <td>595212.000000</td>\n",
              "      <td>595212.000000</td>\n",
              "    </tr>\n",
              "    <tr>\n",
              "      <th>mean</th>\n",
              "      <td>0.610991</td>\n",
              "      <td>0.439184</td>\n",
              "      <td>0.551102</td>\n",
              "      <td>0.379945</td>\n",
              "      <td>0.813265</td>\n",
              "      <td>0.276256</td>\n",
              "      <td>3.065899</td>\n",
              "      <td>0.449756</td>\n",
              "      <td>0.449589</td>\n",
              "      <td>0.449849</td>\n",
              "    </tr>\n",
              "    <tr>\n",
              "      <th>std</th>\n",
              "      <td>0.287643</td>\n",
              "      <td>0.404264</td>\n",
              "      <td>0.793506</td>\n",
              "      <td>0.058327</td>\n",
              "      <td>0.224588</td>\n",
              "      <td>0.357154</td>\n",
              "      <td>0.731366</td>\n",
              "      <td>0.287198</td>\n",
              "      <td>0.286893</td>\n",
              "      <td>0.287153</td>\n",
              "    </tr>\n",
              "    <tr>\n",
              "      <th>min</th>\n",
              "      <td>0.000000</td>\n",
              "      <td>0.000000</td>\n",
              "      <td>-1.000000</td>\n",
              "      <td>-1.000000</td>\n",
              "      <td>0.250619</td>\n",
              "      <td>-1.000000</td>\n",
              "      <td>0.000000</td>\n",
              "      <td>0.000000</td>\n",
              "      <td>0.000000</td>\n",
              "      <td>0.000000</td>\n",
              "    </tr>\n",
              "    <tr>\n",
              "      <th>25%</th>\n",
              "      <td>0.400000</td>\n",
              "      <td>0.200000</td>\n",
              "      <td>0.525000</td>\n",
              "      <td>0.316228</td>\n",
              "      <td>0.670867</td>\n",
              "      <td>0.333167</td>\n",
              "      <td>2.828427</td>\n",
              "      <td>0.200000</td>\n",
              "      <td>0.200000</td>\n",
              "      <td>0.200000</td>\n",
              "    </tr>\n",
              "    <tr>\n",
              "      <th>50%</th>\n",
              "      <td>0.700000</td>\n",
              "      <td>0.300000</td>\n",
              "      <td>0.720677</td>\n",
              "      <td>0.374166</td>\n",
              "      <td>0.765811</td>\n",
              "      <td>0.368782</td>\n",
              "      <td>3.316625</td>\n",
              "      <td>0.500000</td>\n",
              "      <td>0.400000</td>\n",
              "      <td>0.500000</td>\n",
              "    </tr>\n",
              "    <tr>\n",
              "      <th>75%</th>\n",
              "      <td>0.900000</td>\n",
              "      <td>0.600000</td>\n",
              "      <td>1.000000</td>\n",
              "      <td>0.400000</td>\n",
              "      <td>0.906190</td>\n",
              "      <td>0.396485</td>\n",
              "      <td>3.605551</td>\n",
              "      <td>0.700000</td>\n",
              "      <td>0.700000</td>\n",
              "      <td>0.700000</td>\n",
              "    </tr>\n",
              "    <tr>\n",
              "      <th>max</th>\n",
              "      <td>0.900000</td>\n",
              "      <td>1.800000</td>\n",
              "      <td>4.037945</td>\n",
              "      <td>1.264911</td>\n",
              "      <td>3.720626</td>\n",
              "      <td>0.636396</td>\n",
              "      <td>3.741657</td>\n",
              "      <td>0.900000</td>\n",
              "      <td>0.900000</td>\n",
              "      <td>0.900000</td>\n",
              "    </tr>\n",
              "  </tbody>\n",
              "</table>\n",
              "</div>\n",
              "      <button class=\"colab-df-convert\" onclick=\"convertToInteractive('df-1fa09067-1fc3-45f8-bbd3-36bf8c7e6184')\"\n",
              "              title=\"Convert this dataframe to an interactive table.\"\n",
              "              style=\"display:none;\">\n",
              "        \n",
              "  <svg xmlns=\"http://www.w3.org/2000/svg\" height=\"24px\"viewBox=\"0 0 24 24\"\n",
              "       width=\"24px\">\n",
              "    <path d=\"M0 0h24v24H0V0z\" fill=\"none\"/>\n",
              "    <path d=\"M18.56 5.44l.94 2.06.94-2.06 2.06-.94-2.06-.94-.94-2.06-.94 2.06-2.06.94zm-11 1L8.5 8.5l.94-2.06 2.06-.94-2.06-.94L8.5 2.5l-.94 2.06-2.06.94zm10 10l.94 2.06.94-2.06 2.06-.94-2.06-.94-.94-2.06-.94 2.06-2.06.94z\"/><path d=\"M17.41 7.96l-1.37-1.37c-.4-.4-.92-.59-1.43-.59-.52 0-1.04.2-1.43.59L10.3 9.45l-7.72 7.72c-.78.78-.78 2.05 0 2.83L4 21.41c.39.39.9.59 1.41.59.51 0 1.02-.2 1.41-.59l7.78-7.78 2.81-2.81c.8-.78.8-2.07 0-2.86zM5.41 20L4 18.59l7.72-7.72 1.47 1.35L5.41 20z\"/>\n",
              "  </svg>\n",
              "      </button>\n",
              "      \n",
              "  <style>\n",
              "    .colab-df-container {\n",
              "      display:flex;\n",
              "      flex-wrap:wrap;\n",
              "      gap: 12px;\n",
              "    }\n",
              "\n",
              "    .colab-df-convert {\n",
              "      background-color: #E8F0FE;\n",
              "      border: none;\n",
              "      border-radius: 50%;\n",
              "      cursor: pointer;\n",
              "      display: none;\n",
              "      fill: #1967D2;\n",
              "      height: 32px;\n",
              "      padding: 0 0 0 0;\n",
              "      width: 32px;\n",
              "    }\n",
              "\n",
              "    .colab-df-convert:hover {\n",
              "      background-color: #E2EBFA;\n",
              "      box-shadow: 0px 1px 2px rgba(60, 64, 67, 0.3), 0px 1px 3px 1px rgba(60, 64, 67, 0.15);\n",
              "      fill: #174EA6;\n",
              "    }\n",
              "\n",
              "    [theme=dark] .colab-df-convert {\n",
              "      background-color: #3B4455;\n",
              "      fill: #D2E3FC;\n",
              "    }\n",
              "\n",
              "    [theme=dark] .colab-df-convert:hover {\n",
              "      background-color: #434B5C;\n",
              "      box-shadow: 0px 1px 3px 1px rgba(0, 0, 0, 0.15);\n",
              "      filter: drop-shadow(0px 1px 2px rgba(0, 0, 0, 0.3));\n",
              "      fill: #FFFFFF;\n",
              "    }\n",
              "  </style>\n",
              "\n",
              "      <script>\n",
              "        const buttonEl =\n",
              "          document.querySelector('#df-1fa09067-1fc3-45f8-bbd3-36bf8c7e6184 button.colab-df-convert');\n",
              "        buttonEl.style.display =\n",
              "          google.colab.kernel.accessAllowed ? 'block' : 'none';\n",
              "\n",
              "        async function convertToInteractive(key) {\n",
              "          const element = document.querySelector('#df-1fa09067-1fc3-45f8-bbd3-36bf8c7e6184');\n",
              "          const dataTable =\n",
              "            await google.colab.kernel.invokeFunction('convertToInteractive',\n",
              "                                                     [key], {});\n",
              "          if (!dataTable) return;\n",
              "\n",
              "          const docLinkHtml = 'Like what you see? Visit the ' +\n",
              "            '<a target=\"_blank\" href=https://colab.research.google.com/notebooks/data_table.ipynb>data table notebook</a>'\n",
              "            + ' to learn more about interactive tables.';\n",
              "          element.innerHTML = '';\n",
              "          dataTable['output_type'] = 'display_data';\n",
              "          await google.colab.output.renderOutput(dataTable, element);\n",
              "          const docLink = document.createElement('div');\n",
              "          docLink.innerHTML = docLinkHtml;\n",
              "          element.appendChild(docLink);\n",
              "        }\n",
              "      </script>\n",
              "    </div>\n",
              "  </div>\n",
              "  "
            ]
          },
          "metadata": {},
          "execution_count": 129
        }
      ]
    },
    {
      "cell_type": "markdown",
      "source": [
        "* reg variables  \n",
        " only ps_reg_03 has missing values.\n",
        " the range (min to max) differs between the variables. We could apply scaling (e.g. StandardScaler), but it depends on the classifier we will want to use.  \n",
        "\n",
        "* car variables  \n",
        " ps_car_12 and ps_car_15 have missing values.  \n",
        " again, the range differs and we could apply scaling.  \n",
        "\n",
        "* calc variables  \n",
        " no missing values.  \n",
        " this seems to be some kind of ratio as the maximum is 0.9  \n",
        " all three _calc variables have very similar distributions  \n"
      ],
      "metadata": {
        "id": "7ZHOzsm5EIyh"
      }
    },
    {
      "cell_type": "markdown",
      "source": [
        "Ordinal variables"
      ],
      "metadata": {
        "id": "sSaXbbgkFQRX"
      }
    },
    {
      "cell_type": "code",
      "source": [
        "# \"\"\" train[f].dtype == int: level = 'ordinal' \"\"\"\n",
        "v = meta[(meta.level == 'ordinal') & (meta.keep)].index\n",
        "train[v].describe()"
      ],
      "metadata": {
        "colab": {
          "base_uri": "https://localhost:8080/",
          "height": 364
        },
        "id": "_ln8h5X4_9_w",
        "outputId": "e6cfb436-2616-4575-c0ed-17c78825f988"
      },
      "execution_count": 130,
      "outputs": [
        {
          "output_type": "execute_result",
          "data": {
            "text/plain": [
              "           ps_ind_01      ps_ind_03      ps_ind_14      ps_ind_15  \\\n",
              "count  595212.000000  595212.000000  595212.000000  595212.000000   \n",
              "mean        1.900378       4.423318       0.012451       7.299922   \n",
              "std         1.983789       2.699902       0.127545       3.546042   \n",
              "min         0.000000       0.000000       0.000000       0.000000   \n",
              "25%         0.000000       2.000000       0.000000       5.000000   \n",
              "50%         1.000000       4.000000       0.000000       7.000000   \n",
              "75%         3.000000       6.000000       0.000000      10.000000   \n",
              "max         7.000000      11.000000       4.000000      13.000000   \n",
              "\n",
              "           ps_car_11     ps_calc_04     ps_calc_05     ps_calc_06  \\\n",
              "count  595212.000000  595212.000000  595212.000000  595212.000000   \n",
              "mean        2.346072       2.372081       1.885886       7.689445   \n",
              "std         0.832548       1.117219       1.134927       1.334312   \n",
              "min        -1.000000       0.000000       0.000000       0.000000   \n",
              "25%         2.000000       2.000000       1.000000       7.000000   \n",
              "50%         3.000000       2.000000       2.000000       8.000000   \n",
              "75%         3.000000       3.000000       3.000000       9.000000   \n",
              "max         3.000000       5.000000       6.000000      10.000000   \n",
              "\n",
              "          ps_calc_07     ps_calc_08     ps_calc_09     ps_calc_10  \\\n",
              "count  595212.000000  595212.000000  595212.000000  595212.000000   \n",
              "mean        3.005823       9.225904       2.339034       8.433590   \n",
              "std         1.414564       1.459672       1.246949       2.904597   \n",
              "min         0.000000       2.000000       0.000000       0.000000   \n",
              "25%         2.000000       8.000000       1.000000       6.000000   \n",
              "50%         3.000000       9.000000       2.000000       8.000000   \n",
              "75%         4.000000      10.000000       3.000000      10.000000   \n",
              "max         9.000000      12.000000       7.000000      25.000000   \n",
              "\n",
              "          ps_calc_11     ps_calc_12     ps_calc_13     ps_calc_14  \n",
              "count  595212.000000  595212.000000  595212.000000  595212.000000  \n",
              "mean        5.441382       1.441918       2.872288       7.539026  \n",
              "std         2.332871       1.202963       1.694887       2.746652  \n",
              "min         0.000000       0.000000       0.000000       0.000000  \n",
              "25%         4.000000       1.000000       2.000000       6.000000  \n",
              "50%         5.000000       1.000000       3.000000       7.000000  \n",
              "75%         7.000000       2.000000       4.000000       9.000000  \n",
              "max        19.000000      10.000000      13.000000      23.000000  "
            ],
            "text/html": [
              "\n",
              "  <div id=\"df-67c58184-d0bb-41a9-87fd-27b78f3d1d85\">\n",
              "    <div class=\"colab-df-container\">\n",
              "      <div>\n",
              "<style scoped>\n",
              "    .dataframe tbody tr th:only-of-type {\n",
              "        vertical-align: middle;\n",
              "    }\n",
              "\n",
              "    .dataframe tbody tr th {\n",
              "        vertical-align: top;\n",
              "    }\n",
              "\n",
              "    .dataframe thead th {\n",
              "        text-align: right;\n",
              "    }\n",
              "</style>\n",
              "<table border=\"1\" class=\"dataframe\">\n",
              "  <thead>\n",
              "    <tr style=\"text-align: right;\">\n",
              "      <th></th>\n",
              "      <th>ps_ind_01</th>\n",
              "      <th>ps_ind_03</th>\n",
              "      <th>ps_ind_14</th>\n",
              "      <th>ps_ind_15</th>\n",
              "      <th>ps_car_11</th>\n",
              "      <th>ps_calc_04</th>\n",
              "      <th>ps_calc_05</th>\n",
              "      <th>ps_calc_06</th>\n",
              "      <th>ps_calc_07</th>\n",
              "      <th>ps_calc_08</th>\n",
              "      <th>ps_calc_09</th>\n",
              "      <th>ps_calc_10</th>\n",
              "      <th>ps_calc_11</th>\n",
              "      <th>ps_calc_12</th>\n",
              "      <th>ps_calc_13</th>\n",
              "      <th>ps_calc_14</th>\n",
              "    </tr>\n",
              "  </thead>\n",
              "  <tbody>\n",
              "    <tr>\n",
              "      <th>count</th>\n",
              "      <td>595212.000000</td>\n",
              "      <td>595212.000000</td>\n",
              "      <td>595212.000000</td>\n",
              "      <td>595212.000000</td>\n",
              "      <td>595212.000000</td>\n",
              "      <td>595212.000000</td>\n",
              "      <td>595212.000000</td>\n",
              "      <td>595212.000000</td>\n",
              "      <td>595212.000000</td>\n",
              "      <td>595212.000000</td>\n",
              "      <td>595212.000000</td>\n",
              "      <td>595212.000000</td>\n",
              "      <td>595212.000000</td>\n",
              "      <td>595212.000000</td>\n",
              "      <td>595212.000000</td>\n",
              "      <td>595212.000000</td>\n",
              "    </tr>\n",
              "    <tr>\n",
              "      <th>mean</th>\n",
              "      <td>1.900378</td>\n",
              "      <td>4.423318</td>\n",
              "      <td>0.012451</td>\n",
              "      <td>7.299922</td>\n",
              "      <td>2.346072</td>\n",
              "      <td>2.372081</td>\n",
              "      <td>1.885886</td>\n",
              "      <td>7.689445</td>\n",
              "      <td>3.005823</td>\n",
              "      <td>9.225904</td>\n",
              "      <td>2.339034</td>\n",
              "      <td>8.433590</td>\n",
              "      <td>5.441382</td>\n",
              "      <td>1.441918</td>\n",
              "      <td>2.872288</td>\n",
              "      <td>7.539026</td>\n",
              "    </tr>\n",
              "    <tr>\n",
              "      <th>std</th>\n",
              "      <td>1.983789</td>\n",
              "      <td>2.699902</td>\n",
              "      <td>0.127545</td>\n",
              "      <td>3.546042</td>\n",
              "      <td>0.832548</td>\n",
              "      <td>1.117219</td>\n",
              "      <td>1.134927</td>\n",
              "      <td>1.334312</td>\n",
              "      <td>1.414564</td>\n",
              "      <td>1.459672</td>\n",
              "      <td>1.246949</td>\n",
              "      <td>2.904597</td>\n",
              "      <td>2.332871</td>\n",
              "      <td>1.202963</td>\n",
              "      <td>1.694887</td>\n",
              "      <td>2.746652</td>\n",
              "    </tr>\n",
              "    <tr>\n",
              "      <th>min</th>\n",
              "      <td>0.000000</td>\n",
              "      <td>0.000000</td>\n",
              "      <td>0.000000</td>\n",
              "      <td>0.000000</td>\n",
              "      <td>-1.000000</td>\n",
              "      <td>0.000000</td>\n",
              "      <td>0.000000</td>\n",
              "      <td>0.000000</td>\n",
              "      <td>0.000000</td>\n",
              "      <td>2.000000</td>\n",
              "      <td>0.000000</td>\n",
              "      <td>0.000000</td>\n",
              "      <td>0.000000</td>\n",
              "      <td>0.000000</td>\n",
              "      <td>0.000000</td>\n",
              "      <td>0.000000</td>\n",
              "    </tr>\n",
              "    <tr>\n",
              "      <th>25%</th>\n",
              "      <td>0.000000</td>\n",
              "      <td>2.000000</td>\n",
              "      <td>0.000000</td>\n",
              "      <td>5.000000</td>\n",
              "      <td>2.000000</td>\n",
              "      <td>2.000000</td>\n",
              "      <td>1.000000</td>\n",
              "      <td>7.000000</td>\n",
              "      <td>2.000000</td>\n",
              "      <td>8.000000</td>\n",
              "      <td>1.000000</td>\n",
              "      <td>6.000000</td>\n",
              "      <td>4.000000</td>\n",
              "      <td>1.000000</td>\n",
              "      <td>2.000000</td>\n",
              "      <td>6.000000</td>\n",
              "    </tr>\n",
              "    <tr>\n",
              "      <th>50%</th>\n",
              "      <td>1.000000</td>\n",
              "      <td>4.000000</td>\n",
              "      <td>0.000000</td>\n",
              "      <td>7.000000</td>\n",
              "      <td>3.000000</td>\n",
              "      <td>2.000000</td>\n",
              "      <td>2.000000</td>\n",
              "      <td>8.000000</td>\n",
              "      <td>3.000000</td>\n",
              "      <td>9.000000</td>\n",
              "      <td>2.000000</td>\n",
              "      <td>8.000000</td>\n",
              "      <td>5.000000</td>\n",
              "      <td>1.000000</td>\n",
              "      <td>3.000000</td>\n",
              "      <td>7.000000</td>\n",
              "    </tr>\n",
              "    <tr>\n",
              "      <th>75%</th>\n",
              "      <td>3.000000</td>\n",
              "      <td>6.000000</td>\n",
              "      <td>0.000000</td>\n",
              "      <td>10.000000</td>\n",
              "      <td>3.000000</td>\n",
              "      <td>3.000000</td>\n",
              "      <td>3.000000</td>\n",
              "      <td>9.000000</td>\n",
              "      <td>4.000000</td>\n",
              "      <td>10.000000</td>\n",
              "      <td>3.000000</td>\n",
              "      <td>10.000000</td>\n",
              "      <td>7.000000</td>\n",
              "      <td>2.000000</td>\n",
              "      <td>4.000000</td>\n",
              "      <td>9.000000</td>\n",
              "    </tr>\n",
              "    <tr>\n",
              "      <th>max</th>\n",
              "      <td>7.000000</td>\n",
              "      <td>11.000000</td>\n",
              "      <td>4.000000</td>\n",
              "      <td>13.000000</td>\n",
              "      <td>3.000000</td>\n",
              "      <td>5.000000</td>\n",
              "      <td>6.000000</td>\n",
              "      <td>10.000000</td>\n",
              "      <td>9.000000</td>\n",
              "      <td>12.000000</td>\n",
              "      <td>7.000000</td>\n",
              "      <td>25.000000</td>\n",
              "      <td>19.000000</td>\n",
              "      <td>10.000000</td>\n",
              "      <td>13.000000</td>\n",
              "      <td>23.000000</td>\n",
              "    </tr>\n",
              "  </tbody>\n",
              "</table>\n",
              "</div>\n",
              "      <button class=\"colab-df-convert\" onclick=\"convertToInteractive('df-67c58184-d0bb-41a9-87fd-27b78f3d1d85')\"\n",
              "              title=\"Convert this dataframe to an interactive table.\"\n",
              "              style=\"display:none;\">\n",
              "        \n",
              "  <svg xmlns=\"http://www.w3.org/2000/svg\" height=\"24px\"viewBox=\"0 0 24 24\"\n",
              "       width=\"24px\">\n",
              "    <path d=\"M0 0h24v24H0V0z\" fill=\"none\"/>\n",
              "    <path d=\"M18.56 5.44l.94 2.06.94-2.06 2.06-.94-2.06-.94-.94-2.06-.94 2.06-2.06.94zm-11 1L8.5 8.5l.94-2.06 2.06-.94-2.06-.94L8.5 2.5l-.94 2.06-2.06.94zm10 10l.94 2.06.94-2.06 2.06-.94-2.06-.94-.94-2.06-.94 2.06-2.06.94z\"/><path d=\"M17.41 7.96l-1.37-1.37c-.4-.4-.92-.59-1.43-.59-.52 0-1.04.2-1.43.59L10.3 9.45l-7.72 7.72c-.78.78-.78 2.05 0 2.83L4 21.41c.39.39.9.59 1.41.59.51 0 1.02-.2 1.41-.59l7.78-7.78 2.81-2.81c.8-.78.8-2.07 0-2.86zM5.41 20L4 18.59l7.72-7.72 1.47 1.35L5.41 20z\"/>\n",
              "  </svg>\n",
              "      </button>\n",
              "      \n",
              "  <style>\n",
              "    .colab-df-container {\n",
              "      display:flex;\n",
              "      flex-wrap:wrap;\n",
              "      gap: 12px;\n",
              "    }\n",
              "\n",
              "    .colab-df-convert {\n",
              "      background-color: #E8F0FE;\n",
              "      border: none;\n",
              "      border-radius: 50%;\n",
              "      cursor: pointer;\n",
              "      display: none;\n",
              "      fill: #1967D2;\n",
              "      height: 32px;\n",
              "      padding: 0 0 0 0;\n",
              "      width: 32px;\n",
              "    }\n",
              "\n",
              "    .colab-df-convert:hover {\n",
              "      background-color: #E2EBFA;\n",
              "      box-shadow: 0px 1px 2px rgba(60, 64, 67, 0.3), 0px 1px 3px 1px rgba(60, 64, 67, 0.15);\n",
              "      fill: #174EA6;\n",
              "    }\n",
              "\n",
              "    [theme=dark] .colab-df-convert {\n",
              "      background-color: #3B4455;\n",
              "      fill: #D2E3FC;\n",
              "    }\n",
              "\n",
              "    [theme=dark] .colab-df-convert:hover {\n",
              "      background-color: #434B5C;\n",
              "      box-shadow: 0px 1px 3px 1px rgba(0, 0, 0, 0.15);\n",
              "      filter: drop-shadow(0px 1px 2px rgba(0, 0, 0, 0.3));\n",
              "      fill: #FFFFFF;\n",
              "    }\n",
              "  </style>\n",
              "\n",
              "      <script>\n",
              "        const buttonEl =\n",
              "          document.querySelector('#df-67c58184-d0bb-41a9-87fd-27b78f3d1d85 button.colab-df-convert');\n",
              "        buttonEl.style.display =\n",
              "          google.colab.kernel.accessAllowed ? 'block' : 'none';\n",
              "\n",
              "        async function convertToInteractive(key) {\n",
              "          const element = document.querySelector('#df-67c58184-d0bb-41a9-87fd-27b78f3d1d85');\n",
              "          const dataTable =\n",
              "            await google.colab.kernel.invokeFunction('convertToInteractive',\n",
              "                                                     [key], {});\n",
              "          if (!dataTable) return;\n",
              "\n",
              "          const docLinkHtml = 'Like what you see? Visit the ' +\n",
              "            '<a target=\"_blank\" href=https://colab.research.google.com/notebooks/data_table.ipynb>data table notebook</a>'\n",
              "            + ' to learn more about interactive tables.';\n",
              "          element.innerHTML = '';\n",
              "          dataTable['output_type'] = 'display_data';\n",
              "          await google.colab.output.renderOutput(dataTable, element);\n",
              "          const docLink = document.createElement('div');\n",
              "          docLink.innerHTML = docLinkHtml;\n",
              "          element.appendChild(docLink);\n",
              "        }\n",
              "      </script>\n",
              "    </div>\n",
              "  </div>\n",
              "  "
            ]
          },
          "metadata": {},
          "execution_count": 130
        }
      ]
    },
    {
      "cell_type": "markdown",
      "source": [
        "* Only one missing variable: ps_car_11  \n",
        "* We could apply scaling to deal with the different ranges"
      ],
      "metadata": {
        "id": "wICa7UBYGwW6"
      }
    },
    {
      "cell_type": "markdown",
      "source": [
        "Binary variables"
      ],
      "metadata": {
        "id": "xThSjN6cFuat"
      }
    },
    {
      "cell_type": "code",
      "source": [
        "# \"\"\" 'bin' in f or f == 'target': level = 'binary' \"\"\"\n",
        "v = meta[(meta.level == 'binary') & (meta.keep)].index\n",
        "train[v].describe()"
      ],
      "metadata": {
        "colab": {
          "base_uri": "https://localhost:8080/",
          "height": 364
        },
        "id": "yb6azqKs_98_",
        "outputId": "070538fa-ec27-43a8-8045-ea34ed923c2b"
      },
      "execution_count": 131,
      "outputs": [
        {
          "output_type": "execute_result",
          "data": {
            "text/plain": [
              "              target  ps_ind_06_bin  ps_ind_07_bin  ps_ind_08_bin  \\\n",
              "count  595212.000000  595212.000000  595212.000000  595212.000000   \n",
              "mean        0.036448       0.393742       0.257033       0.163921   \n",
              "std         0.187401       0.488579       0.436998       0.370205   \n",
              "min         0.000000       0.000000       0.000000       0.000000   \n",
              "25%         0.000000       0.000000       0.000000       0.000000   \n",
              "50%         0.000000       0.000000       0.000000       0.000000   \n",
              "75%         0.000000       1.000000       1.000000       0.000000   \n",
              "max         1.000000       1.000000       1.000000       1.000000   \n",
              "\n",
              "       ps_ind_09_bin  ps_ind_10_bin  ps_ind_11_bin  ps_ind_12_bin  \\\n",
              "count  595212.000000  595212.000000  595212.000000  595212.000000   \n",
              "mean        0.185304       0.000373       0.001692       0.009439   \n",
              "std         0.388544       0.019309       0.041097       0.096693   \n",
              "min         0.000000       0.000000       0.000000       0.000000   \n",
              "25%         0.000000       0.000000       0.000000       0.000000   \n",
              "50%         0.000000       0.000000       0.000000       0.000000   \n",
              "75%         0.000000       0.000000       0.000000       0.000000   \n",
              "max         1.000000       1.000000       1.000000       1.000000   \n",
              "\n",
              "       ps_ind_13_bin  ps_ind_16_bin  ps_ind_17_bin  ps_ind_18_bin  \\\n",
              "count  595212.000000  595212.000000  595212.000000  595212.000000   \n",
              "mean        0.000948       0.660823       0.121081       0.153446   \n",
              "std         0.030768       0.473430       0.326222       0.360417   \n",
              "min         0.000000       0.000000       0.000000       0.000000   \n",
              "25%         0.000000       0.000000       0.000000       0.000000   \n",
              "50%         0.000000       1.000000       0.000000       0.000000   \n",
              "75%         0.000000       1.000000       0.000000       0.000000   \n",
              "max         1.000000       1.000000       1.000000       1.000000   \n",
              "\n",
              "       ps_calc_15_bin  ps_calc_16_bin  ps_calc_17_bin  ps_calc_18_bin  \\\n",
              "count   595212.000000   595212.000000   595212.000000   595212.000000   \n",
              "mean         0.122427        0.627840        0.554182        0.287182   \n",
              "std          0.327779        0.483381        0.497056        0.452447   \n",
              "min          0.000000        0.000000        0.000000        0.000000   \n",
              "25%          0.000000        0.000000        0.000000        0.000000   \n",
              "50%          0.000000        1.000000        1.000000        0.000000   \n",
              "75%          0.000000        1.000000        1.000000        1.000000   \n",
              "max          1.000000        1.000000        1.000000        1.000000   \n",
              "\n",
              "       ps_calc_19_bin  ps_calc_20_bin  \n",
              "count   595212.000000   595212.000000  \n",
              "mean         0.349024        0.153318  \n",
              "std          0.476662        0.360295  \n",
              "min          0.000000        0.000000  \n",
              "25%          0.000000        0.000000  \n",
              "50%          0.000000        0.000000  \n",
              "75%          1.000000        0.000000  \n",
              "max          1.000000        1.000000  "
            ],
            "text/html": [
              "\n",
              "  <div id=\"df-d25af698-f714-4951-b276-fb7050dc13df\">\n",
              "    <div class=\"colab-df-container\">\n",
              "      <div>\n",
              "<style scoped>\n",
              "    .dataframe tbody tr th:only-of-type {\n",
              "        vertical-align: middle;\n",
              "    }\n",
              "\n",
              "    .dataframe tbody tr th {\n",
              "        vertical-align: top;\n",
              "    }\n",
              "\n",
              "    .dataframe thead th {\n",
              "        text-align: right;\n",
              "    }\n",
              "</style>\n",
              "<table border=\"1\" class=\"dataframe\">\n",
              "  <thead>\n",
              "    <tr style=\"text-align: right;\">\n",
              "      <th></th>\n",
              "      <th>target</th>\n",
              "      <th>ps_ind_06_bin</th>\n",
              "      <th>ps_ind_07_bin</th>\n",
              "      <th>ps_ind_08_bin</th>\n",
              "      <th>ps_ind_09_bin</th>\n",
              "      <th>ps_ind_10_bin</th>\n",
              "      <th>ps_ind_11_bin</th>\n",
              "      <th>ps_ind_12_bin</th>\n",
              "      <th>ps_ind_13_bin</th>\n",
              "      <th>ps_ind_16_bin</th>\n",
              "      <th>ps_ind_17_bin</th>\n",
              "      <th>ps_ind_18_bin</th>\n",
              "      <th>ps_calc_15_bin</th>\n",
              "      <th>ps_calc_16_bin</th>\n",
              "      <th>ps_calc_17_bin</th>\n",
              "      <th>ps_calc_18_bin</th>\n",
              "      <th>ps_calc_19_bin</th>\n",
              "      <th>ps_calc_20_bin</th>\n",
              "    </tr>\n",
              "  </thead>\n",
              "  <tbody>\n",
              "    <tr>\n",
              "      <th>count</th>\n",
              "      <td>595212.000000</td>\n",
              "      <td>595212.000000</td>\n",
              "      <td>595212.000000</td>\n",
              "      <td>595212.000000</td>\n",
              "      <td>595212.000000</td>\n",
              "      <td>595212.000000</td>\n",
              "      <td>595212.000000</td>\n",
              "      <td>595212.000000</td>\n",
              "      <td>595212.000000</td>\n",
              "      <td>595212.000000</td>\n",
              "      <td>595212.000000</td>\n",
              "      <td>595212.000000</td>\n",
              "      <td>595212.000000</td>\n",
              "      <td>595212.000000</td>\n",
              "      <td>595212.000000</td>\n",
              "      <td>595212.000000</td>\n",
              "      <td>595212.000000</td>\n",
              "      <td>595212.000000</td>\n",
              "    </tr>\n",
              "    <tr>\n",
              "      <th>mean</th>\n",
              "      <td>0.036448</td>\n",
              "      <td>0.393742</td>\n",
              "      <td>0.257033</td>\n",
              "      <td>0.163921</td>\n",
              "      <td>0.185304</td>\n",
              "      <td>0.000373</td>\n",
              "      <td>0.001692</td>\n",
              "      <td>0.009439</td>\n",
              "      <td>0.000948</td>\n",
              "      <td>0.660823</td>\n",
              "      <td>0.121081</td>\n",
              "      <td>0.153446</td>\n",
              "      <td>0.122427</td>\n",
              "      <td>0.627840</td>\n",
              "      <td>0.554182</td>\n",
              "      <td>0.287182</td>\n",
              "      <td>0.349024</td>\n",
              "      <td>0.153318</td>\n",
              "    </tr>\n",
              "    <tr>\n",
              "      <th>std</th>\n",
              "      <td>0.187401</td>\n",
              "      <td>0.488579</td>\n",
              "      <td>0.436998</td>\n",
              "      <td>0.370205</td>\n",
              "      <td>0.388544</td>\n",
              "      <td>0.019309</td>\n",
              "      <td>0.041097</td>\n",
              "      <td>0.096693</td>\n",
              "      <td>0.030768</td>\n",
              "      <td>0.473430</td>\n",
              "      <td>0.326222</td>\n",
              "      <td>0.360417</td>\n",
              "      <td>0.327779</td>\n",
              "      <td>0.483381</td>\n",
              "      <td>0.497056</td>\n",
              "      <td>0.452447</td>\n",
              "      <td>0.476662</td>\n",
              "      <td>0.360295</td>\n",
              "    </tr>\n",
              "    <tr>\n",
              "      <th>min</th>\n",
              "      <td>0.000000</td>\n",
              "      <td>0.000000</td>\n",
              "      <td>0.000000</td>\n",
              "      <td>0.000000</td>\n",
              "      <td>0.000000</td>\n",
              "      <td>0.000000</td>\n",
              "      <td>0.000000</td>\n",
              "      <td>0.000000</td>\n",
              "      <td>0.000000</td>\n",
              "      <td>0.000000</td>\n",
              "      <td>0.000000</td>\n",
              "      <td>0.000000</td>\n",
              "      <td>0.000000</td>\n",
              "      <td>0.000000</td>\n",
              "      <td>0.000000</td>\n",
              "      <td>0.000000</td>\n",
              "      <td>0.000000</td>\n",
              "      <td>0.000000</td>\n",
              "    </tr>\n",
              "    <tr>\n",
              "      <th>25%</th>\n",
              "      <td>0.000000</td>\n",
              "      <td>0.000000</td>\n",
              "      <td>0.000000</td>\n",
              "      <td>0.000000</td>\n",
              "      <td>0.000000</td>\n",
              "      <td>0.000000</td>\n",
              "      <td>0.000000</td>\n",
              "      <td>0.000000</td>\n",
              "      <td>0.000000</td>\n",
              "      <td>0.000000</td>\n",
              "      <td>0.000000</td>\n",
              "      <td>0.000000</td>\n",
              "      <td>0.000000</td>\n",
              "      <td>0.000000</td>\n",
              "      <td>0.000000</td>\n",
              "      <td>0.000000</td>\n",
              "      <td>0.000000</td>\n",
              "      <td>0.000000</td>\n",
              "    </tr>\n",
              "    <tr>\n",
              "      <th>50%</th>\n",
              "      <td>0.000000</td>\n",
              "      <td>0.000000</td>\n",
              "      <td>0.000000</td>\n",
              "      <td>0.000000</td>\n",
              "      <td>0.000000</td>\n",
              "      <td>0.000000</td>\n",
              "      <td>0.000000</td>\n",
              "      <td>0.000000</td>\n",
              "      <td>0.000000</td>\n",
              "      <td>1.000000</td>\n",
              "      <td>0.000000</td>\n",
              "      <td>0.000000</td>\n",
              "      <td>0.000000</td>\n",
              "      <td>1.000000</td>\n",
              "      <td>1.000000</td>\n",
              "      <td>0.000000</td>\n",
              "      <td>0.000000</td>\n",
              "      <td>0.000000</td>\n",
              "    </tr>\n",
              "    <tr>\n",
              "      <th>75%</th>\n",
              "      <td>0.000000</td>\n",
              "      <td>1.000000</td>\n",
              "      <td>1.000000</td>\n",
              "      <td>0.000000</td>\n",
              "      <td>0.000000</td>\n",
              "      <td>0.000000</td>\n",
              "      <td>0.000000</td>\n",
              "      <td>0.000000</td>\n",
              "      <td>0.000000</td>\n",
              "      <td>1.000000</td>\n",
              "      <td>0.000000</td>\n",
              "      <td>0.000000</td>\n",
              "      <td>0.000000</td>\n",
              "      <td>1.000000</td>\n",
              "      <td>1.000000</td>\n",
              "      <td>1.000000</td>\n",
              "      <td>1.000000</td>\n",
              "      <td>0.000000</td>\n",
              "    </tr>\n",
              "    <tr>\n",
              "      <th>max</th>\n",
              "      <td>1.000000</td>\n",
              "      <td>1.000000</td>\n",
              "      <td>1.000000</td>\n",
              "      <td>1.000000</td>\n",
              "      <td>1.000000</td>\n",
              "      <td>1.000000</td>\n",
              "      <td>1.000000</td>\n",
              "      <td>1.000000</td>\n",
              "      <td>1.000000</td>\n",
              "      <td>1.000000</td>\n",
              "      <td>1.000000</td>\n",
              "      <td>1.000000</td>\n",
              "      <td>1.000000</td>\n",
              "      <td>1.000000</td>\n",
              "      <td>1.000000</td>\n",
              "      <td>1.000000</td>\n",
              "      <td>1.000000</td>\n",
              "      <td>1.000000</td>\n",
              "    </tr>\n",
              "  </tbody>\n",
              "</table>\n",
              "</div>\n",
              "      <button class=\"colab-df-convert\" onclick=\"convertToInteractive('df-d25af698-f714-4951-b276-fb7050dc13df')\"\n",
              "              title=\"Convert this dataframe to an interactive table.\"\n",
              "              style=\"display:none;\">\n",
              "        \n",
              "  <svg xmlns=\"http://www.w3.org/2000/svg\" height=\"24px\"viewBox=\"0 0 24 24\"\n",
              "       width=\"24px\">\n",
              "    <path d=\"M0 0h24v24H0V0z\" fill=\"none\"/>\n",
              "    <path d=\"M18.56 5.44l.94 2.06.94-2.06 2.06-.94-2.06-.94-.94-2.06-.94 2.06-2.06.94zm-11 1L8.5 8.5l.94-2.06 2.06-.94-2.06-.94L8.5 2.5l-.94 2.06-2.06.94zm10 10l.94 2.06.94-2.06 2.06-.94-2.06-.94-.94-2.06-.94 2.06-2.06.94z\"/><path d=\"M17.41 7.96l-1.37-1.37c-.4-.4-.92-.59-1.43-.59-.52 0-1.04.2-1.43.59L10.3 9.45l-7.72 7.72c-.78.78-.78 2.05 0 2.83L4 21.41c.39.39.9.59 1.41.59.51 0 1.02-.2 1.41-.59l7.78-7.78 2.81-2.81c.8-.78.8-2.07 0-2.86zM5.41 20L4 18.59l7.72-7.72 1.47 1.35L5.41 20z\"/>\n",
              "  </svg>\n",
              "      </button>\n",
              "      \n",
              "  <style>\n",
              "    .colab-df-container {\n",
              "      display:flex;\n",
              "      flex-wrap:wrap;\n",
              "      gap: 12px;\n",
              "    }\n",
              "\n",
              "    .colab-df-convert {\n",
              "      background-color: #E8F0FE;\n",
              "      border: none;\n",
              "      border-radius: 50%;\n",
              "      cursor: pointer;\n",
              "      display: none;\n",
              "      fill: #1967D2;\n",
              "      height: 32px;\n",
              "      padding: 0 0 0 0;\n",
              "      width: 32px;\n",
              "    }\n",
              "\n",
              "    .colab-df-convert:hover {\n",
              "      background-color: #E2EBFA;\n",
              "      box-shadow: 0px 1px 2px rgba(60, 64, 67, 0.3), 0px 1px 3px 1px rgba(60, 64, 67, 0.15);\n",
              "      fill: #174EA6;\n",
              "    }\n",
              "\n",
              "    [theme=dark] .colab-df-convert {\n",
              "      background-color: #3B4455;\n",
              "      fill: #D2E3FC;\n",
              "    }\n",
              "\n",
              "    [theme=dark] .colab-df-convert:hover {\n",
              "      background-color: #434B5C;\n",
              "      box-shadow: 0px 1px 3px 1px rgba(0, 0, 0, 0.15);\n",
              "      filter: drop-shadow(0px 1px 2px rgba(0, 0, 0, 0.3));\n",
              "      fill: #FFFFFF;\n",
              "    }\n",
              "  </style>\n",
              "\n",
              "      <script>\n",
              "        const buttonEl =\n",
              "          document.querySelector('#df-d25af698-f714-4951-b276-fb7050dc13df button.colab-df-convert');\n",
              "        buttonEl.style.display =\n",
              "          google.colab.kernel.accessAllowed ? 'block' : 'none';\n",
              "\n",
              "        async function convertToInteractive(key) {\n",
              "          const element = document.querySelector('#df-d25af698-f714-4951-b276-fb7050dc13df');\n",
              "          const dataTable =\n",
              "            await google.colab.kernel.invokeFunction('convertToInteractive',\n",
              "                                                     [key], {});\n",
              "          if (!dataTable) return;\n",
              "\n",
              "          const docLinkHtml = 'Like what you see? Visit the ' +\n",
              "            '<a target=\"_blank\" href=https://colab.research.google.com/notebooks/data_table.ipynb>data table notebook</a>'\n",
              "            + ' to learn more about interactive tables.';\n",
              "          element.innerHTML = '';\n",
              "          dataTable['output_type'] = 'display_data';\n",
              "          await google.colab.output.renderOutput(dataTable, element);\n",
              "          const docLink = document.createElement('div');\n",
              "          docLink.innerHTML = docLinkHtml;\n",
              "          element.appendChild(docLink);\n",
              "        }\n",
              "      </script>\n",
              "    </div>\n",
              "  </div>\n",
              "  "
            ]
          },
          "metadata": {},
          "execution_count": 131
        }
      ]
    },
    {
      "cell_type": "markdown",
      "source": [
        "* A priori in the train data is 3.645%, which is strongly imbalanced.  \n",
        "* From the means we can conclude that for most variables the value is zero in most cases."
      ],
      "metadata": {
        "id": "I43-OWGiGsuw"
      }
    },
    {
      "cell_type": "code",
      "source": [
        "# target 0,1 이므로 합을 구하면 1의 개수 알 수 있음\n",
        "# DataFrame의 열의 개수 >>len(df), df.shape[0], len(df.index)\n",
        "train['target'].sum()/len(train)"
      ],
      "metadata": {
        "colab": {
          "base_uri": "https://localhost:8080/"
        },
        "id": "ER3sZcX8JPqz",
        "outputId": "23433750-c84b-4700-da34-9159bc2ba2bb"
      },
      "execution_count": 132,
      "outputs": [
        {
          "output_type": "execute_result",
          "data": {
            "text/plain": [
              "0.036447517859182946"
            ]
          },
          "metadata": {},
          "execution_count": 132
        }
      ]
    },
    {
      "cell_type": "code",
      "source": [
        "print(train['target'].sum())\n",
        "print(len(train))\n",
        "print(len(train)-train['target'].sum())\n",
        "print(train['target'].sum()/len(train))\n"
      ],
      "metadata": {
        "colab": {
          "base_uri": "https://localhost:8080/"
        },
        "id": "K0_hqUdwhrrQ",
        "outputId": "147815d5-8feb-4484-ff5b-71a620b72b73"
      },
      "execution_count": 133,
      "outputs": [
        {
          "output_type": "stream",
          "name": "stdout",
          "text": [
            "21694\n",
            "595212\n",
            "573518\n",
            "0.036447517859182946\n"
          ]
        }
      ]
    },
    {
      "cell_type": "markdown",
      "source": [
        "### 4. Handling imbalanced classes\n",
        "As we mentioned above the proportion of records with target=1 is far less than target=0. This can lead to a model that has great accuracy but does have any added value in practice. Two possible strategies to deal with this problem are:\n",
        " >oversampling records with target=1  \n",
        " >undersampling records with target=0  \n",
        " \n",
        "As we have a rather large training set, we can go for undersampling.\n"
      ],
      "metadata": {
        "id": "eBgQRC5PHcZ7"
      }
    },
    {
      "cell_type": "markdown",
      "source": [
        "* randomstate  \n",
        "https://rfriend.tistory.com/519  \n",
        "* 불균형 데이터 문제  \n",
        "https://velog.io/@cleansky/%EC%9D%B8%EC%82%AC%EC%9D%B4%EB%93%9C-%EB%A8%B8%EC%8B%A0%EB%9F%AC%EB%8B%9D-%EB%B6%88%EA%B7%A0%ED%98%95-%EB%8D%B0%EC%9D%B4%ED%84%B0-%EC%83%98%ED%94%8C%EB%A7%81"
      ],
      "metadata": {
        "id": "Y5bnvdrioSDF"
      }
    },
    {
      "cell_type": "code",
      "source": [
        "desired_apriori=0.10\n",
        "\n",
        "# Get the indices per target value\n",
        "idx_0 = train[train.target == 0].index\n",
        "idx_1 = train[train.target == 1].index\n",
        "\n",
        "# Get original number of records per target value\n",
        "nb_0 = len(train.loc[idx_0])\n",
        "nb_1 = len(train.loc[idx_1])\n",
        "\n",
        "# Calculate the undersampling rate and resulting number of records with target=0\n",
        "# undersampling_rate 가 undersampled_nb_0/nb_0 같은데 왜 아래 수식을 썼을까?\n",
        "undersampling_rate = ((1-desired_apriori)*nb_1)/(nb_0*desired_apriori)\n",
        "undersampled_nb_0 = int(undersampling_rate*nb_0)\n",
        "print('Rate to undersample records with target=0: {}'.format(undersampling_rate))\n",
        "print('Number of records with target=0 after undersampling: {}'.format(undersampled_nb_0))\n",
        "\n",
        "# Randomly select records with target=0 to get at the desired a priori\n",
        "# random_state 는 재현가능(for reproducibility)하도록 난수의 초기값을 설정해주는 것이며, 아무 숫자나 넣어주면 됩니다. shuffle=True 가 디폴트 설정이므로 생략 가능합니다. \n",
        "# 기존의 0을 갖는 target 컬럼의 인덱스 중에서 undersampled_nb_0 개의 값을 랜덤으로 뽑겠다\n",
        "undersampled_idx = shuffle(idx_0, random_state=37, n_samples=undersampled_nb_0)\n",
        "\n",
        "# Construct list with remaining indices\n",
        "idx_list = list(undersampled_idx) + list(idx_1)\n",
        "\n",
        "# Return undersample data frame\n",
        "train = train.loc[idx_list].reset_index(drop=True)"
      ],
      "metadata": {
        "colab": {
          "base_uri": "https://localhost:8080/"
        },
        "id": "YDv_YWPm_96T",
        "outputId": "0149984b-dfbe-4c70-d47b-d942e4224339"
      },
      "execution_count": 134,
      "outputs": [
        {
          "output_type": "stream",
          "name": "stdout",
          "text": [
            "Rate to undersample records with target=0: 0.34043569687437886\n",
            "Number of records with target=0 after undersampling: 195246\n"
          ]
        }
      ]
    },
    {
      "cell_type": "markdown",
      "source": [
        "* Rate to undersample records with target=0: 0.34043569687437886\n",
        "* Number of records with target=0 after undersampling: 195246"
      ],
      "metadata": {
        "id": "zj0Rw9bdLWvo"
      }
    },
    {
      "cell_type": "markdown",
      "source": [
        "### 5. Data quality checks"
      ],
      "metadata": {
        "id": "w1Pz4mAyLfpv"
      }
    },
    {
      "cell_type": "markdown",
      "source": [
        "Checking missing values"
      ],
      "metadata": {
        "id": "8he7LmMGqtwP"
      }
    },
    {
      "cell_type": "code",
      "source": [
        "vars_with_missing = []\n",
        "\n",
        "for f in train.columns:\n",
        "    missings = train[train[f] == -1][f].count() #특정 컬럼의 -1을 갖는 행의 개수\n",
        "    if missings > 0:\n",
        "        vars_with_missing.append(f)\n",
        "        missings_perc = missings/train.shape[0] # 특정 컬럼에서 missing 행의 개수\n",
        "        \n",
        "        print('Variable {} has {} records ({:.2%}) with missing values'.format(f, missings, missings_perc))\n",
        "        \n",
        "print('In total, there are {} variables with missing values'.format(len(vars_with_missing)))"
      ],
      "metadata": {
        "colab": {
          "base_uri": "https://localhost:8080/"
        },
        "id": "ufzTUlAEF0E9",
        "outputId": "1a682846-2c29-4376-e88d-42160ea48f56"
      },
      "execution_count": 135,
      "outputs": [
        {
          "output_type": "stream",
          "name": "stdout",
          "text": [
            "Variable ps_ind_02_cat has 103 records (0.05%) with missing values\n",
            "Variable ps_ind_04_cat has 51 records (0.02%) with missing values\n",
            "Variable ps_ind_05_cat has 2256 records (1.04%) with missing values\n",
            "Variable ps_reg_03 has 38580 records (17.78%) with missing values\n",
            "Variable ps_car_01_cat has 62 records (0.03%) with missing values\n",
            "Variable ps_car_02_cat has 2 records (0.00%) with missing values\n",
            "Variable ps_car_03_cat has 148367 records (68.39%) with missing values\n",
            "Variable ps_car_05_cat has 96026 records (44.26%) with missing values\n",
            "Variable ps_car_07_cat has 4431 records (2.04%) with missing values\n",
            "Variable ps_car_09_cat has 230 records (0.11%) with missing values\n",
            "Variable ps_car_11 has 1 records (0.00%) with missing values\n",
            "Variable ps_car_14 has 15726 records (7.25%) with missing values\n",
            "In total, there are 12 variables with missing values\n"
          ]
        }
      ]
    },
    {
      "cell_type": "code",
      "source": [
        "# Dropping the variables with too many missing values\n",
        "vars_to_drop = ['ps_car_03_cat', 'ps_car_05_cat']\n",
        "train.drop(vars_to_drop, inplace=True, axis=1)\n",
        "meta.loc[(vars_to_drop),'keep'] = False  # Updating the meta"
      ],
      "metadata": {
        "id": "bfyQrw_oF0CR"
      },
      "execution_count": 136,
      "outputs": []
    },
    {
      "cell_type": "code",
      "source": [
        "# imputer 대신 SimpleImputer(missing_values=np.nan, strategy='mean')\n",
        "# SimpleImputer parameter에 axis 없음. 제거하고 돌리겠음 \n",
        "mean_imp = SimpleImputer(missing_values=-1, strategy='mean') #, axis=0\n",
        "mode_imp = SimpleImputer(missing_values=-1, strategy='most_frequent') #, axis=0\n",
        "train['ps_reg_03'] = mean_imp.fit_transform(train[['ps_reg_03']]).ravel()\n",
        "train['ps_car_12'] = mean_imp.fit_transform(train[['ps_car_12']]).ravel()\n",
        "train['ps_car_14'] = mean_imp.fit_transform(train[['ps_car_14']]).ravel()\n",
        "train['ps_car_11'] = mode_imp.fit_transform(train[['ps_car_11']]).ravel()"
      ],
      "metadata": {
        "id": "C8t6GL9jFz57"
      },
      "execution_count": 137,
      "outputs": []
    },
    {
      "cell_type": "markdown",
      "source": [
        "Checking the cardinality of the categorical variables"
      ],
      "metadata": {
        "id": "3zXbpGP8q0MW"
      }
    },
    {
      "cell_type": "code",
      "source": [
        "train['ps_ind_02_cat'].value_counts()"
      ],
      "metadata": {
        "colab": {
          "base_uri": "https://localhost:8080/"
        },
        "id": "oOwWk_flrfAJ",
        "outputId": "40fca140-0355-41a3-a3d4-4b4b97b65833"
      },
      "execution_count": 138,
      "outputs": [
        {
          "output_type": "execute_result",
          "data": {
            "text/plain": [
              " 1    157124\n",
              " 2     45273\n",
              " 3     10310\n",
              " 4      4130\n",
              "-1       103\n",
              "Name: ps_ind_02_cat, dtype: int64"
            ]
          },
          "metadata": {},
          "execution_count": 138
        }
      ]
    },
    {
      "cell_type": "code",
      "source": [
        "# \"\"\" 'cat' in f or f =='id': level = 'nominal' \"\"\" 이었고, id만 keep=False\n",
        "v = meta[(meta.level == 'nominal') & (meta.keep)].index #cat 컬럼만 모으기\n",
        "\n",
        "for f in v:\n",
        "    dist_values = train[f].value_counts().shape[0] #value_counts를 통해 고유값 개수 카운트\n",
        "    print('Variable {} has {} distinct values'.format(f, dist_values))"
      ],
      "metadata": {
        "colab": {
          "base_uri": "https://localhost:8080/"
        },
        "id": "o8GAlya5LcLO",
        "outputId": "ae5a9242-c11c-47e8-9561-e5dc96ebc089"
      },
      "execution_count": 139,
      "outputs": [
        {
          "output_type": "stream",
          "name": "stdout",
          "text": [
            "Variable ps_ind_02_cat has 5 distinct values\n",
            "Variable ps_ind_04_cat has 3 distinct values\n",
            "Variable ps_ind_05_cat has 8 distinct values\n",
            "Variable ps_car_01_cat has 13 distinct values\n",
            "Variable ps_car_02_cat has 3 distinct values\n",
            "Variable ps_car_04_cat has 10 distinct values\n",
            "Variable ps_car_06_cat has 18 distinct values\n",
            "Variable ps_car_07_cat has 3 distinct values\n",
            "Variable ps_car_08_cat has 2 distinct values\n",
            "Variable ps_car_09_cat has 6 distinct values\n",
            "Variable ps_car_10_cat has 3 distinct values\n",
            "Variable ps_car_11_cat has 104 distinct values\n"
          ]
        }
      ]
    },
    {
      "cell_type": "markdown",
      "source": [
        "음 어렵네^^^"
      ],
      "metadata": {
        "id": "of4GYCUvs927"
      }
    },
    {
      "cell_type": "code",
      "source": [
        "# Script by https://www.kaggle.com/ogrellier\n",
        "# Code: https://www.kaggle.com/ogrellier/python-target-encoding-for-categorical-features\n",
        "def add_noise(series, noise_level):\n",
        "    return series * (1 + noise_level * np.random.randn(len(series)))\n",
        "\n",
        "def target_encode(trn_series=None, \n",
        "                  tst_series=None, \n",
        "                  target=None, \n",
        "                  min_samples_leaf=1, \n",
        "                  smoothing=1,\n",
        "                  noise_level=0):\n",
        "    \"\"\"\n",
        "    Smoothing is computed like in the following paper by Daniele Micci-Barreca\n",
        "    https://kaggle2.blob.core.windows.net/forum-message-attachments/225952/7441/high%20cardinality%20categoricals.pdf\n",
        "    trn_series : training categorical feature as a pd.Series\n",
        "    tst_series : test categorical feature as a pd.Series\n",
        "    target : target data as a pd.Series\n",
        "    min_samples_leaf (int) : minimum samples to take category average into account\n",
        "    smoothing (int) : smoothing effect to balance categorical average vs prior  \n",
        "    \"\"\" \n",
        "    assert len(trn_series) == len(target)\n",
        "    assert trn_series.name == tst_series.name\n",
        "    temp = pd.concat([trn_series, target], axis=1)\n",
        "    # Compute target mean \n",
        "    averages = temp.groupby(by=trn_series.name)[target.name].agg([\"mean\", \"count\"])\n",
        "    # Compute smoothing\n",
        "    smoothing = 1 / (1 + np.exp(-(averages[\"count\"] - min_samples_leaf) / smoothing))\n",
        "    # Apply average function to all target data\n",
        "    prior = target.mean()\n",
        "    # The bigger the count the less full_avg is taken into account\n",
        "    averages[target.name] = prior * (1 - smoothing) + averages[\"mean\"] * smoothing\n",
        "    averages.drop([\"mean\", \"count\"], axis=1, inplace=True)\n",
        "    # Apply averages to trn and tst series\n",
        "    ft_trn_series = pd.merge(\n",
        "        trn_series.to_frame(trn_series.name),\n",
        "        averages.reset_index().rename(columns={'index': target.name, target.name: 'average'}),\n",
        "        on=trn_series.name,\n",
        "        how='left')['average'].rename(trn_series.name + '_mean').fillna(prior)\n",
        "    # pd.merge does not keep the index so restore it\n",
        "    ft_trn_series.index = trn_series.index \n",
        "    ft_tst_series = pd.merge(\n",
        "        tst_series.to_frame(tst_series.name),\n",
        "        averages.reset_index().rename(columns={'index': target.name, target.name: 'average'}),\n",
        "        on=tst_series.name,\n",
        "        how='left')['average'].rename(trn_series.name + '_mean').fillna(prior)\n",
        "    # pd.merge does not keep the index so restore it\n",
        "    ft_tst_series.index = tst_series.index\n",
        "    return add_noise(ft_trn_series, noise_level), add_noise(ft_tst_series, noise_level)"
      ],
      "metadata": {
        "id": "8qex9ukJLcDX"
      },
      "execution_count": 140,
      "outputs": []
    },
    {
      "cell_type": "code",
      "source": [
        "train_encoded, test_encoded = target_encode(train[\"ps_car_11_cat\"], \n",
        "                             test[\"ps_car_11_cat\"], \n",
        "                             target=train.target, \n",
        "                             min_samples_leaf=100,\n",
        "                             smoothing=10,\n",
        "                             noise_level=0.01)\n",
        "    \n",
        "train['ps_car_11_cat_te'] = train_encoded\n",
        "train.drop('ps_car_11_cat', axis=1, inplace=True)\n",
        "\n",
        "meta.loc['ps_car_11_cat','keep'] = False  # Updating the meta\n",
        "\n",
        "test['ps_car_11_cat_te'] = test_encoded\n",
        "test.drop('ps_car_11_cat', axis=1, inplace=True)"
      ],
      "metadata": {
        "id": "79fqqD1zLb4J"
      },
      "execution_count": 141,
      "outputs": []
    },
    {
      "cell_type": "markdown",
      "source": [
        "### 6. Exploratory data visualization\n",
        "Categorical variables  \n",
        "Interval variables"
      ],
      "metadata": {
        "id": "DqoCI5m3Zapr"
      }
    },
    {
      "cell_type": "code",
      "source": [
        "train[['ps_ind_02_cat', 'target']].groupby(['ps_ind_02_cat'],as_index=False).mean()"
      ],
      "metadata": {
        "colab": {
          "base_uri": "https://localhost:8080/",
          "height": 206
        },
        "id": "jWV9frTBthLK",
        "outputId": "2b24ab9d-3b4e-4193-8a88-1364b8e51898"
      },
      "execution_count": 142,
      "outputs": [
        {
          "output_type": "execute_result",
          "data": {
            "text/plain": [
              "   ps_ind_02_cat    target\n",
              "0             -1  0.388350\n",
              "1              1  0.098190\n",
              "2              2  0.104102\n",
              "3              3  0.101746\n",
              "4              4  0.112349"
            ],
            "text/html": [
              "\n",
              "  <div id=\"df-a280402f-665b-4b55-9035-35e80d6d62e8\">\n",
              "    <div class=\"colab-df-container\">\n",
              "      <div>\n",
              "<style scoped>\n",
              "    .dataframe tbody tr th:only-of-type {\n",
              "        vertical-align: middle;\n",
              "    }\n",
              "\n",
              "    .dataframe tbody tr th {\n",
              "        vertical-align: top;\n",
              "    }\n",
              "\n",
              "    .dataframe thead th {\n",
              "        text-align: right;\n",
              "    }\n",
              "</style>\n",
              "<table border=\"1\" class=\"dataframe\">\n",
              "  <thead>\n",
              "    <tr style=\"text-align: right;\">\n",
              "      <th></th>\n",
              "      <th>ps_ind_02_cat</th>\n",
              "      <th>target</th>\n",
              "    </tr>\n",
              "  </thead>\n",
              "  <tbody>\n",
              "    <tr>\n",
              "      <th>0</th>\n",
              "      <td>-1</td>\n",
              "      <td>0.388350</td>\n",
              "    </tr>\n",
              "    <tr>\n",
              "      <th>1</th>\n",
              "      <td>1</td>\n",
              "      <td>0.098190</td>\n",
              "    </tr>\n",
              "    <tr>\n",
              "      <th>2</th>\n",
              "      <td>2</td>\n",
              "      <td>0.104102</td>\n",
              "    </tr>\n",
              "    <tr>\n",
              "      <th>3</th>\n",
              "      <td>3</td>\n",
              "      <td>0.101746</td>\n",
              "    </tr>\n",
              "    <tr>\n",
              "      <th>4</th>\n",
              "      <td>4</td>\n",
              "      <td>0.112349</td>\n",
              "    </tr>\n",
              "  </tbody>\n",
              "</table>\n",
              "</div>\n",
              "      <button class=\"colab-df-convert\" onclick=\"convertToInteractive('df-a280402f-665b-4b55-9035-35e80d6d62e8')\"\n",
              "              title=\"Convert this dataframe to an interactive table.\"\n",
              "              style=\"display:none;\">\n",
              "        \n",
              "  <svg xmlns=\"http://www.w3.org/2000/svg\" height=\"24px\"viewBox=\"0 0 24 24\"\n",
              "       width=\"24px\">\n",
              "    <path d=\"M0 0h24v24H0V0z\" fill=\"none\"/>\n",
              "    <path d=\"M18.56 5.44l.94 2.06.94-2.06 2.06-.94-2.06-.94-.94-2.06-.94 2.06-2.06.94zm-11 1L8.5 8.5l.94-2.06 2.06-.94-2.06-.94L8.5 2.5l-.94 2.06-2.06.94zm10 10l.94 2.06.94-2.06 2.06-.94-2.06-.94-.94-2.06-.94 2.06-2.06.94z\"/><path d=\"M17.41 7.96l-1.37-1.37c-.4-.4-.92-.59-1.43-.59-.52 0-1.04.2-1.43.59L10.3 9.45l-7.72 7.72c-.78.78-.78 2.05 0 2.83L4 21.41c.39.39.9.59 1.41.59.51 0 1.02-.2 1.41-.59l7.78-7.78 2.81-2.81c.8-.78.8-2.07 0-2.86zM5.41 20L4 18.59l7.72-7.72 1.47 1.35L5.41 20z\"/>\n",
              "  </svg>\n",
              "      </button>\n",
              "      \n",
              "  <style>\n",
              "    .colab-df-container {\n",
              "      display:flex;\n",
              "      flex-wrap:wrap;\n",
              "      gap: 12px;\n",
              "    }\n",
              "\n",
              "    .colab-df-convert {\n",
              "      background-color: #E8F0FE;\n",
              "      border: none;\n",
              "      border-radius: 50%;\n",
              "      cursor: pointer;\n",
              "      display: none;\n",
              "      fill: #1967D2;\n",
              "      height: 32px;\n",
              "      padding: 0 0 0 0;\n",
              "      width: 32px;\n",
              "    }\n",
              "\n",
              "    .colab-df-convert:hover {\n",
              "      background-color: #E2EBFA;\n",
              "      box-shadow: 0px 1px 2px rgba(60, 64, 67, 0.3), 0px 1px 3px 1px rgba(60, 64, 67, 0.15);\n",
              "      fill: #174EA6;\n",
              "    }\n",
              "\n",
              "    [theme=dark] .colab-df-convert {\n",
              "      background-color: #3B4455;\n",
              "      fill: #D2E3FC;\n",
              "    }\n",
              "\n",
              "    [theme=dark] .colab-df-convert:hover {\n",
              "      background-color: #434B5C;\n",
              "      box-shadow: 0px 1px 3px 1px rgba(0, 0, 0, 0.15);\n",
              "      filter: drop-shadow(0px 1px 2px rgba(0, 0, 0, 0.3));\n",
              "      fill: #FFFFFF;\n",
              "    }\n",
              "  </style>\n",
              "\n",
              "      <script>\n",
              "        const buttonEl =\n",
              "          document.querySelector('#df-a280402f-665b-4b55-9035-35e80d6d62e8 button.colab-df-convert');\n",
              "        buttonEl.style.display =\n",
              "          google.colab.kernel.accessAllowed ? 'block' : 'none';\n",
              "\n",
              "        async function convertToInteractive(key) {\n",
              "          const element = document.querySelector('#df-a280402f-665b-4b55-9035-35e80d6d62e8');\n",
              "          const dataTable =\n",
              "            await google.colab.kernel.invokeFunction('convertToInteractive',\n",
              "                                                     [key], {});\n",
              "          if (!dataTable) return;\n",
              "\n",
              "          const docLinkHtml = 'Like what you see? Visit the ' +\n",
              "            '<a target=\"_blank\" href=https://colab.research.google.com/notebooks/data_table.ipynb>data table notebook</a>'\n",
              "            + ' to learn more about interactive tables.';\n",
              "          element.innerHTML = '';\n",
              "          dataTable['output_type'] = 'display_data';\n",
              "          await google.colab.output.renderOutput(dataTable, element);\n",
              "          const docLink = document.createElement('div');\n",
              "          docLink.innerHTML = docLinkHtml;\n",
              "          element.appendChild(docLink);\n",
              "        }\n",
              "      </script>\n",
              "    </div>\n",
              "  </div>\n",
              "  "
            ]
          },
          "metadata": {},
          "execution_count": 142
        }
      ]
    },
    {
      "cell_type": "code",
      "source": [
        "v = meta[(meta.level == 'nominal') & (meta.keep)].index #categorical value\n",
        "\n",
        "for f in v:\n",
        "    plt.figure()\n",
        "    fig, ax = plt.subplots(figsize=(20,10))\n",
        "    # Calculate the percentage of target=1 per category value\n",
        "    cat_perc = train[[f, 'target']].groupby([f],as_index=False).mean() # f컬럼의 고유값에 대해 target컬럼으로 평균값 구함 >> 값이 1에 가까울수록 target. 특정 값이 개수가 작을수도, 아니면 0값만 갖을수도\n",
        "    cat_perc.sort_values(by='target', ascending=False, inplace=True)\n",
        "    # Bar plot\n",
        "    # Order the bars descending on target mean\n",
        "    sns.barplot(ax=ax, x=f, y='target', data=cat_perc, order=cat_perc[f])\n",
        "    plt.ylabel('% target', fontsize=18)\n",
        "    plt.xlabel(f, fontsize=18)\n",
        "    plt.tick_params(axis='both', which='major', labelsize=18)\n",
        "    plt.show();"
      ],
      "metadata": {
        "colab": {
          "base_uri": "https://localhost:8080/",
          "height": 1000
        },
        "id": "O0DC3RdgZZdN",
        "outputId": "54327a6e-3bf4-43ae-b4ce-8687f4212eaf"
      },
      "execution_count": 143,
      "outputs": [
        {
          "output_type": "display_data",
          "data": {
            "text/plain": [
              "<Figure size 432x288 with 0 Axes>"
            ]
          },
          "metadata": {}
        },
        {
          "output_type": "display_data",
          "data": {
            "text/plain": [
              "<Figure size 1440x720 with 1 Axes>"
            ],
            "image/png": "[encoded data removed]"
          },
          "metadata": {
            "needs_background": "light"
          }
        },
        {
          "output_type": "display_data",
          "data": {
            "text/plain": [
              "<Figure size 432x288 with 0 Axes>"
            ]
          },
          "metadata": {}
        },
        {
          "output_type": "display_data",
          "data": {
            "text/plain": [
              "<Figure size 1440x720 with 1 Axes>"
            ],
            "image/png": "[encoded data removed]"
          },
          "metadata": {
            "needs_background": "light"
          }
        },
        {
          "output_type": "display_data",
          "data": {
            "text/plain": [
              "<Figure size 432x288 with 0 Axes>"
            ]
          },
          "metadata": {}
        },
        {
          "output_type": "display_data",
          "data": {
            "text/plain": [
              "<Figure size 1440x720 with 1 Axes>"
            ],
            "image/png": "[encoded data removed]"
          },
          "metadata": {
            "needs_background": "light"
          }
        },
        {
          "output_type": "display_data",
          "data": {
            "text/plain": [
              "<Figure size 432x288 with 0 Axes>"
            ]
          },
          "metadata": {}
        },
        {
          "output_type": "display_data",
          "data": {
            "text/plain": [
              "<Figure size 1440x720 with 1 Axes>"
            ],
            "image/png": "[encoded data removed]"
          },
          "metadata": {
            "needs_background": "light"
          }
        },
        {
          "output_type": "display_data",
          "data": {
            "text/plain": [
              "<Figure size 432x288 with 0 Axes>"
            ]
          },
          "metadata": {}
        },
        {
          "output_type": "display_data",
          "data": {
            "text/plain": [
              "<Figure size 1440x720 with 1 Axes>"
            ],
            "image/png": "[encoded data removed]"
          },
          "metadata": {
            "needs_background": "light"
          }
        },
        {
          "output_type": "display_data",
          "data": {
            "text/plain": [
              "<Figure size 432x288 with 0 Axes>"
            ]
          },
          "metadata": {}
        },
        {
          "output_type": "display_data",
          "data": {
            "text/plain": [
              "<Figure size 1440x720 with 1 Axes>"
            ],
            "image/png": "[encoded data removed]"
          },
          "metadata": {
            "needs_background": "light"
          }
        },
        {
          "output_type": "display_data",
          "data": {
            "text/plain": [
              "<Figure size 432x288 with 0 Axes>"
            ]
          },
          "metadata": {}
        },
        {
          "output_type": "display_data",
          "data": {
            "text/plain": [
              "<Figure size 1440x720 with 1 Axes>"
            ],
            "image/png": "[encoded data removed]"
          },
          "metadata": {
            "needs_background": "light"
          }
        },
        {
          "output_type": "display_data",
          "data": {
            "text/plain": [
              "<Figure size 432x288 with 0 Axes>"
            ]
          },
          "metadata": {}
        },
        {
          "output_type": "display_data",
          "data": {
            "text/plain": [
              "<Figure size 1440x720 with 1 Axes>"
            ],
            "image/png": "[encoded data removed]"
          },
          "metadata": {
            "needs_background": "light"
          }
        },
        {
          "output_type": "display_data",
          "data": {
            "text/plain": [
              "<Figure size 432x288 with 0 Axes>"
            ]
          },
          "metadata": {}
        },
        {
          "output_type": "display_data",
          "data": {
            "text/plain": [
              "<Figure size 1440x720 with 1 Axes>"
            ],
            "image/png": "[encoded data removed]"
          },
          "metadata": {
            "needs_background": "light"
          }
        },
        {
          "output_type": "display_data",
          "data": {
            "text/plain": [
              "<Figure size 432x288 with 0 Axes>"
            ]
          },
          "metadata": {}
        },
        {
          "output_type": "display_data",
          "data": {
            "text/plain": [
              "<Figure size 1440x720 with 1 Axes>"
            ],
            "image/png": "[encoded data removed]"
          },
          "metadata": {
            "needs_background": "light"
          }
        },
        {
          "output_type": "display_data",
          "data": {
            "text/plain": [
              "<Figure size 432x288 with 0 Axes>"
            ]
          },
          "metadata": {}
        },
        {
          "output_type": "display_data",
          "data": {
            "text/plain": [
              "<Figure size 1440x720 with 1 Axes>"
            ],
            "image/png": "[encoded data removed]"
          },
          "metadata": {
            "needs_background": "light"
          }
        }
      ]
    },
    {
      "cell_type": "markdown",
      "source": [
        "* As we can see from the variables with missing values, it is a good idea to keep the missing values as a separate category value, instead of replacing them by the mode for instance. The customers with a missing value appear to have a much higher (in some cases much lower) probability to ask for an insurance claim."
      ],
      "metadata": {
        "id": "pCl2B7cauq-M"
      }
    },
    {
      "cell_type": "code",
      "source": [
        "def corr_heatmap(v):\n",
        "    correlations = train[v].corr()\n",
        "\n",
        "    # Create color map ranging between two colors\n",
        "    cmap = sns.diverging_palette(220, 10, as_cmap=True)\n",
        "\n",
        "    fig, ax = plt.subplots(figsize=(10,10))\n",
        "    sns.heatmap(correlations, cmap=cmap, vmax=1.0, center=0, fmt='.2f',\n",
        "                square=True, linewidths=.5, annot=True, cbar_kws={\"shrink\": .75})\n",
        "    plt.show();\n",
        "    \n",
        "v = meta[(meta.level == 'interval') & (meta.keep)].index\n",
        "corr_heatmap(v)"
      ],
      "metadata": {
        "colab": {
          "base_uri": "https://localhost:8080/",
          "height": 538
        },
        "id": "4V6EtDcmZV5c",
        "outputId": "dee1e079-b9e3-42fa-9f65-face0965dd05"
      },
      "execution_count": 144,
      "outputs": [
        {
          "output_type": "display_data",
          "data": {
            "text/plain": [
              "<Figure size 720x720 with 2 Axes>"
            ],
            "image/png": "[encoded data removed]"
          },
          "metadata": {
            "needs_background": "light"
          }
        }
      ]
    },
    {
      "cell_type": "markdown",
      "source": [
        "* ps_reg_02 and ps_reg_03 (0.7)  \n",
        "ps_car_12 and ps_car13 (0.67)  \n",
        "ps_car_12 and ps_car14 (0.58)  \n",
        "ps_car_13 and ps_car15 (0.67)  "
      ],
      "metadata": {
        "id": "7WbuSUwFvxI_"
      }
    },
    {
      "cell_type": "code",
      "source": [
        "# take a sample of the train data to speed up the process\n",
        "s = train.sample(frac=0.1)"
      ],
      "metadata": {
        "id": "7IthPSV-Z0Bs"
      },
      "execution_count": 145,
      "outputs": []
    },
    {
      "cell_type": "markdown",
      "source": [
        "> ps_reg_02 and ps_reg_03\n",
        "\n",
        "\n"
      ],
      "metadata": {
        "id": "IU_uYOrzwE9t"
      }
    },
    {
      "cell_type": "code",
      "source": [
        "sns.lmplot(x='ps_reg_02', y='ps_reg_03', data=s, hue='target', palette='Set1', scatter_kws={'alpha':0.3})\n",
        "plt.show()"
      ],
      "metadata": {
        "colab": {
          "base_uri": "https://localhost:8080/",
          "height": 369
        },
        "id": "XiyjwWvfZ2jR",
        "outputId": "f276d9de-35d0-48a9-eef1-707c5ee3b6af"
      },
      "execution_count": 146,
      "outputs": [
        {
          "output_type": "display_data",
          "data": {
            "text/plain": [
              "<Figure size 402.375x360 with 1 Axes>"
            ],
            "image/png": "[encoded data removed]"
          },
          "metadata": {
            "needs_background": "light"
          }
        }
      ]
    },
    {
      "cell_type": "markdown",
      "source": [
        "> ps_car_12 and ps_car_13 >> 원본과 상이함  \n",
        "SimpleImputer(ps_reg_03, ps_car_12, ps_car_14, ps_car_11) 때문인가??"
      ],
      "metadata": {
        "id": "j7LWLgRPwKFN"
      }
    },
    {
      "cell_type": "code",
      "source": [
        "sns.lmplot(x='ps_car_12', y='ps_car_13', data=s, hue='target', palette='Set1', scatter_kws={'alpha':0.3})\n",
        "plt.show()"
      ],
      "metadata": {
        "colab": {
          "base_uri": "https://localhost:8080/",
          "height": 369
        },
        "id": "w9vPl5CBZ2gr",
        "outputId": "a9f1652c-f94c-41a6-9521-4259e149749c"
      },
      "execution_count": 147,
      "outputs": [
        {
          "output_type": "display_data",
          "data": {
            "text/plain": [
              "<Figure size 402.375x360 with 1 Axes>"
            ],
            "image/png": "[encoded data removed]"
          },
          "metadata": {
            "needs_background": "light"
          }
        }
      ]
    },
    {
      "cell_type": "markdown",
      "source": [
        "> ps_car_12 and ps_car_14 >> 원본과 상이함  \n",
        "SimpleImputer(ps_reg_03, ps_car_12, ps_car_14, ps_car_11) 때문인가??"
      ],
      "metadata": {
        "id": "FSLIIvuFwStO"
      }
    },
    {
      "cell_type": "code",
      "source": [
        "sns.lmplot(x='ps_car_12', y='ps_car_14', data=s, hue='target', palette='Set1', scatter_kws={'alpha':0.3})\n",
        "plt.show()"
      ],
      "metadata": {
        "colab": {
          "base_uri": "https://localhost:8080/",
          "height": 369
        },
        "id": "BkZAUcexZ2fC",
        "outputId": "b39580f6-f847-44ec-bcc6-f907c17022dd"
      },
      "execution_count": 148,
      "outputs": [
        {
          "output_type": "display_data",
          "data": {
            "text/plain": [
              "<Figure size 402.375x360 with 1 Axes>"
            ],
            "image/png": "[encoded data removed]"
          },
          "metadata": {
            "needs_background": "light"
          }
        }
      ]
    },
    {
      "cell_type": "markdown",
      "source": [
        "> ps_car_13 and ps_car_15 >> 원본과 상이함"
      ],
      "metadata": {
        "id": "81z5rJFewX9h"
      }
    },
    {
      "cell_type": "code",
      "source": [
        "sns.lmplot(x='ps_car_15', y='ps_car_13', data=s, hue='target', palette='Set1', scatter_kws={'alpha':0.3})\n",
        "plt.show()"
      ],
      "metadata": {
        "colab": {
          "base_uri": "https://localhost:8080/",
          "height": 369
        },
        "id": "SpqWVtHWZ2co",
        "outputId": "9fce0b6b-f3b9-4b16-f620-eef6853beb3c"
      },
      "execution_count": 149,
      "outputs": [
        {
          "output_type": "display_data",
          "data": {
            "text/plain": [
              "<Figure size 402.375x360 with 1 Axes>"
            ],
            "image/png": "[encoded data removed]"
          },
          "metadata": {
            "needs_background": "light"
          }
        }
      ]
    },
    {
      "cell_type": "markdown",
      "source": [
        "Checking the correlations between ordinal variables"
      ],
      "metadata": {
        "id": "8gTktDjJwbLq"
      }
    },
    {
      "cell_type": "code",
      "source": [
        "v = meta[(meta.level == 'ordinal') & (meta.keep)].index\n",
        "corr_heatmap(v)"
      ],
      "metadata": {
        "colab": {
          "base_uri": "https://localhost:8080/",
          "height": 539
        },
        "id": "Cowub7JjZ2Zp",
        "outputId": "e7ecf19d-08d7-4b5f-a853-fcc7e2d1c406"
      },
      "execution_count": 150,
      "outputs": [
        {
          "output_type": "display_data",
          "data": {
            "text/plain": [
              "<Figure size 720x720 with 2 Axes>"
            ],
            "image/png": "[encoded data removed]"
          },
          "metadata": {
            "needs_background": "light"
          }
        }
      ]
    },
    {
      "cell_type": "markdown",
      "source": [
        "### Feature engineering\n",
        " * Deifining the level  \n",
        " if 'bin' in f or f == 'target': level = 'binary'  \n",
        " elif 'cat' in f or f =='id': level = 'nominal'  \n",
        " elif train[f].dtype == float: level = 'interval'  \n",
        " elif train[f].dtype == int: level = 'ordinal'  "
      ],
      "metadata": {
        "id": "RYSS-ZzbaNwu"
      }
    },
    {
      "cell_type": "markdown",
      "source": [
        "Creating dummy variables  \n",
        "> The values of the categorical variables do not represent any order or magnitude. For instance, category 2 is not twice the value of category 1. Therefore we can create dummy variables to deal with that. We drop the first dummy variable as this information can be derived from the other dummy variables generated for the categories of the original variable."
      ],
      "metadata": {
        "id": "R1te0kwizo-C"
      }
    },
    {
      "cell_type": "code",
      "source": [
        "v = meta[(meta.level == 'nominal') & (meta.keep)].index\n",
        "print('Before dummification we have {} variables in train'.format(train.shape[1]))\n",
        "train = pd.get_dummies(train, columns=v, drop_first=True)\n",
        "print('After dummification we have {} variables in train'.format(train.shape[1]))"
      ],
      "metadata": {
        "colab": {
          "base_uri": "https://localhost:8080/"
        },
        "id": "A5wOV9WvZ2Wx",
        "outputId": "0aa04dd9-787c-4765-f398-967abd55b5bd"
      },
      "execution_count": 151,
      "outputs": [
        {
          "output_type": "stream",
          "name": "stdout",
          "text": [
            "Before dummification we have 57 variables in train\n",
            "After dummification we have 109 variables in train\n"
          ]
        }
      ]
    },
    {
      "cell_type": "markdown",
      "source": [
        "Creating interaction variables\n",
        "* 다항회귀 PolynomialFeatures()와 fit_transform()    \n",
        "https://rfriend.tistory.com/274"
      ],
      "metadata": {
        "id": "FeVdy2bf0ILE"
      }
    },
    {
      "cell_type": "code",
      "source": [
        "v = meta[(meta.level == 'interval') & (meta.keep)].index #train[f].dtype == float >> tain[v]는 실수값을 갖는 컬럼들의 모임\n",
        "poly = PolynomialFeatures(degree=2, interaction_only=False, include_bias=False)\n",
        "interactions = pd.DataFrame(data=poly.fit_transform(train[v]), columns=poly.get_feature_names(v)) #columns=poly.get_feature_names(v) 차원에 맞게 컬럼(벡터)만들어주는건가\n",
        "interactions.drop(v, axis=1, inplace=True)  # Remove the original columns\n",
        "# Concat the interaction variables to the train data >> df합치기_concat(axis=1이면 오른쪽 방향으로 붙여짐)\n",
        "print('Before creating interactions we have {} variables in train'.format(train.shape[1]))\n",
        "train = pd.concat([train, interactions], axis=1)\n",
        "print('After creating interactions we have {} variables in train'.format(train.shape[1]))"
      ],
      "metadata": {
        "colab": {
          "base_uri": "https://localhost:8080/"
        },
        "id": "cHiugC-fZ2TN",
        "outputId": "10adeb96-5849-4db5-806b-73ca9adcb7e2"
      },
      "execution_count": 152,
      "outputs": [
        {
          "output_type": "stream",
          "name": "stdout",
          "text": [
            "Before creating interactions we have 109 variables in train\n",
            "After creating interactions we have 164 variables in train\n"
          ]
        },
        {
          "output_type": "stream",
          "name": "stderr",
          "text": [
            "/usr/local/lib/python3.8/dist-packages/sklearn/utils/deprecation.py:87: FutureWarning: Function get_feature_names is deprecated; get_feature_names is deprecated in 1.0 and will be removed in 1.2. Please use get_feature_names_out instead.\n",
            "  warnings.warn(msg, category=FutureWarning)\n"
          ]
        }
      ]
    },
    {
      "cell_type": "code",
      "source": [
        "interactions.head(2)"
      ],
      "metadata": {
        "colab": {
          "base_uri": "https://localhost:8080/",
          "height": 193
        },
        "id": "6fhfH96h4vCo",
        "outputId": "1c3df5fc-08ec-4d49-fe41-98266e750b92"
      },
      "execution_count": 165,
      "outputs": [
        {
          "output_type": "execute_result",
          "data": {
            "text/plain": [
              "   ps_reg_01^2  ps_reg_01 ps_reg_02  ps_reg_01 ps_reg_03  ps_reg_01 ps_car_12  \\\n",
              "0         0.36                 0.36             0.502892             0.221269   \n",
              "1         0.81                 0.54             0.655596             0.381838   \n",
              "\n",
              "   ps_reg_01 ps_car_13  ps_reg_01 ps_car_14  ps_reg_01 ps_car_15  \\\n",
              "0             0.324362             0.207413                  1.2   \n",
              "1             0.344658             0.340933                  0.0   \n",
              "\n",
              "   ps_reg_01 ps_calc_01  ps_reg_01 ps_calc_02  ps_reg_01 ps_calc_03  \\\n",
              "0                  0.54                  0.18                  0.00   \n",
              "1                  0.18                  0.00                  0.54   \n",
              "\n",
              "   ps_reg_02^2  ps_reg_02 ps_reg_03  ps_reg_02 ps_car_12  ps_reg_02 ps_car_13  \\\n",
              "0         0.36             0.502892             0.221269             0.324362   \n",
              "1         0.36             0.437064             0.254558             0.229772   \n",
              "\n",
              "   ps_reg_02 ps_car_14  ps_reg_02 ps_car_15  ps_reg_02 ps_calc_01  \\\n",
              "0             0.207413                  1.2                  0.54   \n",
              "1             0.227288                  0.0                  0.12   \n",
              "\n",
              "   ps_reg_02 ps_calc_02  ps_reg_02 ps_calc_03  ps_reg_03^2  \\\n",
              "0                  0.18                  0.00     0.702500   \n",
              "1                  0.00                  0.36     0.530625   \n",
              "\n",
              "   ps_reg_03 ps_car_12  ps_reg_03 ps_car_13  ps_reg_03 ps_car_14  \\\n",
              "0             0.309095             0.453108             0.289739   \n",
              "1             0.309051             0.278958             0.275943   \n",
              "\n",
              "   ps_reg_03 ps_car_15  ps_reg_03 ps_calc_01  ps_reg_03 ps_calc_02  \\\n",
              "0             1.676305              0.754337              0.251446   \n",
              "1             0.000000              0.145688              0.000000   \n",
              "\n",
              "   ps_reg_03 ps_calc_03  ps_car_12^2  ps_car_12 ps_car_13  \\\n",
              "0              0.000000        0.136             0.199365   \n",
              "1              0.437064        0.180             0.162473   \n",
              "\n",
              "   ps_car_12 ps_car_14  ps_car_12 ps_car_15  ps_car_12 ps_calc_01  \\\n",
              "0             0.127483             0.737564              0.331904   \n",
              "1             0.160717             0.000000              0.084853   \n",
              "\n",
              "   ps_car_12 ps_calc_02  ps_car_12 ps_calc_03  ps_car_13^2  \\\n",
              "0              0.110635              0.000000     0.292252   \n",
              "1              0.000000              0.254558     0.146653   \n",
              "\n",
              "   ps_car_13 ps_car_14  ps_car_13 ps_car_15  ps_car_13 ps_calc_01  \\\n",
              "0             0.186880             1.081207              0.486543   \n",
              "1             0.145068             0.000000              0.076591   \n",
              "\n",
              "   ps_car_13 ps_calc_02  ps_car_13 ps_calc_03  ps_car_14^2  \\\n",
              "0              0.162181              0.000000       0.1195   \n",
              "1              0.000000              0.229772       0.1435   \n",
              "\n",
              "   ps_car_14 ps_car_15  ps_car_14 ps_calc_01  ps_car_14 ps_calc_02  \\\n",
              "0             0.691375              0.311119              0.103706   \n",
              "1             0.000000              0.075763              0.000000   \n",
              "\n",
              "   ps_car_14 ps_calc_03  ps_car_15^2  ps_car_15 ps_calc_01  \\\n",
              "0              0.000000          4.0                   1.8   \n",
              "1              0.227288          0.0                   0.0   \n",
              "\n",
              "   ps_car_15 ps_calc_02  ps_car_15 ps_calc_03  ps_calc_01^2  \\\n",
              "0                   0.6                   0.0          0.81   \n",
              "1                   0.0                   0.0          0.04   \n",
              "\n",
              "   ps_calc_01 ps_calc_02  ps_calc_01 ps_calc_03  ps_calc_02^2  \\\n",
              "0                   0.27                   0.00          0.09   \n",
              "1                   0.00                   0.12          0.00   \n",
              "\n",
              "   ps_calc_02 ps_calc_03  ps_calc_03^2  \n",
              "0                    0.0          0.00  \n",
              "1                    0.0          0.36  "
            ],
            "text/html": [
              "\n",
              "  <div id=\"df-d1b41d48-5824-4260-a8e0-8fe8ac9d4d91\">\n",
              "    <div class=\"colab-df-container\">\n",
              "      <div>\n",
              "<style scoped>\n",
              "    .dataframe tbody tr th:only-of-type {\n",
              "        vertical-align: middle;\n",
              "    }\n",
              "\n",
              "    .dataframe tbody tr th {\n",
              "        vertical-align: top;\n",
              "    }\n",
              "\n",
              "    .dataframe thead th {\n",
              "        text-align: right;\n",
              "    }\n",
              "</style>\n",
              "<table border=\"1\" class=\"dataframe\">\n",
              "  <thead>\n",
              "    <tr style=\"text-align: right;\">\n",
              "      <th></th>\n",
              "      <th>ps_reg_01^2</th>\n",
              "      <th>ps_reg_01 ps_reg_02</th>\n",
              "      <th>ps_reg_01 ps_reg_03</th>\n",
              "      <th>ps_reg_01 ps_car_12</th>\n",
              "      <th>ps_reg_01 ps_car_13</th>\n",
              "      <th>ps_reg_01 ps_car_14</th>\n",
              "      <th>ps_reg_01 ps_car_15</th>\n",
              "      <th>ps_reg_01 ps_calc_01</th>\n",
              "      <th>ps_reg_01 ps_calc_02</th>\n",
              "      <th>ps_reg_01 ps_calc_03</th>\n",
              "      <th>ps_reg_02^2</th>\n",
              "      <th>ps_reg_02 ps_reg_03</th>\n",
              "      <th>ps_reg_02 ps_car_12</th>\n",
              "      <th>ps_reg_02 ps_car_13</th>\n",
              "      <th>ps_reg_02 ps_car_14</th>\n",
              "      <th>ps_reg_02 ps_car_15</th>\n",
              "      <th>ps_reg_02 ps_calc_01</th>\n",
              "      <th>ps_reg_02 ps_calc_02</th>\n",
              "      <th>ps_reg_02 ps_calc_03</th>\n",
              "      <th>ps_reg_03^2</th>\n",
              "      <th>ps_reg_03 ps_car_12</th>\n",
              "      <th>ps_reg_03 ps_car_13</th>\n",
              "      <th>ps_reg_03 ps_car_14</th>\n",
              "      <th>ps_reg_03 ps_car_15</th>\n",
              "      <th>ps_reg_03 ps_calc_01</th>\n",
              "      <th>ps_reg_03 ps_calc_02</th>\n",
              "      <th>ps_reg_03 ps_calc_03</th>\n",
              "      <th>ps_car_12^2</th>\n",
              "      <th>ps_car_12 ps_car_13</th>\n",
              "      <th>ps_car_12 ps_car_14</th>\n",
              "      <th>ps_car_12 ps_car_15</th>\n",
              "      <th>ps_car_12 ps_calc_01</th>\n",
              "      <th>ps_car_12 ps_calc_02</th>\n",
              "      <th>ps_car_12 ps_calc_03</th>\n",
              "      <th>ps_car_13^2</th>\n",
              "      <th>ps_car_13 ps_car_14</th>\n",
              "      <th>ps_car_13 ps_car_15</th>\n",
              "      <th>ps_car_13 ps_calc_01</th>\n",
              "      <th>ps_car_13 ps_calc_02</th>\n",
              "      <th>ps_car_13 ps_calc_03</th>\n",
              "      <th>ps_car_14^2</th>\n",
              "      <th>ps_car_14 ps_car_15</th>\n",
              "      <th>ps_car_14 ps_calc_01</th>\n",
              "      <th>ps_car_14 ps_calc_02</th>\n",
              "      <th>ps_car_14 ps_calc_03</th>\n",
              "      <th>ps_car_15^2</th>\n",
              "      <th>ps_car_15 ps_calc_01</th>\n",
              "      <th>ps_car_15 ps_calc_02</th>\n",
              "      <th>ps_car_15 ps_calc_03</th>\n",
              "      <th>ps_calc_01^2</th>\n",
              "      <th>ps_calc_01 ps_calc_02</th>\n",
              "      <th>ps_calc_01 ps_calc_03</th>\n",
              "      <th>ps_calc_02^2</th>\n",
              "      <th>ps_calc_02 ps_calc_03</th>\n",
              "      <th>ps_calc_03^2</th>\n",
              "    </tr>\n",
              "  </thead>\n",
              "  <tbody>\n",
              "    <tr>\n",
              "      <th>0</th>\n",
              "      <td>0.36</td>\n",
              "      <td>0.36</td>\n",
              "      <td>0.502892</td>\n",
              "      <td>0.221269</td>\n",
              "      <td>0.324362</td>\n",
              "      <td>0.207413</td>\n",
              "      <td>1.2</td>\n",
              "      <td>0.54</td>\n",
              "      <td>0.18</td>\n",
              "      <td>0.00</td>\n",
              "      <td>0.36</td>\n",
              "      <td>0.502892</td>\n",
              "      <td>0.221269</td>\n",
              "      <td>0.324362</td>\n",
              "      <td>0.207413</td>\n",
              "      <td>1.2</td>\n",
              "      <td>0.54</td>\n",
              "      <td>0.18</td>\n",
              "      <td>0.00</td>\n",
              "      <td>0.702500</td>\n",
              "      <td>0.309095</td>\n",
              "      <td>0.453108</td>\n",
              "      <td>0.289739</td>\n",
              "      <td>1.676305</td>\n",
              "      <td>0.754337</td>\n",
              "      <td>0.251446</td>\n",
              "      <td>0.000000</td>\n",
              "      <td>0.136</td>\n",
              "      <td>0.199365</td>\n",
              "      <td>0.127483</td>\n",
              "      <td>0.737564</td>\n",
              "      <td>0.331904</td>\n",
              "      <td>0.110635</td>\n",
              "      <td>0.000000</td>\n",
              "      <td>0.292252</td>\n",
              "      <td>0.186880</td>\n",
              "      <td>1.081207</td>\n",
              "      <td>0.486543</td>\n",
              "      <td>0.162181</td>\n",
              "      <td>0.000000</td>\n",
              "      <td>0.1195</td>\n",
              "      <td>0.691375</td>\n",
              "      <td>0.311119</td>\n",
              "      <td>0.103706</td>\n",
              "      <td>0.000000</td>\n",
              "      <td>4.0</td>\n",
              "      <td>1.8</td>\n",
              "      <td>0.6</td>\n",
              "      <td>0.0</td>\n",
              "      <td>0.81</td>\n",
              "      <td>0.27</td>\n",
              "      <td>0.00</td>\n",
              "      <td>0.09</td>\n",
              "      <td>0.0</td>\n",
              "      <td>0.00</td>\n",
              "    </tr>\n",
              "    <tr>\n",
              "      <th>1</th>\n",
              "      <td>0.81</td>\n",
              "      <td>0.54</td>\n",
              "      <td>0.655596</td>\n",
              "      <td>0.381838</td>\n",
              "      <td>0.344658</td>\n",
              "      <td>0.340933</td>\n",
              "      <td>0.0</td>\n",
              "      <td>0.18</td>\n",
              "      <td>0.00</td>\n",
              "      <td>0.54</td>\n",
              "      <td>0.36</td>\n",
              "      <td>0.437064</td>\n",
              "      <td>0.254558</td>\n",
              "      <td>0.229772</td>\n",
              "      <td>0.227288</td>\n",
              "      <td>0.0</td>\n",
              "      <td>0.12</td>\n",
              "      <td>0.00</td>\n",
              "      <td>0.36</td>\n",
              "      <td>0.530625</td>\n",
              "      <td>0.309051</td>\n",
              "      <td>0.278958</td>\n",
              "      <td>0.275943</td>\n",
              "      <td>0.000000</td>\n",
              "      <td>0.145688</td>\n",
              "      <td>0.000000</td>\n",
              "      <td>0.437064</td>\n",
              "      <td>0.180</td>\n",
              "      <td>0.162473</td>\n",
              "      <td>0.160717</td>\n",
              "      <td>0.000000</td>\n",
              "      <td>0.084853</td>\n",
              "      <td>0.000000</td>\n",
              "      <td>0.254558</td>\n",
              "      <td>0.146653</td>\n",
              "      <td>0.145068</td>\n",
              "      <td>0.000000</td>\n",
              "      <td>0.076591</td>\n",
              "      <td>0.000000</td>\n",
              "      <td>0.229772</td>\n",
              "      <td>0.1435</td>\n",
              "      <td>0.000000</td>\n",
              "      <td>0.075763</td>\n",
              "      <td>0.000000</td>\n",
              "      <td>0.227288</td>\n",
              "      <td>0.0</td>\n",
              "      <td>0.0</td>\n",
              "      <td>0.0</td>\n",
              "      <td>0.0</td>\n",
              "      <td>0.04</td>\n",
              "      <td>0.00</td>\n",
              "      <td>0.12</td>\n",
              "      <td>0.00</td>\n",
              "      <td>0.0</td>\n",
              "      <td>0.36</td>\n",
              "    </tr>\n",
              "  </tbody>\n",
              "</table>\n",
              "</div>\n",
              "      <button class=\"colab-df-convert\" onclick=\"convertToInteractive('df-d1b41d48-5824-4260-a8e0-8fe8ac9d4d91')\"\n",
              "              title=\"Convert this dataframe to an interactive table.\"\n",
              "              style=\"display:none;\">\n",
              "        \n",
              "  <svg xmlns=\"http://www.w3.org/2000/svg\" height=\"24px\"viewBox=\"0 0 24 24\"\n",
              "       width=\"24px\">\n",
              "    <path d=\"M0 0h24v24H0V0z\" fill=\"none\"/>\n",
              "    <path d=\"M18.56 5.44l.94 2.06.94-2.06 2.06-.94-2.06-.94-.94-2.06-.94 2.06-2.06.94zm-11 1L8.5 8.5l.94-2.06 2.06-.94-2.06-.94L8.5 2.5l-.94 2.06-2.06.94zm10 10l.94 2.06.94-2.06 2.06-.94-2.06-.94-.94-2.06-.94 2.06-2.06.94z\"/><path d=\"M17.41 7.96l-1.37-1.37c-.4-.4-.92-.59-1.43-.59-.52 0-1.04.2-1.43.59L10.3 9.45l-7.72 7.72c-.78.78-.78 2.05 0 2.83L4 21.41c.39.39.9.59 1.41.59.51 0 1.02-.2 1.41-.59l7.78-7.78 2.81-2.81c.8-.78.8-2.07 0-2.86zM5.41 20L4 18.59l7.72-7.72 1.47 1.35L5.41 20z\"/>\n",
              "  </svg>\n",
              "      </button>\n",
              "      \n",
              "  <style>\n",
              "    .colab-df-container {\n",
              "      display:flex;\n",
              "      flex-wrap:wrap;\n",
              "      gap: 12px;\n",
              "    }\n",
              "\n",
              "    .colab-df-convert {\n",
              "      background-color: #E8F0FE;\n",
              "      border: none;\n",
              "      border-radius: 50%;\n",
              "      cursor: pointer;\n",
              "      display: none;\n",
              "      fill: #1967D2;\n",
              "      height: 32px;\n",
              "      padding: 0 0 0 0;\n",
              "      width: 32px;\n",
              "    }\n",
              "\n",
              "    .colab-df-convert:hover {\n",
              "      background-color: #E2EBFA;\n",
              "      box-shadow: 0px 1px 2px rgba(60, 64, 67, 0.3), 0px 1px 3px 1px rgba(60, 64, 67, 0.15);\n",
              "      fill: #174EA6;\n",
              "    }\n",
              "\n",
              "    [theme=dark] .colab-df-convert {\n",
              "      background-color: #3B4455;\n",
              "      fill: #D2E3FC;\n",
              "    }\n",
              "\n",
              "    [theme=dark] .colab-df-convert:hover {\n",
              "      background-color: #434B5C;\n",
              "      box-shadow: 0px 1px 3px 1px rgba(0, 0, 0, 0.15);\n",
              "      filter: drop-shadow(0px 1px 2px rgba(0, 0, 0, 0.3));\n",
              "      fill: #FFFFFF;\n",
              "    }\n",
              "  </style>\n",
              "\n",
              "      <script>\n",
              "        const buttonEl =\n",
              "          document.querySelector('#df-d1b41d48-5824-4260-a8e0-8fe8ac9d4d91 button.colab-df-convert');\n",
              "        buttonEl.style.display =\n",
              "          google.colab.kernel.accessAllowed ? 'block' : 'none';\n",
              "\n",
              "        async function convertToInteractive(key) {\n",
              "          const element = document.querySelector('#df-d1b41d48-5824-4260-a8e0-8fe8ac9d4d91');\n",
              "          const dataTable =\n",
              "            await google.colab.kernel.invokeFunction('convertToInteractive',\n",
              "                                                     [key], {});\n",
              "          if (!dataTable) return;\n",
              "\n",
              "          const docLinkHtml = 'Like what you see? Visit the ' +\n",
              "            '<a target=\"_blank\" href=https://colab.research.google.com/notebooks/data_table.ipynb>data table notebook</a>'\n",
              "            + ' to learn more about interactive tables.';\n",
              "          element.innerHTML = '';\n",
              "          dataTable['output_type'] = 'display_data';\n",
              "          await google.colab.output.renderOutput(dataTable, element);\n",
              "          const docLink = document.createElement('div');\n",
              "          docLink.innerHTML = docLinkHtml;\n",
              "          element.appendChild(docLink);\n",
              "        }\n",
              "      </script>\n",
              "    </div>\n",
              "  </div>\n",
              "  "
            ]
          },
          "metadata": {},
          "execution_count": 165
        }
      ]
    },
    {
      "cell_type": "code",
      "source": [
        "train.head(1)"
      ],
      "metadata": {
        "colab": {
          "base_uri": "https://localhost:8080/",
          "height": 191
        },
        "id": "T2fXFIJr5-0B",
        "outputId": "923ae897-321e-46a3-f32a-06e7a65ff6fb"
      },
      "execution_count": 154,
      "outputs": [
        {
          "output_type": "execute_result",
          "data": {
            "text/plain": [
              "       id  target  ps_ind_01  ps_ind_03  ps_ind_06_bin  ps_ind_07_bin  \\\n",
              "0  353762       0          1          1              1              0   \n",
              "\n",
              "   ps_ind_08_bin  ps_ind_09_bin  ps_ind_10_bin  ps_ind_11_bin  ps_ind_12_bin  \\\n",
              "0              0              0              0              0              0   \n",
              "\n",
              "   ps_ind_13_bin  ps_ind_14  ps_ind_15  ps_ind_16_bin  ps_ind_17_bin  \\\n",
              "0              0          0         11              0              1   \n",
              "\n",
              "   ps_ind_18_bin  ps_reg_01  ps_reg_02  ps_reg_03  ps_car_11  ps_car_12  \\\n",
              "0              0        0.6        0.6   0.838153          1   0.368782   \n",
              "\n",
              "   ps_car_13  ps_car_14  ps_car_15  ps_calc_01  ps_calc_02  ps_calc_03  \\\n",
              "0   0.540603   0.345688        2.0         0.9         0.3         0.0   \n",
              "\n",
              "   ps_calc_04  ps_calc_05  ps_calc_06  ps_calc_07  ps_calc_08  ps_calc_09  \\\n",
              "0           3           0           7           3           8           4   \n",
              "\n",
              "   ps_calc_10  ps_calc_11  ps_calc_12  ps_calc_13  ps_calc_14  ps_calc_15_bin  \\\n",
              "0           8           1           0           4           6               0   \n",
              "\n",
              "   ps_calc_16_bin  ps_calc_17_bin  ps_calc_18_bin  ps_calc_19_bin  \\\n",
              "0               1               1               0               0   \n",
              "\n",
              "   ps_calc_20_bin  ps_car_11_cat_te  ps_ind_02_cat_1  ps_ind_02_cat_2  \\\n",
              "0               1          0.093814                1                0   \n",
              "\n",
              "   ps_ind_02_cat_3  ps_ind_02_cat_4  ...  ps_reg_01 ps_car_14  \\\n",
              "0                0                0  ...             0.207413   \n",
              "\n",
              "   ps_reg_01 ps_car_15  ps_reg_01 ps_calc_01  ps_reg_01 ps_calc_02  \\\n",
              "0                  1.2                  0.54                  0.18   \n",
              "\n",
              "   ps_reg_01 ps_calc_03  ps_reg_02^2  ps_reg_02 ps_reg_03  \\\n",
              "0                   0.0         0.36             0.502892   \n",
              "\n",
              "   ps_reg_02 ps_car_12  ps_reg_02 ps_car_13  ps_reg_02 ps_car_14  \\\n",
              "0             0.221269             0.324362             0.207413   \n",
              "\n",
              "   ps_reg_02 ps_car_15  ps_reg_02 ps_calc_01  ps_reg_02 ps_calc_02  \\\n",
              "0                  1.2                  0.54                  0.18   \n",
              "\n",
              "   ps_reg_02 ps_calc_03  ps_reg_03^2  ps_reg_03 ps_car_12  \\\n",
              "0                   0.0       0.7025             0.309095   \n",
              "\n",
              "   ps_reg_03 ps_car_13  ps_reg_03 ps_car_14  ps_reg_03 ps_car_15  \\\n",
              "0             0.453108             0.289739             1.676305   \n",
              "\n",
              "   ps_reg_03 ps_calc_01  ps_reg_03 ps_calc_02  ps_reg_03 ps_calc_03  \\\n",
              "0              0.754337              0.251446                   0.0   \n",
              "\n",
              "   ps_car_12^2  ps_car_12 ps_car_13  ps_car_12 ps_car_14  ps_car_12 ps_car_15  \\\n",
              "0        0.136             0.199365             0.127483             0.737564   \n",
              "\n",
              "   ps_car_12 ps_calc_01  ps_car_12 ps_calc_02  ps_car_12 ps_calc_03  \\\n",
              "0              0.331904              0.110635                   0.0   \n",
              "\n",
              "   ps_car_13^2  ps_car_13 ps_car_14  ps_car_13 ps_car_15  \\\n",
              "0     0.292252              0.18688             1.081207   \n",
              "\n",
              "   ps_car_13 ps_calc_01  ps_car_13 ps_calc_02  ps_car_13 ps_calc_03  \\\n",
              "0              0.486543              0.162181                   0.0   \n",
              "\n",
              "   ps_car_14^2  ps_car_14 ps_car_15  ps_car_14 ps_calc_01  \\\n",
              "0       0.1195             0.691375              0.311119   \n",
              "\n",
              "   ps_car_14 ps_calc_02  ps_car_14 ps_calc_03  ps_car_15^2  \\\n",
              "0              0.103706                   0.0          4.0   \n",
              "\n",
              "   ps_car_15 ps_calc_01  ps_car_15 ps_calc_02  ps_car_15 ps_calc_03  \\\n",
              "0                   1.8                   0.6                   0.0   \n",
              "\n",
              "   ps_calc_01^2  ps_calc_01 ps_calc_02  ps_calc_01 ps_calc_03  ps_calc_02^2  \\\n",
              "0          0.81                   0.27                    0.0          0.09   \n",
              "\n",
              "   ps_calc_02 ps_calc_03  ps_calc_03^2  \n",
              "0                    0.0           0.0  \n",
              "\n",
              "[1 rows x 164 columns]"
            ],
            "text/html": [
              "\n",
              "  <div id=\"df-f3ae62e8-7acf-4820-8a43-796131971b77\">\n",
              "    <div class=\"colab-df-container\">\n",
              "      <div>\n",
              "<style scoped>\n",
              "    .dataframe tbody tr th:only-of-type {\n",
              "        vertical-align: middle;\n",
              "    }\n",
              "\n",
              "    .dataframe tbody tr th {\n",
              "        vertical-align: top;\n",
              "    }\n",
              "\n",
              "    .dataframe thead th {\n",
              "        text-align: right;\n",
              "    }\n",
              "</style>\n",
              "<table border=\"1\" class=\"dataframe\">\n",
              "  <thead>\n",
              "    <tr style=\"text-align: right;\">\n",
              "      <th></th>\n",
              "      <th>id</th>\n",
              "      <th>target</th>\n",
              "      <th>ps_ind_01</th>\n",
              "      <th>ps_ind_03</th>\n",
              "      <th>ps_ind_06_bin</th>\n",
              "      <th>ps_ind_07_bin</th>\n",
              "      <th>ps_ind_08_bin</th>\n",
              "      <th>ps_ind_09_bin</th>\n",
              "      <th>ps_ind_10_bin</th>\n",
              "      <th>ps_ind_11_bin</th>\n",
              "      <th>ps_ind_12_bin</th>\n",
              "      <th>ps_ind_13_bin</th>\n",
              "      <th>ps_ind_14</th>\n",
              "      <th>ps_ind_15</th>\n",
              "      <th>ps_ind_16_bin</th>\n",
              "      <th>ps_ind_17_bin</th>\n",
              "      <th>ps_ind_18_bin</th>\n",
              "      <th>ps_reg_01</th>\n",
              "      <th>ps_reg_02</th>\n",
              "      <th>ps_reg_03</th>\n",
              "      <th>ps_car_11</th>\n",
              "      <th>ps_car_12</th>\n",
              "      <th>ps_car_13</th>\n",
              "      <th>ps_car_14</th>\n",
              "      <th>ps_car_15</th>\n",
              "      <th>ps_calc_01</th>\n",
              "      <th>ps_calc_02</th>\n",
              "      <th>ps_calc_03</th>\n",
              "      <th>ps_calc_04</th>\n",
              "      <th>ps_calc_05</th>\n",
              "      <th>ps_calc_06</th>\n",
              "      <th>ps_calc_07</th>\n",
              "      <th>ps_calc_08</th>\n",
              "      <th>ps_calc_09</th>\n",
              "      <th>ps_calc_10</th>\n",
              "      <th>ps_calc_11</th>\n",
              "      <th>ps_calc_12</th>\n",
              "      <th>ps_calc_13</th>\n",
              "      <th>ps_calc_14</th>\n",
              "      <th>ps_calc_15_bin</th>\n",
              "      <th>ps_calc_16_bin</th>\n",
              "      <th>ps_calc_17_bin</th>\n",
              "      <th>ps_calc_18_bin</th>\n",
              "      <th>ps_calc_19_bin</th>\n",
              "      <th>ps_calc_20_bin</th>\n",
              "      <th>ps_car_11_cat_te</th>\n",
              "      <th>ps_ind_02_cat_1</th>\n",
              "      <th>ps_ind_02_cat_2</th>\n",
              "      <th>ps_ind_02_cat_3</th>\n",
              "      <th>ps_ind_02_cat_4</th>\n",
              "      <th>...</th>\n",
              "      <th>ps_reg_01 ps_car_14</th>\n",
              "      <th>ps_reg_01 ps_car_15</th>\n",
              "      <th>ps_reg_01 ps_calc_01</th>\n",
              "      <th>ps_reg_01 ps_calc_02</th>\n",
              "      <th>ps_reg_01 ps_calc_03</th>\n",
              "      <th>ps_reg_02^2</th>\n",
              "      <th>ps_reg_02 ps_reg_03</th>\n",
              "      <th>ps_reg_02 ps_car_12</th>\n",
              "      <th>ps_reg_02 ps_car_13</th>\n",
              "      <th>ps_reg_02 ps_car_14</th>\n",
              "      <th>ps_reg_02 ps_car_15</th>\n",
              "      <th>ps_reg_02 ps_calc_01</th>\n",
              "      <th>ps_reg_02 ps_calc_02</th>\n",
              "      <th>ps_reg_02 ps_calc_03</th>\n",
              "      <th>ps_reg_03^2</th>\n",
              "      <th>ps_reg_03 ps_car_12</th>\n",
              "      <th>ps_reg_03 ps_car_13</th>\n",
              "      <th>ps_reg_03 ps_car_14</th>\n",
              "      <th>ps_reg_03 ps_car_15</th>\n",
              "      <th>ps_reg_03 ps_calc_01</th>\n",
              "      <th>ps_reg_03 ps_calc_02</th>\n",
              "      <th>ps_reg_03 ps_calc_03</th>\n",
              "      <th>ps_car_12^2</th>\n",
              "      <th>ps_car_12 ps_car_13</th>\n",
              "      <th>ps_car_12 ps_car_14</th>\n",
              "      <th>ps_car_12 ps_car_15</th>\n",
              "      <th>ps_car_12 ps_calc_01</th>\n",
              "      <th>ps_car_12 ps_calc_02</th>\n",
              "      <th>ps_car_12 ps_calc_03</th>\n",
              "      <th>ps_car_13^2</th>\n",
              "      <th>ps_car_13 ps_car_14</th>\n",
              "      <th>ps_car_13 ps_car_15</th>\n",
              "      <th>ps_car_13 ps_calc_01</th>\n",
              "      <th>ps_car_13 ps_calc_02</th>\n",
              "      <th>ps_car_13 ps_calc_03</th>\n",
              "      <th>ps_car_14^2</th>\n",
              "      <th>ps_car_14 ps_car_15</th>\n",
              "      <th>ps_car_14 ps_calc_01</th>\n",
              "      <th>ps_car_14 ps_calc_02</th>\n",
              "      <th>ps_car_14 ps_calc_03</th>\n",
              "      <th>ps_car_15^2</th>\n",
              "      <th>ps_car_15 ps_calc_01</th>\n",
              "      <th>ps_car_15 ps_calc_02</th>\n",
              "      <th>ps_car_15 ps_calc_03</th>\n",
              "      <th>ps_calc_01^2</th>\n",
              "      <th>ps_calc_01 ps_calc_02</th>\n",
              "      <th>ps_calc_01 ps_calc_03</th>\n",
              "      <th>ps_calc_02^2</th>\n",
              "      <th>ps_calc_02 ps_calc_03</th>\n",
              "      <th>ps_calc_03^2</th>\n",
              "    </tr>\n",
              "  </thead>\n",
              "  <tbody>\n",
              "    <tr>\n",
              "      <th>0</th>\n",
              "      <td>353762</td>\n",
              "      <td>0</td>\n",
              "      <td>1</td>\n",
              "      <td>1</td>\n",
              "      <td>1</td>\n",
              "      <td>0</td>\n",
              "      <td>0</td>\n",
              "      <td>0</td>\n",
              "      <td>0</td>\n",
              "      <td>0</td>\n",
              "      <td>0</td>\n",
              "      <td>0</td>\n",
              "      <td>0</td>\n",
              "      <td>11</td>\n",
              "      <td>0</td>\n",
              "      <td>1</td>\n",
              "      <td>0</td>\n",
              "      <td>0.6</td>\n",
              "      <td>0.6</td>\n",
              "      <td>0.838153</td>\n",
              "      <td>1</td>\n",
              "      <td>0.368782</td>\n",
              "      <td>0.540603</td>\n",
              "      <td>0.345688</td>\n",
              "      <td>2.0</td>\n",
              "      <td>0.9</td>\n",
              "      <td>0.3</td>\n",
              "      <td>0.0</td>\n",
              "      <td>3</td>\n",
              "      <td>0</td>\n",
              "      <td>7</td>\n",
              "      <td>3</td>\n",
              "      <td>8</td>\n",
              "      <td>4</td>\n",
              "      <td>8</td>\n",
              "      <td>1</td>\n",
              "      <td>0</td>\n",
              "      <td>4</td>\n",
              "      <td>6</td>\n",
              "      <td>0</td>\n",
              "      <td>1</td>\n",
              "      <td>1</td>\n",
              "      <td>0</td>\n",
              "      <td>0</td>\n",
              "      <td>1</td>\n",
              "      <td>0.093814</td>\n",
              "      <td>1</td>\n",
              "      <td>0</td>\n",
              "      <td>0</td>\n",
              "      <td>0</td>\n",
              "      <td>...</td>\n",
              "      <td>0.207413</td>\n",
              "      <td>1.2</td>\n",
              "      <td>0.54</td>\n",
              "      <td>0.18</td>\n",
              "      <td>0.0</td>\n",
              "      <td>0.36</td>\n",
              "      <td>0.502892</td>\n",
              "      <td>0.221269</td>\n",
              "      <td>0.324362</td>\n",
              "      <td>0.207413</td>\n",
              "      <td>1.2</td>\n",
              "      <td>0.54</td>\n",
              "      <td>0.18</td>\n",
              "      <td>0.0</td>\n",
              "      <td>0.7025</td>\n",
              "      <td>0.309095</td>\n",
              "      <td>0.453108</td>\n",
              "      <td>0.289739</td>\n",
              "      <td>1.676305</td>\n",
              "      <td>0.754337</td>\n",
              "      <td>0.251446</td>\n",
              "      <td>0.0</td>\n",
              "      <td>0.136</td>\n",
              "      <td>0.199365</td>\n",
              "      <td>0.127483</td>\n",
              "      <td>0.737564</td>\n",
              "      <td>0.331904</td>\n",
              "      <td>0.110635</td>\n",
              "      <td>0.0</td>\n",
              "      <td>0.292252</td>\n",
              "      <td>0.18688</td>\n",
              "      <td>1.081207</td>\n",
              "      <td>0.486543</td>\n",
              "      <td>0.162181</td>\n",
              "      <td>0.0</td>\n",
              "      <td>0.1195</td>\n",
              "      <td>0.691375</td>\n",
              "      <td>0.311119</td>\n",
              "      <td>0.103706</td>\n",
              "      <td>0.0</td>\n",
              "      <td>4.0</td>\n",
              "      <td>1.8</td>\n",
              "      <td>0.6</td>\n",
              "      <td>0.0</td>\n",
              "      <td>0.81</td>\n",
              "      <td>0.27</td>\n",
              "      <td>0.0</td>\n",
              "      <td>0.09</td>\n",
              "      <td>0.0</td>\n",
              "      <td>0.0</td>\n",
              "    </tr>\n",
              "  </tbody>\n",
              "</table>\n",
              "<p>1 rows × 164 columns</p>\n",
              "</div>\n",
              "      <button class=\"colab-df-convert\" onclick=\"convertToInteractive('df-f3ae62e8-7acf-4820-8a43-796131971b77')\"\n",
              "              title=\"Convert this dataframe to an interactive table.\"\n",
              "              style=\"display:none;\">\n",
              "        \n",
              "  <svg xmlns=\"http://www.w3.org/2000/svg\" height=\"24px\"viewBox=\"0 0 24 24\"\n",
              "       width=\"24px\">\n",
              "    <path d=\"M0 0h24v24H0V0z\" fill=\"none\"/>\n",
              "    <path d=\"M18.56 5.44l.94 2.06.94-2.06 2.06-.94-2.06-.94-.94-2.06-.94 2.06-2.06.94zm-11 1L8.5 8.5l.94-2.06 2.06-.94-2.06-.94L8.5 2.5l-.94 2.06-2.06.94zm10 10l.94 2.06.94-2.06 2.06-.94-2.06-.94-.94-2.06-.94 2.06-2.06.94z\"/><path d=\"M17.41 7.96l-1.37-1.37c-.4-.4-.92-.59-1.43-.59-.52 0-1.04.2-1.43.59L10.3 9.45l-7.72 7.72c-.78.78-.78 2.05 0 2.83L4 21.41c.39.39.9.59 1.41.59.51 0 1.02-.2 1.41-.59l7.78-7.78 2.81-2.81c.8-.78.8-2.07 0-2.86zM5.41 20L4 18.59l7.72-7.72 1.47 1.35L5.41 20z\"/>\n",
              "  </svg>\n",
              "      </button>\n",
              "      \n",
              "  <style>\n",
              "    .colab-df-container {\n",
              "      display:flex;\n",
              "      flex-wrap:wrap;\n",
              "      gap: 12px;\n",
              "    }\n",
              "\n",
              "    .colab-df-convert {\n",
              "      background-color: #E8F0FE;\n",
              "      border: none;\n",
              "      border-radius: 50%;\n",
              "      cursor: pointer;\n",
              "      display: none;\n",
              "      fill: #1967D2;\n",
              "      height: 32px;\n",
              "      padding: 0 0 0 0;\n",
              "      width: 32px;\n",
              "    }\n",
              "\n",
              "    .colab-df-convert:hover {\n",
              "      background-color: #E2EBFA;\n",
              "      box-shadow: 0px 1px 2px rgba(60, 64, 67, 0.3), 0px 1px 3px 1px rgba(60, 64, 67, 0.15);\n",
              "      fill: #174EA6;\n",
              "    }\n",
              "\n",
              "    [theme=dark] .colab-df-convert {\n",
              "      background-color: #3B4455;\n",
              "      fill: #D2E3FC;\n",
              "    }\n",
              "\n",
              "    [theme=dark] .colab-df-convert:hover {\n",
              "      background-color: #434B5C;\n",
              "      box-shadow: 0px 1px 3px 1px rgba(0, 0, 0, 0.15);\n",
              "      filter: drop-shadow(0px 1px 2px rgba(0, 0, 0, 0.3));\n",
              "      fill: #FFFFFF;\n",
              "    }\n",
              "  </style>\n",
              "\n",
              "      <script>\n",
              "        const buttonEl =\n",
              "          document.querySelector('#df-f3ae62e8-7acf-4820-8a43-796131971b77 button.colab-df-convert');\n",
              "        buttonEl.style.display =\n",
              "          google.colab.kernel.accessAllowed ? 'block' : 'none';\n",
              "\n",
              "        async function convertToInteractive(key) {\n",
              "          const element = document.querySelector('#df-f3ae62e8-7acf-4820-8a43-796131971b77');\n",
              "          const dataTable =\n",
              "            await google.colab.kernel.invokeFunction('convertToInteractive',\n",
              "                                                     [key], {});\n",
              "          if (!dataTable) return;\n",
              "\n",
              "          const docLinkHtml = 'Like what you see? Visit the ' +\n",
              "            '<a target=\"_blank\" href=https://colab.research.google.com/notebooks/data_table.ipynb>data table notebook</a>'\n",
              "            + ' to learn more about interactive tables.';\n",
              "          element.innerHTML = '';\n",
              "          dataTable['output_type'] = 'display_data';\n",
              "          await google.colab.output.renderOutput(dataTable, element);\n",
              "          const docLink = document.createElement('div');\n",
              "          docLink.innerHTML = docLinkHtml;\n",
              "          element.appendChild(docLink);\n",
              "        }\n",
              "      </script>\n",
              "    </div>\n",
              "  </div>\n",
              "  "
            ]
          },
          "metadata": {},
          "execution_count": 154
        }
      ]
    },
    {
      "cell_type": "markdown",
      "source": [
        "### Feature selection"
      ],
      "metadata": {
        "id": "LTskFcaFaUwk"
      }
    },
    {
      "cell_type": "markdown",
      "source": [
        " removing features with no or a very low variance with VarianceThreshold  \n",
        ">By default it removes features with zero variance. This will not be applicable for this competition as we saw there are no zero-variance variables in the previous steps. But if we would remove features with less than 1% variance, we would remove 31 variables.\n"
      ],
      "metadata": {
        "id": "s7tkjEvv7MYU"
      }
    },
    {
      "cell_type": "code",
      "source": [
        "selector = VarianceThreshold(threshold=.01)\n",
        "selector.fit(train.drop(['id', 'target'], axis=1)) # Fit to train without id and target variables\n",
        "\n",
        "f = np.vectorize(lambda x : not x) # Function to toggle boolean array elements\n",
        "\n",
        "v = train.drop(['id', 'target'], axis=1).columns[f(selector.get_support())]\n",
        "print('{} variables have too low variance.'.format(len(v)))\n",
        "print('These variables are {}'.format(list(v)))"
      ],
      "metadata": {
        "colab": {
          "base_uri": "https://localhost:8080/"
        },
        "id": "JPGeLconZ2Qn",
        "outputId": "fb0b45a1-be03-436e-917d-bd575828816e"
      },
      "execution_count": 156,
      "outputs": [
        {
          "output_type": "stream",
          "name": "stdout",
          "text": [
            "28 variables have too low variance.\n",
            "These variables are ['ps_ind_10_bin', 'ps_ind_11_bin', 'ps_ind_12_bin', 'ps_ind_13_bin', 'ps_car_12', 'ps_car_14', 'ps_car_11_cat_te', 'ps_ind_05_cat_2', 'ps_ind_05_cat_5', 'ps_car_01_cat_1', 'ps_car_01_cat_2', 'ps_car_04_cat_3', 'ps_car_04_cat_4', 'ps_car_04_cat_5', 'ps_car_04_cat_6', 'ps_car_04_cat_7', 'ps_car_06_cat_2', 'ps_car_06_cat_5', 'ps_car_06_cat_8', 'ps_car_06_cat_12', 'ps_car_06_cat_16', 'ps_car_06_cat_17', 'ps_car_09_cat_4', 'ps_car_10_cat_1', 'ps_car_10_cat_2', 'ps_car_12^2', 'ps_car_12 ps_car_14', 'ps_car_14^2']\n"
          ]
        }
      ]
    },
    {
      "cell_type": "code",
      "source": [
        "v"
      ],
      "metadata": {
        "colab": {
          "base_uri": "https://localhost:8080/"
        },
        "id": "Qf0FNLwHNe3s",
        "outputId": "305de7cf-ae00-4519-8439-a4337e983c69"
      },
      "execution_count": 166,
      "outputs": [
        {
          "output_type": "execute_result",
          "data": {
            "text/plain": [
              "Index(['ps_ind_10_bin', 'ps_ind_11_bin', 'ps_ind_12_bin', 'ps_ind_13_bin',\n",
              "       'ps_car_12', 'ps_car_14', 'ps_car_11_cat_te', 'ps_ind_05_cat_2',\n",
              "       'ps_ind_05_cat_5', 'ps_car_01_cat_1', 'ps_car_01_cat_2',\n",
              "       'ps_car_04_cat_3', 'ps_car_04_cat_4', 'ps_car_04_cat_5',\n",
              "       'ps_car_04_cat_6', 'ps_car_04_cat_7', 'ps_car_06_cat_2',\n",
              "       'ps_car_06_cat_5', 'ps_car_06_cat_8', 'ps_car_06_cat_12',\n",
              "       'ps_car_06_cat_16', 'ps_car_06_cat_17', 'ps_car_09_cat_4',\n",
              "       'ps_car_10_cat_1', 'ps_car_10_cat_2', 'ps_car_12^2',\n",
              "       'ps_car_12 ps_car_14', 'ps_car_14^2'],\n",
              "      dtype='object')"
            ]
          },
          "metadata": {},
          "execution_count": 166
        }
      ]
    },
    {
      "cell_type": "code",
      "source": [
        "X_train = train.drop(['id', 'target'], axis=1)\n",
        "y_train = train['target']\n",
        "\n",
        "feat_labels = X_train.columns\n",
        "\n",
        "rf = RandomForestClassifier(n_estimators=1000, random_state=0, n_jobs=-1)\n",
        "\n",
        "rf.fit(X_train, y_train) #fit('input','target')\n",
        "importances = rf.feature_importances_\n",
        "\n",
        "indices = np.argsort(rf.feature_importances_)[::-1]\n",
        "\n",
        "for f in range(X_train.shape[1]):\n",
        "    print(\"%2d) %-*s %f\" % (f + 1, 30,feat_labels[indices[f]], importances[indices[f]])) # % 문자열"
      ],
      "metadata": {
        "colab": {
          "base_uri": "https://localhost:8080/"
        },
        "id": "iY-Qa5W-Z2OB",
        "outputId": "a6ea2ef4-690b-4084-ca26-a49bcea421e5"
      },
      "execution_count": 157,
      "outputs": [
        {
          "output_type": "stream",
          "name": "stdout",
          "text": [
            " 1) ps_car_11_cat_te               0.020985\n",
            " 2) ps_car_13                      0.017393\n",
            " 3) ps_car_13^2                    0.017255\n",
            " 4) ps_car_12 ps_car_13            0.017246\n",
            " 5) ps_car_13 ps_car_14            0.017134\n",
            " 6) ps_reg_03 ps_car_13            0.017116\n",
            " 7) ps_car_13 ps_car_15            0.016815\n",
            " 8) ps_reg_01 ps_car_13            0.016791\n",
            " 9) ps_reg_03 ps_car_14            0.016253\n",
            "10) ps_reg_03 ps_car_12            0.015556\n",
            "11) ps_reg_03 ps_car_15            0.015193\n",
            "12) ps_car_14 ps_car_15            0.015043\n",
            "13) ps_car_13 ps_calc_01           0.014747\n",
            "14) ps_car_13 ps_calc_02           0.014728\n",
            "15) ps_reg_02 ps_car_13            0.014669\n",
            "16) ps_car_13 ps_calc_03           0.014659\n",
            "17) ps_reg_01 ps_reg_03            0.014649\n",
            "18) ps_reg_01 ps_car_14            0.014439\n",
            "19) ps_reg_03^2                    0.014246\n",
            "20) ps_reg_03                      0.014224\n",
            "21) ps_reg_03 ps_calc_03           0.013822\n",
            "22) ps_reg_03 ps_calc_02           0.013807\n",
            "23) ps_reg_03 ps_calc_01           0.013683\n",
            "24) ps_car_14 ps_calc_02           0.013657\n",
            "25) ps_calc_10                     0.013613\n",
            "26) ps_car_14 ps_calc_01           0.013554\n",
            "27) ps_car_14 ps_calc_03           0.013467\n",
            "28) ps_calc_14                     0.013344\n",
            "29) ps_car_12 ps_car_14            0.012943\n",
            "30) ps_ind_03                      0.012914\n",
            "31) ps_car_14^2                    0.012814\n",
            "32) ps_car_14                      0.012751\n",
            "33) ps_reg_02 ps_car_14            0.012692\n",
            "34) ps_calc_11                     0.012630\n",
            "35) ps_reg_02 ps_reg_03            0.012542\n",
            "36) ps_ind_15                      0.012120\n",
            "37) ps_car_12 ps_car_15            0.010977\n",
            "38) ps_car_15 ps_calc_03           0.010897\n",
            "39) ps_car_15 ps_calc_02           0.010848\n",
            "40) ps_car_15 ps_calc_01           0.010822\n",
            "41) ps_calc_13                     0.010456\n",
            "42) ps_car_12 ps_calc_01           0.010453\n",
            "43) ps_car_12 ps_calc_03           0.010377\n",
            "44) ps_car_12 ps_calc_02           0.010325\n",
            "45) ps_reg_02 ps_car_15            0.010238\n",
            "46) ps_reg_01 ps_car_15            0.010212\n",
            "47) ps_calc_02 ps_calc_03          0.010078\n",
            "48) ps_calc_01 ps_calc_02          0.010041\n",
            "49) ps_calc_01 ps_calc_03          0.009984\n",
            "50) ps_calc_07                     0.009836\n",
            "51) ps_calc_08                     0.009808\n",
            "52) ps_reg_01 ps_car_12            0.009418\n",
            "53) ps_reg_02 ps_car_12            0.009276\n",
            "54) ps_reg_02 ps_calc_03           0.009268\n",
            "55) ps_reg_02 ps_calc_01           0.009240\n",
            "56) ps_reg_02 ps_calc_02           0.009199\n",
            "57) ps_reg_01 ps_calc_03           0.009090\n",
            "58) ps_calc_06                     0.009069\n",
            "59) ps_reg_01 ps_calc_02           0.009038\n",
            "60) ps_reg_01 ps_calc_01           0.009016\n",
            "61) ps_calc_09                     0.008824\n",
            "62) ps_ind_01                      0.008602\n",
            "63) ps_calc_05                     0.008347\n",
            "64) ps_calc_04                     0.008137\n",
            "65) ps_calc_12                     0.008073\n",
            "66) ps_reg_01 ps_reg_02            0.008073\n",
            "67) ps_car_15^2                    0.006153\n",
            "68) ps_car_15                      0.006150\n",
            "69) ps_calc_03^2                   0.005982\n",
            "70) ps_calc_01                     0.005967\n",
            "71) ps_calc_03                     0.005963\n",
            "72) ps_calc_01^2                   0.005942\n",
            "73) ps_calc_02^2                   0.005938\n",
            "74) ps_calc_02                     0.005926\n",
            "75) ps_car_12                      0.005361\n",
            "76) ps_car_12^2                    0.005341\n",
            "77) ps_reg_02                      0.004975\n",
            "78) ps_reg_02^2                    0.004963\n",
            "79) ps_reg_01                      0.004150\n",
            "80) ps_reg_01^2                    0.004127\n",
            "81) ps_car_11                      0.003785\n",
            "82) ps_ind_05_cat_0                0.003565\n",
            "83) ps_ind_17_bin                  0.002852\n",
            "84) ps_calc_17_bin                 0.002703\n",
            "85) ps_calc_16_bin                 0.002593\n",
            "86) ps_calc_19_bin                 0.002587\n",
            "87) ps_calc_18_bin                 0.002497\n",
            "88) ps_car_01_cat_11               0.002398\n",
            "89) ps_ind_04_cat_0                0.002392\n",
            "90) ps_ind_16_bin                  0.002381\n",
            "91) ps_ind_04_cat_1                0.002375\n",
            "92) ps_ind_07_bin                  0.002316\n",
            "93) ps_car_09_cat_2                0.002298\n",
            "94) ps_ind_02_cat_1                0.002244\n",
            "95) ps_car_09_cat_0                0.002119\n",
            "96) ps_car_01_cat_7                0.002114\n",
            "97) ps_ind_02_cat_2                0.002082\n",
            "98) ps_calc_20_bin                 0.002071\n",
            "99) ps_ind_06_bin                  0.002049\n",
            "100) ps_car_06_cat_1                0.001986\n",
            "101) ps_car_07_cat_1                0.001967\n",
            "102) ps_calc_15_bin                 0.001965\n",
            "103) ps_ind_08_bin                  0.001922\n",
            "104) ps_car_09_cat_1                0.001821\n",
            "105) ps_car_06_cat_11               0.001803\n",
            "106) ps_ind_09_bin                  0.001725\n",
            "107) ps_ind_18_bin                  0.001714\n",
            "108) ps_car_01_cat_9                0.001595\n",
            "109) ps_car_01_cat_10               0.001588\n",
            "110) ps_car_01_cat_6                0.001547\n",
            "111) ps_car_06_cat_14               0.001538\n",
            "112) ps_car_01_cat_4                0.001513\n",
            "113) ps_ind_05_cat_6                0.001504\n",
            "114) ps_ind_02_cat_3                0.001411\n",
            "115) ps_car_07_cat_0                0.001362\n",
            "116) ps_car_08_cat_1                0.001353\n",
            "117) ps_car_02_cat_1                0.001351\n",
            "118) ps_car_01_cat_8                0.001324\n",
            "119) ps_car_02_cat_0                0.001306\n",
            "120) ps_car_06_cat_4                0.001226\n",
            "121) ps_ind_05_cat_4                0.001207\n",
            "122) ps_ind_02_cat_4                0.001147\n",
            "123) ps_car_01_cat_5                0.001147\n",
            "124) ps_car_06_cat_6                0.001114\n",
            "125) ps_car_06_cat_10               0.001062\n",
            "126) ps_car_04_cat_1                0.001048\n",
            "127) ps_ind_05_cat_2                0.001034\n",
            "128) ps_car_04_cat_2                0.000990\n",
            "129) ps_car_06_cat_7                0.000979\n",
            "130) ps_car_01_cat_3                0.000905\n",
            "131) ps_car_09_cat_3                0.000873\n",
            "132) ps_car_01_cat_0                0.000864\n",
            "133) ps_ind_14                      0.000843\n",
            "134) ps_car_06_cat_15               0.000842\n",
            "135) ps_car_06_cat_9                0.000790\n",
            "136) ps_ind_05_cat_1                0.000740\n",
            "137) ps_car_10_cat_1                0.000702\n",
            "138) ps_car_06_cat_3                0.000698\n",
            "139) ps_ind_12_bin                  0.000681\n",
            "140) ps_ind_05_cat_3                0.000663\n",
            "141) ps_car_09_cat_4                0.000614\n",
            "142) ps_car_04_cat_8                0.000558\n",
            "143) ps_car_01_cat_2                0.000551\n",
            "144) ps_car_06_cat_17               0.000517\n",
            "145) ps_car_06_cat_16               0.000478\n",
            "146) ps_car_04_cat_9                0.000444\n",
            "147) ps_car_06_cat_12               0.000432\n",
            "148) ps_car_06_cat_13               0.000396\n",
            "149) ps_car_01_cat_1                0.000378\n",
            "150) ps_ind_05_cat_5                0.000320\n",
            "151) ps_car_06_cat_5                0.000284\n",
            "152) ps_ind_11_bin                  0.000212\n",
            "153) ps_car_04_cat_6                0.000196\n",
            "154) ps_ind_13_bin                  0.000150\n",
            "155) ps_car_04_cat_3                0.000145\n",
            "156) ps_car_06_cat_2                0.000140\n",
            "157) ps_car_06_cat_8                0.000102\n",
            "158) ps_car_04_cat_5                0.000099\n",
            "159) ps_car_04_cat_7                0.000083\n",
            "160) ps_ind_10_bin                  0.000075\n",
            "161) ps_car_10_cat_2                0.000061\n",
            "162) ps_car_04_cat_4                0.000044\n"
          ]
        }
      ]
    },
    {
      "cell_type": "markdown",
      "source": [
        "> With SelectFromModel we can specify which prefit classifier to use and what the threshold is for the feature importances. With the get_support method we can then limit the number of variables in the train data."
      ],
      "metadata": {
        "id": "qTr5yq64Qlem"
      }
    },
    {
      "cell_type": "code",
      "source": [
        "sfm = SelectFromModel(rf, threshold='median', prefit=True)\n",
        "print('Number of features before selection: {}'.format(X_train.shape[1]))\n",
        "n_features = sfm.transform(X_train).shape[1]\n",
        "print('Number of features after selection: {}'.format(n_features))\n",
        "selected_vars = list(feat_labels[sfm.get_support()])"
      ],
      "metadata": {
        "colab": {
          "base_uri": "https://localhost:8080/"
        },
        "id": "agPi2B8QZ2Lg",
        "outputId": "77429dae-a1ea-49ba-ef9e-7c351b27fb75"
      },
      "execution_count": 158,
      "outputs": [
        {
          "output_type": "stream",
          "name": "stdout",
          "text": [
            "Number of features before selection: 162\n"
          ]
        },
        {
          "output_type": "stream",
          "name": "stderr",
          "text": [
            "/usr/local/lib/python3.8/dist-packages/sklearn/base.py:443: UserWarning: X has feature names, but SelectFromModel was fitted without feature names\n",
            "  warnings.warn(\n"
          ]
        },
        {
          "output_type": "stream",
          "name": "stdout",
          "text": [
            "Number of features after selection: 81\n"
          ]
        }
      ]
    },
    {
      "cell_type": "code",
      "source": [
        "# 리스트 연산 활용 selected_vars + ['target']\n",
        "train = train[selected_vars + ['target']]"
      ],
      "metadata": {
        "id": "mLd2JfO5Z2Iu"
      },
      "execution_count": 159,
      "outputs": []
    },
    {
      "cell_type": "markdown",
      "source": [
        "### Feature scaling\n",
        "As mentioned before, we can apply standard scaling to the training data. Some classifiers perform better when this is done."
      ],
      "metadata": {
        "id": "ugwV0vg0fm0f"
      }
    },
    {
      "cell_type": "code",
      "source": [
        "scaler = StandardScaler()\n",
        "scaler.fit_transform(train.drop(['target'], axis=1))"
      ],
      "metadata": {
        "colab": {
          "base_uri": "https://localhost:8080/"
        },
        "id": "cOf7tWMRZ2GK",
        "outputId": "3e278b83-7b6d-4bb1-df27-d237f2291f3a"
      },
      "execution_count": 160,
      "outputs": [
        {
          "output_type": "execute_result",
          "data": {
            "text/plain": [
              "array([[-0.45941104, -1.26665356,  1.05087653, ..., -0.72553616,\n",
              "        -1.01071913, -1.06173767],\n",
              "       [ 1.55538958,  0.95034274, -0.63847299, ..., -1.06120876,\n",
              "        -1.01071913,  0.27907892],\n",
              "       [ 1.05168943, -0.52765479, -0.92003125, ...,  1.95984463,\n",
              "        -0.56215309, -1.02449277],\n",
              "       ...,\n",
              "       [-0.9631112 ,  0.58084336,  0.48776003, ..., -0.46445747,\n",
              "         0.18545696,  0.27907892],\n",
              "       [-0.9631112 , -0.89715418, -1.48314775, ..., -0.91202093,\n",
              "        -0.41263108,  0.27907892],\n",
              "       [-0.45941104, -1.26665356,  1.61399304, ...,  0.28148164,\n",
              "        -0.11358706, -0.72653353]])"
            ]
          },
          "metadata": {},
          "execution_count": 160
        }
      ]
    }
  ]
}